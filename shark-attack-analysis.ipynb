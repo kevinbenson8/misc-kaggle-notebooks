{
 "cells": [
  {
   "cell_type": "code",
   "execution_count": 1,
   "id": "6f7c7398",
   "metadata": {
    "_cell_guid": "b1076dfc-b9ad-4769-8c92-a6c4dae69d19",
    "_uuid": "8f2839f25d086af736a60e9eeb907d3b93b6e0e5",
    "execution": {
     "iopub.execute_input": "2023-07-11T13:56:38.278467Z",
     "iopub.status.busy": "2023-07-11T13:56:38.278050Z",
     "iopub.status.idle": "2023-07-11T13:56:38.298714Z",
     "shell.execute_reply": "2023-07-11T13:56:38.297560Z"
    },
    "papermill": {
     "duration": 0.037136,
     "end_time": "2023-07-11T13:56:38.301037",
     "exception": false,
     "start_time": "2023-07-11T13:56:38.263901",
     "status": "completed"
    },
    "tags": []
   },
   "outputs": [
    {
     "name": "stdout",
     "output_type": "stream",
     "text": [
      "/kaggle/input/global-shark-attack/global-shark-attack.csv\n"
     ]
    }
   ],
   "source": [
    "# This Python 3 environment comes with many helpful analytics libraries installed\n",
    "# It is defined by the kaggle/python Docker image: https://github.com/kaggle/docker-python\n",
    "# For example, here's several helpful packages to load\n",
    "\n",
    "import numpy as np # linear algebra\n",
    "import pandas as pd # data processing, CSV file I/O (e.g. pd.read_csv)\n",
    "\n",
    "# Input data files are available in the read-only \"../input/\" directory\n",
    "# For example, running this (by clicking run or pressing Shift+Enter) will list all files under the input directory\n",
    "\n",
    "import os\n",
    "for dirname, _, filenames in os.walk('/kaggle/input'):\n",
    "    for filename in filenames:\n",
    "        print(os.path.join(dirname, filename))\n",
    "\n",
    "# You can write up to 20GB to the current directory (/kaggle/working/) that gets preserved as output when you create a version using \"Save & Run All\" \n",
    "# You can also write temporary files to /kaggle/temp/, but they won't be saved outside of the current session"
   ]
  },
  {
   "cell_type": "markdown",
   "id": "e2ad8a97",
   "metadata": {
    "papermill": {
     "duration": 0.010545,
     "end_time": "2023-07-11T13:56:38.322360",
     "exception": false,
     "start_time": "2023-07-11T13:56:38.311815",
     "status": "completed"
    },
    "tags": []
   },
   "source": [
    "Let's take a look at a dataset from [opendatasoft](https://public.opendatasoft.com/explore/dataset/global-shark-attack/information/?disjunctive.country&disjunctive.area&disjunctive.activity) containing information about reported shark attacks until 2022."
   ]
  },
  {
   "cell_type": "code",
   "execution_count": 2,
   "id": "85521a4a",
   "metadata": {
    "execution": {
     "iopub.execute_input": "2023-07-11T13:56:38.345974Z",
     "iopub.status.busy": "2023-07-11T13:56:38.345146Z",
     "iopub.status.idle": "2023-07-11T13:56:38.544738Z",
     "shell.execute_reply": "2023-07-11T13:56:38.543449Z"
    },
    "papermill": {
     "duration": 0.214211,
     "end_time": "2023-07-11T13:56:38.547431",
     "exception": false,
     "start_time": "2023-07-11T13:56:38.333220",
     "status": "completed"
    },
    "tags": []
   },
   "outputs": [
    {
     "data": {
      "text/html": [
       "<div>\n",
       "<style scoped>\n",
       "    .dataframe tbody tr th:only-of-type {\n",
       "        vertical-align: middle;\n",
       "    }\n",
       "\n",
       "    .dataframe tbody tr th {\n",
       "        vertical-align: top;\n",
       "    }\n",
       "\n",
       "    .dataframe thead th {\n",
       "        text-align: right;\n",
       "    }\n",
       "</style>\n",
       "<table border=\"1\" class=\"dataframe\">\n",
       "  <thead>\n",
       "    <tr style=\"text-align: right;\">\n",
       "      <th></th>\n",
       "      <th>Date</th>\n",
       "      <th>Year</th>\n",
       "      <th>Type</th>\n",
       "      <th>Country</th>\n",
       "      <th>Area</th>\n",
       "      <th>Location</th>\n",
       "      <th>Activity</th>\n",
       "      <th>Name</th>\n",
       "      <th>Sex</th>\n",
       "      <th>Age</th>\n",
       "      <th>...</th>\n",
       "      <th>Fatal (Y/N)</th>\n",
       "      <th>Time</th>\n",
       "      <th>Species</th>\n",
       "      <th>Investigator or Source</th>\n",
       "      <th>pdf</th>\n",
       "      <th>href formula</th>\n",
       "      <th>href</th>\n",
       "      <th>Case Number</th>\n",
       "      <th>Case Number.1</th>\n",
       "      <th>original order</th>\n",
       "    </tr>\n",
       "  </thead>\n",
       "  <tbody>\n",
       "    <tr>\n",
       "      <th>0</th>\n",
       "      <td>2023-05-21</td>\n",
       "      <td>2023.0</td>\n",
       "      <td>Unprovoked</td>\n",
       "      <td>USA</td>\n",
       "      <td>New Jersey</td>\n",
       "      <td>Stone Harbor, Cape May County</td>\n",
       "      <td>Surfing</td>\n",
       "      <td>Maggie Drozdowski</td>\n",
       "      <td>F</td>\n",
       "      <td>15</td>\n",
       "      <td>...</td>\n",
       "      <td>N</td>\n",
       "      <td>15h00</td>\n",
       "      <td>NaN</td>\n",
       "      <td>J. Marchand, GSAF</td>\n",
       "      <td>NaN</td>\n",
       "      <td>NaN</td>\n",
       "      <td>NaN</td>\n",
       "      <td>NaN</td>\n",
       "      <td>NaN</td>\n",
       "      <td>NaN</td>\n",
       "    </tr>\n",
       "    <tr>\n",
       "      <th>1</th>\n",
       "      <td>2023-01-05</td>\n",
       "      <td>2023.0</td>\n",
       "      <td>Unprovoked</td>\n",
       "      <td>MeXICO</td>\n",
       "      <td>Gulf of California</td>\n",
       "      <td>Tobari Bay</td>\n",
       "      <td>Diving with  surface-supplied air</td>\n",
       "      <td>Manuel Nieblas López</td>\n",
       "      <td>M</td>\n",
       "      <td>53</td>\n",
       "      <td>...</td>\n",
       "      <td>Y</td>\n",
       "      <td>11h30</td>\n",
       "      <td>NaN</td>\n",
       "      <td>El imparcial., 1/5/2023</td>\n",
       "      <td>NaN</td>\n",
       "      <td>NaN</td>\n",
       "      <td>NaN</td>\n",
       "      <td>NaN</td>\n",
       "      <td>NaN</td>\n",
       "      <td>NaN</td>\n",
       "    </tr>\n",
       "    <tr>\n",
       "      <th>2</th>\n",
       "      <td>2022-08-15</td>\n",
       "      <td>2022.0</td>\n",
       "      <td>Unprovoked</td>\n",
       "      <td>USA</td>\n",
       "      <td>South Carolina</td>\n",
       "      <td>Myrtle Beach, Horry County</td>\n",
       "      <td>Standing</td>\n",
       "      <td>Karrren Sites</td>\n",
       "      <td>F</td>\n",
       "      <td>NaN</td>\n",
       "      <td>...</td>\n",
       "      <td>N</td>\n",
       "      <td>12h00</td>\n",
       "      <td>Blacktip shark</td>\n",
       "      <td>C. Creswell, GSAF</td>\n",
       "      <td>2022.08.15.b-Sites.pdf</td>\n",
       "      <td>http://sharkattackfile.net/spreadsheets/pdf_di...</td>\n",
       "      <td>http://sharkattackfile.net/spreadsheets/pdf_di...</td>\n",
       "      <td>2022.08.15.b</td>\n",
       "      <td>2022.08.15.b</td>\n",
       "      <td>6796.0</td>\n",
       "    </tr>\n",
       "    <tr>\n",
       "      <th>3</th>\n",
       "      <td>2021-08-07</td>\n",
       "      <td>2021.0</td>\n",
       "      <td>Unprovoked</td>\n",
       "      <td>USA</td>\n",
       "      <td>Florida</td>\n",
       "      <td>New Smyrna Beach, Volusia County</td>\n",
       "      <td>Surfing</td>\n",
       "      <td>male</td>\n",
       "      <td>M</td>\n",
       "      <td>35.0</td>\n",
       "      <td>...</td>\n",
       "      <td>N</td>\n",
       "      <td>10h00</td>\n",
       "      <td>NaN</td>\n",
       "      <td>J. Marchand, GSAF</td>\n",
       "      <td>2021.08.07.b-NSB.pdf</td>\n",
       "      <td>http://sharkattackfile.net/spreadsheets/pdf_di...</td>\n",
       "      <td>http://sharkattackfile.net/spreadsheets/pdf_di...</td>\n",
       "      <td>2021..08.07.b</td>\n",
       "      <td>2021.08.07.b</td>\n",
       "      <td>6699.0</td>\n",
       "    </tr>\n",
       "    <tr>\n",
       "      <th>4</th>\n",
       "      <td>2021-07-11</td>\n",
       "      <td>2021.0</td>\n",
       "      <td>Provoked</td>\n",
       "      <td>BAHAMAS</td>\n",
       "      <td>NaN</td>\n",
       "      <td>NaN</td>\n",
       "      <td>Jackass Team's publicity stunt for Discovery C...</td>\n",
       "      <td>Sean McInerney</td>\n",
       "      <td>M</td>\n",
       "      <td>NaN</td>\n",
       "      <td>...</td>\n",
       "      <td>N</td>\n",
       "      <td>NaN</td>\n",
       "      <td>NaN</td>\n",
       "      <td>Yahoo.com, 7/11/2021</td>\n",
       "      <td>2021.07.11.R-McInerney.pdf</td>\n",
       "      <td>http://sharkattackfile.net/spreadsheets/pdf_di...</td>\n",
       "      <td>http://sharkattackfile.net/spreadsheets/pdf_di...</td>\n",
       "      <td>2021.07.11.R</td>\n",
       "      <td>2021.07.11.R</td>\n",
       "      <td>6683.0</td>\n",
       "    </tr>\n",
       "  </tbody>\n",
       "</table>\n",
       "<p>5 rows × 21 columns</p>\n",
       "</div>"
      ],
      "text/plain": [
       "         Date    Year        Type  Country                Area  \\\n",
       "0  2023-05-21  2023.0  Unprovoked      USA          New Jersey   \n",
       "1  2023-01-05  2023.0  Unprovoked   MeXICO  Gulf of California   \n",
       "2  2022-08-15  2022.0  Unprovoked      USA      South Carolina   \n",
       "3  2021-08-07  2021.0  Unprovoked      USA             Florida   \n",
       "4  2021-07-11  2021.0    Provoked  BAHAMAS                 NaN   \n",
       "\n",
       "                           Location  \\\n",
       "0     Stone Harbor, Cape May County   \n",
       "1                        Tobari Bay   \n",
       "2        Myrtle Beach, Horry County   \n",
       "3  New Smyrna Beach, Volusia County   \n",
       "4                               NaN   \n",
       "\n",
       "                                            Activity                  Name  \\\n",
       "0                                            Surfing     Maggie Drozdowski   \n",
       "1                  Diving with  surface-supplied air  Manuel Nieblas López   \n",
       "2                                           Standing         Karrren Sites   \n",
       "3                                            Surfing                  male   \n",
       "4  Jackass Team's publicity stunt for Discovery C...        Sean McInerney   \n",
       "\n",
       "  Sex    Age  ... Fatal (Y/N)   Time        Species    Investigator or Source  \\\n",
       "0    F    15  ...           N  15h00             NaN        J. Marchand, GSAF   \n",
       "1    M    53  ...           Y  11h30             NaN  El imparcial., 1/5/2023   \n",
       "2    F   NaN  ...           N  12h00  Blacktip shark        C. Creswell, GSAF   \n",
       "3    M  35.0  ...           N  10h00             NaN        J. Marchand, GSAF   \n",
       "4    M   NaN  ...           N    NaN             NaN     Yahoo.com, 7/11/2021   \n",
       "\n",
       "                          pdf  \\\n",
       "0                         NaN   \n",
       "1                         NaN   \n",
       "2      2022.08.15.b-Sites.pdf   \n",
       "3        2021.08.07.b-NSB.pdf   \n",
       "4  2021.07.11.R-McInerney.pdf   \n",
       "\n",
       "                                        href formula  \\\n",
       "0                                                NaN   \n",
       "1                                                NaN   \n",
       "2  http://sharkattackfile.net/spreadsheets/pdf_di...   \n",
       "3  http://sharkattackfile.net/spreadsheets/pdf_di...   \n",
       "4  http://sharkattackfile.net/spreadsheets/pdf_di...   \n",
       "\n",
       "                                                href    Case Number  \\\n",
       "0                                                NaN            NaN   \n",
       "1                                                NaN            NaN   \n",
       "2  http://sharkattackfile.net/spreadsheets/pdf_di...   2022.08.15.b   \n",
       "3  http://sharkattackfile.net/spreadsheets/pdf_di...  2021..08.07.b   \n",
       "4  http://sharkattackfile.net/spreadsheets/pdf_di...   2021.07.11.R   \n",
       "\n",
       "  Case Number.1 original order  \n",
       "0           NaN            NaN  \n",
       "1           NaN            NaN  \n",
       "2  2022.08.15.b         6796.0  \n",
       "3  2021.08.07.b         6699.0  \n",
       "4  2021.07.11.R         6683.0  \n",
       "\n",
       "[5 rows x 21 columns]"
      ]
     },
     "execution_count": 2,
     "metadata": {},
     "output_type": "execute_result"
    }
   ],
   "source": [
    "# Load the data into a pandas dataframe\n",
    "df = pd.read_csv('../input/global-shark-attack/global-shark-attack.csv', sep=';')\n",
    "df.head()"
   ]
  },
  {
   "cell_type": "code",
   "execution_count": 3,
   "id": "5be4a054",
   "metadata": {
    "execution": {
     "iopub.execute_input": "2023-07-11T13:56:38.573166Z",
     "iopub.status.busy": "2023-07-11T13:56:38.572768Z",
     "iopub.status.idle": "2023-07-11T13:56:38.580029Z",
     "shell.execute_reply": "2023-07-11T13:56:38.578937Z"
    },
    "papermill": {
     "duration": 0.022613,
     "end_time": "2023-07-11T13:56:38.582523",
     "exception": false,
     "start_time": "2023-07-11T13:56:38.559910",
     "status": "completed"
    },
    "tags": []
   },
   "outputs": [
    {
     "data": {
      "text/plain": [
       "6870"
      ]
     },
     "execution_count": 3,
     "metadata": {},
     "output_type": "execute_result"
    }
   ],
   "source": [
    "df.shape[0]"
   ]
  },
  {
   "cell_type": "markdown",
   "id": "91587bbb",
   "metadata": {
    "papermill": {
     "duration": 0.010748,
     "end_time": "2023-07-11T13:56:38.604468",
     "exception": false,
     "start_time": "2023-07-11T13:56:38.593720",
     "status": "completed"
    },
    "tags": []
   },
   "source": [
    "There are 6870 shark attacks in our DataFrame. Let's see how many entries are missing in each column"
   ]
  },
  {
   "cell_type": "code",
   "execution_count": 4,
   "id": "7d1e601b",
   "metadata": {
    "execution": {
     "iopub.execute_input": "2023-07-11T13:56:38.628822Z",
     "iopub.status.busy": "2023-07-11T13:56:38.628048Z",
     "iopub.status.idle": "2023-07-11T13:56:38.679107Z",
     "shell.execute_reply": "2023-07-11T13:56:38.678099Z"
    },
    "papermill": {
     "duration": 0.065774,
     "end_time": "2023-07-11T13:56:38.681442",
     "exception": false,
     "start_time": "2023-07-11T13:56:38.615668",
     "status": "completed"
    },
    "tags": []
   },
   "outputs": [
    {
     "data": {
      "text/plain": [
       "Date                       303\n",
       "Year                       132\n",
       "Type                        19\n",
       "Country                     51\n",
       "Area                       480\n",
       "Location                   565\n",
       "Activity                   586\n",
       "Name                       220\n",
       "Sex                        571\n",
       "Age                       2984\n",
       "Injury                      36\n",
       "Fatal (Y/N)                  0\n",
       "Time                      3515\n",
       "Species                   3108\n",
       "Investigator or Source      21\n",
       "pdf                         71\n",
       "href formula                75\n",
       "href                        74\n",
       "Case Number                 72\n",
       "Case Number.1               73\n",
       "original order              71\n",
       "dtype: int64"
      ]
     },
     "execution_count": 4,
     "metadata": {},
     "output_type": "execute_result"
    }
   ],
   "source": [
    "df.isna().sum()"
   ]
  },
  {
   "cell_type": "markdown",
   "id": "237ec3d3",
   "metadata": {
    "papermill": {
     "duration": 0.01112,
     "end_time": "2023-07-11T13:56:38.704365",
     "exception": false,
     "start_time": "2023-07-11T13:56:38.693245",
     "status": "completed"
    },
    "tags": []
   },
   "source": [
    "Each sample in the dataframe contains a binary column about whether the attack was fatal or not.  Let's visualize what percentage of attacks are fatal. However, there is a bit of data cleaning to do on the column first."
   ]
  },
  {
   "cell_type": "code",
   "execution_count": 5,
   "id": "9d08b023",
   "metadata": {
    "execution": {
     "iopub.execute_input": "2023-07-11T13:56:38.728793Z",
     "iopub.status.busy": "2023-07-11T13:56:38.728398Z",
     "iopub.status.idle": "2023-07-11T13:56:38.747555Z",
     "shell.execute_reply": "2023-07-11T13:56:38.746703Z"
    },
    "papermill": {
     "duration": 0.034274,
     "end_time": "2023-07-11T13:56:38.749974",
     "exception": false,
     "start_time": "2023-07-11T13:56:38.715700",
     "status": "completed"
    },
    "tags": []
   },
   "outputs": [
    {
     "data": {
      "text/plain": [
       "N          4784\n",
       "Y          1447\n",
       "UNKNOWN     631\n",
       "F             3\n",
       "Nq            1\n",
       "y             1\n",
       "n             1\n",
       "2017.0        1\n",
       "Y x 2         1\n",
       "Name: Fatal, dtype: int64"
      ]
     },
     "execution_count": 5,
     "metadata": {},
     "output_type": "execute_result"
    }
   ],
   "source": [
    "df = df.rename(columns={'Fatal (Y/N)': 'Fatal'})\n",
    "df['Fatal'].value_counts()"
   ]
  },
  {
   "cell_type": "markdown",
   "id": "f2bd3fe9",
   "metadata": {
    "papermill": {
     "duration": 0.012103,
     "end_time": "2023-07-11T13:56:38.773548",
     "exception": false,
     "start_time": "2023-07-11T13:56:38.761445",
     "status": "completed"
    },
    "tags": []
   },
   "source": [
    "For the one-off entries, I looked at the samples to confirm if it was a 'Y' or a 'N'. In the case of 'UNKNOWN', these reports can not confirm shark involvement in the incident; so we will label them 'N'."
   ]
  },
  {
   "cell_type": "code",
   "execution_count": 6,
   "id": "5fabb464",
   "metadata": {
    "execution": {
     "iopub.execute_input": "2023-07-11T13:56:38.799247Z",
     "iopub.status.busy": "2023-07-11T13:56:38.797960Z",
     "iopub.status.idle": "2023-07-11T13:56:38.811645Z",
     "shell.execute_reply": "2023-07-11T13:56:38.810503Z"
    },
    "papermill": {
     "duration": 0.029308,
     "end_time": "2023-07-11T13:56:38.814464",
     "exception": false,
     "start_time": "2023-07-11T13:56:38.785156",
     "status": "completed"
    },
    "tags": []
   },
   "outputs": [],
   "source": [
    "remap = {'F': 'Y',\n",
    "        'UNKNOWN': 'N',\n",
    "        'y': 'Y',\n",
    "        'n': 'N',\n",
    "        '2017.0': 'N',\n",
    "        'Nq': 'N',\n",
    "        'Y x 2': 'Y'}\n",
    "\n",
    "df = df.replace({'Fatal': remap})"
   ]
  },
  {
   "cell_type": "code",
   "execution_count": 7,
   "id": "7bfc60d6",
   "metadata": {
    "execution": {
     "iopub.execute_input": "2023-07-11T13:56:38.840131Z",
     "iopub.status.busy": "2023-07-11T13:56:38.839698Z",
     "iopub.status.idle": "2023-07-11T13:56:39.080359Z",
     "shell.execute_reply": "2023-07-11T13:56:39.078844Z"
    },
    "papermill": {
     "duration": 0.258568,
     "end_time": "2023-07-11T13:56:39.085119",
     "exception": false,
     "start_time": "2023-07-11T13:56:38.826551",
     "status": "completed"
    },
    "tags": []
   },
   "outputs": [
    {
     "name": "stdout",
     "output_type": "stream",
     "text": [
      "21 percent of shark attacks are fatal.\n"
     ]
    },
    {
     "data": {
      "image/png": "[encoded data removed]",
      "text/plain": [
       "<Figure size 640x480 with 1 Axes>"
      ]
     },
     "metadata": {},
     "output_type": "display_data"
    }
   ],
   "source": [
    "from matplotlib import pyplot as plt\n",
    "\n",
    "\n",
    "pct_fatal = df['Fatal'].value_counts(normalize=True) * 100\n",
    "pct_fatal_n, pct_fatal_y = pct_fatal['N'], pct_fatal['Y']\n",
    "\n",
    "df.groupby('Fatal').size().plot(kind='pie')\n",
    "print('%d percent of shark attacks are fatal.' % pct_fatal_y)"
   ]
  },
  {
   "cell_type": "markdown",
   "id": "dcc04846",
   "metadata": {
    "papermill": {
     "duration": 0.02495,
     "end_time": "2023-07-11T13:56:39.134991",
     "exception": false,
     "start_time": "2023-07-11T13:56:39.110041",
     "status": "completed"
    },
    "tags": []
   },
   "source": [
    "Next, let's check out the sex of those attacked by sharks. This time using plotly."
   ]
  },
  {
   "cell_type": "code",
   "execution_count": 8,
   "id": "23f3d04a",
   "metadata": {
    "execution": {
     "iopub.execute_input": "2023-07-11T13:56:39.164834Z",
     "iopub.status.busy": "2023-07-11T13:56:39.163852Z",
     "iopub.status.idle": "2023-07-11T13:56:39.767532Z",
     "shell.execute_reply": "2023-07-11T13:56:39.766275Z"
    },
    "papermill": {
     "duration": 0.619946,
     "end_time": "2023-07-11T13:56:39.770285",
     "exception": false,
     "start_time": "2023-07-11T13:56:39.150339",
     "status": "completed"
    },
    "tags": []
   },
   "outputs": [
    {
     "data": {
      "text/html": [
       "        <script type=\"text/javascript\">\n",
       "        window.PlotlyConfig = {MathJaxConfig: 'local'};\n",
       "        if (window.MathJax && window.MathJax.Hub && window.MathJax.Hub.Config) {window.MathJax.Hub.Config({SVG: {font: \"STIX-Web\"}});}\n",
       "        if (typeof require !== 'undefined') {\n",
       "        require.undef(\"plotly\");\n",
       "        requirejs.config({\n",
       "            paths: {\n",
       "                'plotly': ['https://cdn.plot.ly/plotly-2.20.0.min']\n",
       "            }\n",
       "        });\n",
       "        require(['plotly'], function(Plotly) {\n",
       "            window._Plotly = Plotly;\n",
       "        });\n",
       "        }\n",
       "        </script>\n",
       "        "
      ]
     },
     "metadata": {},
     "output_type": "display_data"
    },
    {
     "data": {
      "text/html": [
       "<div>                            <div id=\"b6e2319d-6de0-44f4-8595-226bc6e63ebe\" class=\"plotly-graph-div\" style=\"height:525px; width:100%;\"></div>            <script type=\"text/javascript\">                require([\"plotly\"], function(Plotly) {                    window.PLOTLYENV=window.PLOTLYENV || {};                                    if (document.getElementById(\"b6e2319d-6de0-44f4-8595-226bc6e63ebe\")) {                    Plotly.newPlot(                        \"b6e2319d-6de0-44f4-8595-226bc6e63ebe\",                        [{\"labels\":[\"Female\",\"Male\"],\"title\":{\"text\":\"Non-fatal attack victims by sex\"},\"values\":[648,4304,1,1],\"type\":\"pie\",\"domain\":{\"x\":[0.0,0.45],\"y\":[0.0,1.0]}},{\"labels\":[\"Female\",\"Male\"],\"title\":{\"text\":\"Fatal attack victims by sex\"},\"values\":[1,116,1226,1,1],\"type\":\"pie\",\"domain\":{\"x\":[0.55,1.0],\"y\":[0.0,1.0]}}],                        {\"template\":{\"data\":{\"histogram2dcontour\":[{\"type\":\"histogram2dcontour\",\"colorbar\":{\"outlinewidth\":0,\"ticks\":\"\"},\"colorscale\":[[0.0,\"#0d0887\"],[0.1111111111111111,\"#46039f\"],[0.2222222222222222,\"#7201a8\"],[0.3333333333333333,\"#9c179e\"],[0.4444444444444444,\"#bd3786\"],[0.5555555555555556,\"#d8576b\"],[0.6666666666666666,\"#ed7953\"],[0.7777777777777778,\"#fb9f3a\"],[0.8888888888888888,\"#fdca26\"],[1.0,\"#f0f921\"]]}],\"choropleth\":[{\"type\":\"choropleth\",\"colorbar\":{\"outlinewidth\":0,\"ticks\":\"\"}}],\"histogram2d\":[{\"type\":\"histogram2d\",\"colorbar\":{\"outlinewidth\":0,\"ticks\":\"\"},\"colorscale\":[[0.0,\"#0d0887\"],[0.1111111111111111,\"#46039f\"],[0.2222222222222222,\"#7201a8\"],[0.3333333333333333,\"#9c179e\"],[0.4444444444444444,\"#bd3786\"],[0.5555555555555556,\"#d8576b\"],[0.6666666666666666,\"#ed7953\"],[0.7777777777777778,\"#fb9f3a\"],[0.8888888888888888,\"#fdca26\"],[1.0,\"#f0f921\"]]}],\"heatmap\":[{\"type\":\"heatmap\",\"colorbar\":{\"outlinewidth\":0,\"ticks\":\"\"},\"colorscale\":[[0.0,\"#0d0887\"],[0.1111111111111111,\"#46039f\"],[0.2222222222222222,\"#7201a8\"],[0.3333333333333333,\"#9c179e\"],[0.4444444444444444,\"#bd3786\"],[0.5555555555555556,\"#d8576b\"],[0.6666666666666666,\"#ed7953\"],[0.7777777777777778,\"#fb9f3a\"],[0.8888888888888888,\"#fdca26\"],[1.0,\"#f0f921\"]]}],\"heatmapgl\":[{\"type\":\"heatmapgl\",\"colorbar\":{\"outlinewidth\":0,\"ticks\":\"\"},\"colorscale\":[[0.0,\"#0d0887\"],[0.1111111111111111,\"#46039f\"],[0.2222222222222222,\"#7201a8\"],[0.3333333333333333,\"#9c179e\"],[0.4444444444444444,\"#bd3786\"],[0.5555555555555556,\"#d8576b\"],[0.6666666666666666,\"#ed7953\"],[0.7777777777777778,\"#fb9f3a\"],[0.8888888888888888,\"#fdca26\"],[1.0,\"#f0f921\"]]}],\"contourcarpet\":[{\"type\":\"contourcarpet\",\"colorbar\":{\"outlinewidth\":0,\"ticks\":\"\"}}],\"contour\":[{\"type\":\"contour\",\"colorbar\":{\"outlinewidth\":0,\"ticks\":\"\"},\"colorscale\":[[0.0,\"#0d0887\"],[0.1111111111111111,\"#46039f\"],[0.2222222222222222,\"#7201a8\"],[0.3333333333333333,\"#9c179e\"],[0.4444444444444444,\"#bd3786\"],[0.5555555555555556,\"#d8576b\"],[0.6666666666666666,\"#ed7953\"],[0.7777777777777778,\"#fb9f3a\"],[0.8888888888888888,\"#fdca26\"],[1.0,\"#f0f921\"]]}],\"surface\":[{\"type\":\"surface\",\"colorbar\":{\"outlinewidth\":0,\"ticks\":\"\"},\"colorscale\":[[0.0,\"#0d0887\"],[0.1111111111111111,\"#46039f\"],[0.2222222222222222,\"#7201a8\"],[0.3333333333333333,\"#9c179e\"],[0.4444444444444444,\"#bd3786\"],[0.5555555555555556,\"#d8576b\"],[0.6666666666666666,\"#ed7953\"],[0.7777777777777778,\"#fb9f3a\"],[0.8888888888888888,\"#fdca26\"],[1.0,\"#f0f921\"]]}],\"mesh3d\":[{\"type\":\"mesh3d\",\"colorbar\":{\"outlinewidth\":0,\"ticks\":\"\"}}],\"scatter\":[{\"fillpattern\":{\"fillmode\":\"overlay\",\"size\":10,\"solidity\":0.2},\"type\":\"scatter\"}],\"parcoords\":[{\"type\":\"parcoords\",\"line\":{\"colorbar\":{\"outlinewidth\":0,\"ticks\":\"\"}}}],\"scatterpolargl\":[{\"type\":\"scatterpolargl\",\"marker\":{\"colorbar\":{\"outlinewidth\":0,\"ticks\":\"\"}}}],\"bar\":[{\"error_x\":{\"color\":\"#2a3f5f\"},\"error_y\":{\"color\":\"#2a3f5f\"},\"marker\":{\"line\":{\"color\":\"#E5ECF6\",\"width\":0.5},\"pattern\":{\"fillmode\":\"overlay\",\"size\":10,\"solidity\":0.2}},\"type\":\"bar\"}],\"scattergeo\":[{\"type\":\"scattergeo\",\"marker\":{\"colorbar\":{\"outlinewidth\":0,\"ticks\":\"\"}}}],\"scatterpolar\":[{\"type\":\"scatterpolar\",\"marker\":{\"colorbar\":{\"outlinewidth\":0,\"ticks\":\"\"}}}],\"histogram\":[{\"marker\":{\"pattern\":{\"fillmode\":\"overlay\",\"size\":10,\"solidity\":0.2}},\"type\":\"histogram\"}],\"scattergl\":[{\"type\":\"scattergl\",\"marker\":{\"colorbar\":{\"outlinewidth\":0,\"ticks\":\"\"}}}],\"scatter3d\":[{\"type\":\"scatter3d\",\"line\":{\"colorbar\":{\"outlinewidth\":0,\"ticks\":\"\"}},\"marker\":{\"colorbar\":{\"outlinewidth\":0,\"ticks\":\"\"}}}],\"scattermapbox\":[{\"type\":\"scattermapbox\",\"marker\":{\"colorbar\":{\"outlinewidth\":0,\"ticks\":\"\"}}}],\"scatterternary\":[{\"type\":\"scatterternary\",\"marker\":{\"colorbar\":{\"outlinewidth\":0,\"ticks\":\"\"}}}],\"scattercarpet\":[{\"type\":\"scattercarpet\",\"marker\":{\"colorbar\":{\"outlinewidth\":0,\"ticks\":\"\"}}}],\"carpet\":[{\"aaxis\":{\"endlinecolor\":\"#2a3f5f\",\"gridcolor\":\"white\",\"linecolor\":\"white\",\"minorgridcolor\":\"white\",\"startlinecolor\":\"#2a3f5f\"},\"baxis\":{\"endlinecolor\":\"#2a3f5f\",\"gridcolor\":\"white\",\"linecolor\":\"white\",\"minorgridcolor\":\"white\",\"startlinecolor\":\"#2a3f5f\"},\"type\":\"carpet\"}],\"table\":[{\"cells\":{\"fill\":{\"color\":\"#EBF0F8\"},\"line\":{\"color\":\"white\"}},\"header\":{\"fill\":{\"color\":\"#C8D4E3\"},\"line\":{\"color\":\"white\"}},\"type\":\"table\"}],\"barpolar\":[{\"marker\":{\"line\":{\"color\":\"#E5ECF6\",\"width\":0.5},\"pattern\":{\"fillmode\":\"overlay\",\"size\":10,\"solidity\":0.2}},\"type\":\"barpolar\"}],\"pie\":[{\"automargin\":true,\"type\":\"pie\"}]},\"layout\":{\"autotypenumbers\":\"strict\",\"colorway\":[\"#636efa\",\"#EF553B\",\"#00cc96\",\"#ab63fa\",\"#FFA15A\",\"#19d3f3\",\"#FF6692\",\"#B6E880\",\"#FF97FF\",\"#FECB52\"],\"font\":{\"color\":\"#2a3f5f\"},\"hovermode\":\"closest\",\"hoverlabel\":{\"align\":\"left\"},\"paper_bgcolor\":\"white\",\"plot_bgcolor\":\"#E5ECF6\",\"polar\":{\"bgcolor\":\"#E5ECF6\",\"angularaxis\":{\"gridcolor\":\"white\",\"linecolor\":\"white\",\"ticks\":\"\"},\"radialaxis\":{\"gridcolor\":\"white\",\"linecolor\":\"white\",\"ticks\":\"\"}},\"ternary\":{\"bgcolor\":\"#E5ECF6\",\"aaxis\":{\"gridcolor\":\"white\",\"linecolor\":\"white\",\"ticks\":\"\"},\"baxis\":{\"gridcolor\":\"white\",\"linecolor\":\"white\",\"ticks\":\"\"},\"caxis\":{\"gridcolor\":\"white\",\"linecolor\":\"white\",\"ticks\":\"\"}},\"coloraxis\":{\"colorbar\":{\"outlinewidth\":0,\"ticks\":\"\"}},\"colorscale\":{\"sequential\":[[0.0,\"#0d0887\"],[0.1111111111111111,\"#46039f\"],[0.2222222222222222,\"#7201a8\"],[0.3333333333333333,\"#9c179e\"],[0.4444444444444444,\"#bd3786\"],[0.5555555555555556,\"#d8576b\"],[0.6666666666666666,\"#ed7953\"],[0.7777777777777778,\"#fb9f3a\"],[0.8888888888888888,\"#fdca26\"],[1.0,\"#f0f921\"]],\"sequentialminus\":[[0.0,\"#0d0887\"],[0.1111111111111111,\"#46039f\"],[0.2222222222222222,\"#7201a8\"],[0.3333333333333333,\"#9c179e\"],[0.4444444444444444,\"#bd3786\"],[0.5555555555555556,\"#d8576b\"],[0.6666666666666666,\"#ed7953\"],[0.7777777777777778,\"#fb9f3a\"],[0.8888888888888888,\"#fdca26\"],[1.0,\"#f0f921\"]],\"diverging\":[[0,\"#8e0152\"],[0.1,\"#c51b7d\"],[0.2,\"#de77ae\"],[0.3,\"#f1b6da\"],[0.4,\"#fde0ef\"],[0.5,\"#f7f7f7\"],[0.6,\"#e6f5d0\"],[0.7,\"#b8e186\"],[0.8,\"#7fbc41\"],[0.9,\"#4d9221\"],[1,\"#276419\"]]},\"xaxis\":{\"gridcolor\":\"white\",\"linecolor\":\"white\",\"ticks\":\"\",\"title\":{\"standoff\":15},\"zerolinecolor\":\"white\",\"automargin\":true,\"zerolinewidth\":2},\"yaxis\":{\"gridcolor\":\"white\",\"linecolor\":\"white\",\"ticks\":\"\",\"title\":{\"standoff\":15},\"zerolinecolor\":\"white\",\"automargin\":true,\"zerolinewidth\":2},\"scene\":{\"xaxis\":{\"backgroundcolor\":\"#E5ECF6\",\"gridcolor\":\"white\",\"linecolor\":\"white\",\"showbackground\":true,\"ticks\":\"\",\"zerolinecolor\":\"white\",\"gridwidth\":2},\"yaxis\":{\"backgroundcolor\":\"#E5ECF6\",\"gridcolor\":\"white\",\"linecolor\":\"white\",\"showbackground\":true,\"ticks\":\"\",\"zerolinecolor\":\"white\",\"gridwidth\":2},\"zaxis\":{\"backgroundcolor\":\"#E5ECF6\",\"gridcolor\":\"white\",\"linecolor\":\"white\",\"showbackground\":true,\"ticks\":\"\",\"zerolinecolor\":\"white\",\"gridwidth\":2}},\"shapedefaults\":{\"line\":{\"color\":\"#2a3f5f\"}},\"annotationdefaults\":{\"arrowcolor\":\"#2a3f5f\",\"arrowhead\":0,\"arrowwidth\":1},\"geo\":{\"bgcolor\":\"white\",\"landcolor\":\"#E5ECF6\",\"subunitcolor\":\"white\",\"showland\":true,\"showlakes\":true,\"lakecolor\":\"white\"},\"title\":{\"x\":0.05},\"mapbox\":{\"style\":\"light\"}}}},                        {\"responsive\": true}                    ).then(function(){\n",
       "                            \n",
       "var gd = document.getElementById('b6e2319d-6de0-44f4-8595-226bc6e63ebe');\n",
       "var x = new MutationObserver(function (mutations, observer) {{\n",
       "        var display = window.getComputedStyle(gd).display;\n",
       "        if (!display || display === 'none') {{\n",
       "            console.log([gd, 'removed!']);\n",
       "            Plotly.purge(gd);\n",
       "            observer.disconnect();\n",
       "        }}\n",
       "}});\n",
       "\n",
       "// Listen for the removal of the full notebook cells\n",
       "var notebookContainer = gd.closest('#notebook-container');\n",
       "if (notebookContainer) {{\n",
       "    x.observe(notebookContainer, {childList: true});\n",
       "}}\n",
       "\n",
       "// Listen for the clearing of the current output cell\n",
       "var outputEl = gd.closest('.output');\n",
       "if (outputEl) {{\n",
       "    x.observe(outputEl, {childList: true});\n",
       "}}\n",
       "\n",
       "                        })                };                });            </script>        </div>"
      ]
     },
     "metadata": {},
     "output_type": "display_data"
    }
   ],
   "source": [
    "df = df.rename(columns={'Sex ': 'Sex'}) # fixing an erroneous space in the column name\n",
    "\n",
    "fatal_attacks = df[df['Fatal'] == 'Y']\n",
    "nonfatal_attacks = df[df['Fatal'] == 'N']\n",
    "\n",
    "from plotly.subplots import make_subplots\n",
    "import plotly.graph_objects as go\n",
    "from plotly.offline import plot\n",
    "\n",
    "fig = make_subplots(rows=1, cols=2, specs=[[{'type': 'pie'}, {'type': 'pie'}]])\n",
    "\n",
    "fig.add_trace(go.Pie(\n",
    "             values = nonfatal_attacks.groupby('Sex').size(),\n",
    "             labels = ['Female', 'Male'],\n",
    "             title='Non-fatal attack victims by sex'),\n",
    "             row=1, col=1)\n",
    "\n",
    "fig.add_trace(go.Pie(\n",
    "             values = fatal_attacks.groupby('Sex').size(),\n",
    "             labels = ['Female', 'Male'],\n",
    "             title='Fatal attack victims by sex'),\n",
    "             row=1, col=2)"
   ]
  },
  {
   "cell_type": "markdown",
   "id": "8b53ad6e",
   "metadata": {
    "papermill": {
     "duration": 0.012535,
     "end_time": "2023-07-11T13:56:39.795784",
     "exception": false,
     "start_time": "2023-07-11T13:56:39.783249",
     "status": "completed"
    },
    "tags": []
   },
   "source": [
    "Looks like mostly men get attacked by sharks! Also there is a not a significant difference in sex between fatal and non-fatal attacks\n",
    "\n",
    "Next, let's investigate when shark attacks occur most. First we'll look at the month of the year."
   ]
  },
  {
   "cell_type": "code",
   "execution_count": 9,
   "id": "f4b3f337",
   "metadata": {
    "execution": {
     "iopub.execute_input": "2023-07-11T13:56:39.823524Z",
     "iopub.status.busy": "2023-07-11T13:56:39.822798Z",
     "iopub.status.idle": "2023-07-11T13:56:40.339332Z",
     "shell.execute_reply": "2023-07-11T13:56:40.338024Z"
    },
    "papermill": {
     "duration": 0.533682,
     "end_time": "2023-07-11T13:56:40.342016",
     "exception": false,
     "start_time": "2023-07-11T13:56:39.808334",
     "status": "completed"
    },
    "tags": []
   },
   "outputs": [
    {
     "name": "stderr",
     "output_type": "stream",
     "text": [
      "/tmp/ipykernel_20/2773725497.py:9: SettingWithCopyWarning:\n",
      "\n",
      "\n",
      "A value is trying to be set on a copy of a slice from a DataFrame.\n",
      "Try using .loc[row_indexer,col_indexer] = value instead\n",
      "\n",
      "See the caveats in the documentation: https://pandas.pydata.org/pandas-docs/stable/user_guide/indexing.html#returning-a-view-versus-a-copy\n",
      "\n"
     ]
    },
    {
     "data": {
      "text/plain": [
       "<Axes: xlabel='Month'>"
      ]
     },
     "execution_count": 9,
     "metadata": {},
     "output_type": "execute_result"
    },
    {
     "data": {
      "image/png": "[encoded data removed]",
      "text/plain": [
       "<Figure size 640x480 with 1 Axes>"
      ]
     },
     "metadata": {},
     "output_type": "display_data"
    }
   ],
   "source": [
    "df['Date'] = pd.to_datetime(df['Date'], errors='coerce')\n",
    "\n",
    "#A lot of older enties have Jan 1st as the date by default. We will drop these to not skew the month visualization.\n",
    "df_months = df\n",
    "df_months.dropna(inplace=True)\n",
    "df_months = df_months[df_months['Date'].dt.strftime('%m%d') != '0101']\n",
    "df_months.head()\n",
    "\n",
    "df_months['Month'] = df_months['Date'].dt.strftime('%m')\n",
    "month_counts = df_months.groupby('Month')['Fatal'].count()\n",
    "month_counts.plot()"
   ]
  },
  {
   "cell_type": "markdown",
   "id": "6571b087",
   "metadata": {
    "papermill": {
     "duration": 0.012614,
     "end_time": "2023-07-11T13:56:40.368084",
     "exception": false,
     "start_time": "2023-07-11T13:56:40.355470",
     "status": "completed"
    },
    "tags": []
   },
   "source": [
    "So the Summer months see the greatest number of shark attacks. There is also interesting upticks in January and April. Perhaps those months are when people like to take vacation to the beach.\n",
    "\n",
    "Now let's look at the number of shark attacks per year. You can see that attacks greatly dropped off when people were stuck in their houses during the global pandemic in 2020-2021."
   ]
  },
  {
   "cell_type": "code",
   "execution_count": 10,
   "id": "028e0990",
   "metadata": {
    "execution": {
     "iopub.execute_input": "2023-07-11T13:56:40.395721Z",
     "iopub.status.busy": "2023-07-11T13:56:40.395337Z",
     "iopub.status.idle": "2023-07-11T13:56:40.707787Z",
     "shell.execute_reply": "2023-07-11T13:56:40.706686Z"
    },
    "papermill": {
     "duration": 0.329005,
     "end_time": "2023-07-11T13:56:40.710116",
     "exception": false,
     "start_time": "2023-07-11T13:56:40.381111",
     "status": "completed"
    },
    "tags": []
   },
   "outputs": [
    {
     "data": {
      "text/plain": [
       "<Axes: xlabel='Year'>"
      ]
     },
     "execution_count": 10,
     "metadata": {},
     "output_type": "execute_result"
    },
    {
     "data": {
      "image/png": "[encoded data removed]",
      "text/plain": [
       "<Figure size 640x480 with 1 Axes>"
      ]
     },
     "metadata": {},
     "output_type": "display_data"
    }
   ],
   "source": [
    "df.groupby('Year')['Fatal'].count().plot()"
   ]
  },
  {
   "cell_type": "markdown",
   "id": "da008f17",
   "metadata": {
    "papermill": {
     "duration": 0.013356,
     "end_time": "2023-07-11T13:56:40.737235",
     "exception": false,
     "start_time": "2023-07-11T13:56:40.723879",
     "status": "completed"
    },
    "tags": []
   },
   "source": [
    "The next thing area to analyze is the age of the shark attack victims. We'll use a histogram with plotly to check this out. First we have to clean up the age column a bit."
   ]
  },
  {
   "cell_type": "code",
   "execution_count": 11,
   "id": "329fb19e",
   "metadata": {
    "execution": {
     "iopub.execute_input": "2023-07-11T13:56:40.766873Z",
     "iopub.status.busy": "2023-07-11T13:56:40.765967Z",
     "iopub.status.idle": "2023-07-11T13:56:40.775568Z",
     "shell.execute_reply": "2023-07-11T13:56:40.774813Z"
    },
    "papermill": {
     "duration": 0.026819,
     "end_time": "2023-07-11T13:56:40.777738",
     "exception": false,
     "start_time": "2023-07-11T13:56:40.750919",
     "status": "completed"
    },
    "tags": []
   },
   "outputs": [
    {
     "data": {
      "text/plain": [
       "array(['14.0', '29.0', '16.0', '58.0', '42.0', '55.0', '61.0', '26.0',\n",
       "       '71.0', '46.0', '18', '44', '20s', '48', '30', '28', '21', '70',\n",
       "       '37', '32', '16', '43', '63', '59', '30s', '47', '15.0', '39.0',\n",
       "       '23.0', '23', '52.0', '5.0', '50.0', '24.0', '40.0', '41.0',\n",
       "       '17.0', '37.0', '27.0', '28.0', '20', '19.0', '53.0', '49', '11.0',\n",
       "       '13.0', '18.0', '21.0', '10.0', '68', '12', '39', '35', '10', '51',\n",
       "       '31', '17', '54', '13', '40', '43.0', '31.0', '22.0', '14', '38.0',\n",
       "       '34', '26', '25.0', '12.0', '20.0', '15', '60.0', '33.0', '48.0',\n",
       "       '38', '36', '42', '50', '22', '34.0', '45', '25', '49.0',\n",
       "       '13 or 18', '59.0', '51.0', '64.0', '9', '60', '55', '58', '29',\n",
       "       '8', '44.0', '6½', '9.0', '30.0', '9 & 60', '32.0', '40s', '56',\n",
       "       '24', '54.0', '70.0', '57.0', '74.0', '71', '46', '62', '27', '61',\n",
       "       '19', '7', '52', '36.0', '35.0', '69.0', '8.0', '30 or 36', 'Teen',\n",
       "       '6', '33', '30 & 32', '9 or 10', '6.0', '47.0', '21, 34,24 & 35',\n",
       "       '45 and 15', '50s', '28 & 22', '65.0', '11', '45.0', '67', '60s',\n",
       "       '62.0', '63.0', '74', '66', '64', '53', '8 or 10', '73.0', \"20's\",\n",
       "       '57', '41', '7.0', '77.0', '? & 19', '68.0', '56.0', '84.0', '>50',\n",
       "       '75.0', '4', '77', '4.0', '18 or 20', \"60's\", '69'], dtype=object)"
      ]
     },
     "execution_count": 11,
     "metadata": {},
     "output_type": "execute_result"
    }
   ],
   "source": [
    "df['Age'].unique()"
   ]
  },
  {
   "cell_type": "code",
   "execution_count": 12,
   "id": "2ab8f557",
   "metadata": {
    "execution": {
     "iopub.execute_input": "2023-07-11T13:56:40.808311Z",
     "iopub.status.busy": "2023-07-11T13:56:40.807621Z",
     "iopub.status.idle": "2023-07-11T13:56:40.819572Z",
     "shell.execute_reply": "2023-07-11T13:56:40.818735Z"
    },
    "papermill": {
     "duration": 0.030098,
     "end_time": "2023-07-11T13:56:40.821878",
     "exception": false,
     "start_time": "2023-07-11T13:56:40.791780",
     "status": "completed"
    },
    "tags": []
   },
   "outputs": [
    {
     "name": "stderr",
     "output_type": "stream",
     "text": [
      "/tmp/ipykernel_20/2031855120.py:5: SettingWithCopyWarning:\n",
      "\n",
      "\n",
      "A value is trying to be set on a copy of a slice from a DataFrame.\n",
      "Try using .loc[row_indexer,col_indexer] = value instead\n",
      "\n",
      "See the caveats in the documentation: https://pandas.pydata.org/pandas-docs/stable/user_guide/indexing.html#returning-a-view-versus-a-copy\n",
      "\n"
     ]
    }
   ],
   "source": [
    "# create a new df and drop the samples where we can not easily convert the age column to a numeric vale (i.e. '>50' or '45 and 15')\n",
    "age_df = df\n",
    "age_df['Age'] = pd.to_numeric(age_df['Age'], errors = 'coerce')\n",
    "age_df = age_df.dropna(subset=['Age'])\n",
    "age_df['Age'] = age_df['Age'].astype('int')"
   ]
  },
  {
   "cell_type": "code",
   "execution_count": 13,
   "id": "3b894412",
   "metadata": {
    "execution": {
     "iopub.execute_input": "2023-07-11T13:56:40.852277Z",
     "iopub.status.busy": "2023-07-11T13:56:40.851828Z",
     "iopub.status.idle": "2023-07-11T13:56:42.862221Z",
     "shell.execute_reply": "2023-07-11T13:56:42.861156Z"
    },
    "papermill": {
     "duration": 2.028606,
     "end_time": "2023-07-11T13:56:42.864609",
     "exception": false,
     "start_time": "2023-07-11T13:56:40.836003",
     "status": "completed"
    },
    "tags": []
   },
   "outputs": [
    {
     "data": {
      "text/html": [
       "<div>                            <div id=\"f25f745c-654b-45f1-a996-f173cbdbf2fd\" class=\"plotly-graph-div\" style=\"height:525px; width:100%;\"></div>            <script type=\"text/javascript\">                require([\"plotly\"], function(Plotly) {                    window.PLOTLYENV=window.PLOTLYENV || {};                                    if (document.getElementById(\"f25f745c-654b-45f1-a996-f173cbdbf2fd\")) {                    Plotly.newPlot(                        \"f25f745c-654b-45f1-a996-f173cbdbf2fd\",                        [{\"alignmentgroup\":\"True\",\"bingroup\":\"x\",\"hovertemplate\":\"Age=%{x}<br>count=%{y}<extra></extra>\",\"legendgroup\":\"\",\"marker\":{\"color\":\"#636efa\",\"pattern\":{\"shape\":\"\"}},\"name\":\"\",\"nbinsx\":10,\"offsetgroup\":\"\",\"orientation\":\"v\",\"showlegend\":false,\"x\":[14,29,16,58,42,55,61,26,71,46,18,44,48,30,28,21,70,37,32,48,16,43,21,63,59,47,15,39,23,23,52,21,5,16,50,24,40,41,50,17,37,27,28,20,27,19,37,53,49,17,15,11,13,28,16,18,21,18,10,68,12,39,35,10,51,30,31,18,17,31,54,13,17,40,41,23,43,31,20,40,29,22,14,38,34,18,26,25,18,17,12,20,15,22,15,16,20,13,38,60,33,11,20,19,60,48,42,52,38,43,34,36,21,39,42,28,44,32,50,49,36,70,48,43,20,38,14,37,15,15,22,38,34,45,40,22,20,12,14,47,25,46,42,19,49,21,23,15,22,24,22,23,25,16,15,23,52,13,18,59,29,51,64,50,50,13,25,55,23,24,12,37,26,50,17,21,26,9,50,16,15,30,17,60,49,55,51,49,58,20,10,29,8,30,17,28,44,41,22,27,17,30,23,18,12,31,21,24,21,16,21,29,24,63,9,16,30,19,28,31,13,17,17,18,25,32,13,46,32,48,20,17,10,56,31,20,14,24,15,28,39,11,15,31,15,13,49,53,23,9,28,19,31,40,17,27,15,22,27,19,17,24,25,18,18,20,37,13,30,21,33,16,16,54,70,57,13,57,74,58,31,40,40,13,71,63,63,46,43,48,62,22,20,27,27,54,61,40,45,27,19,7,15,52,37,14,28,20,12,39,19,37,35,42,32,22,28,36,23,23,31,29,26,29,34,16,16,33,41,19,23,36,15,35,18,42,16,24,35,16,33,42,18,18,10,31,14,27,35,10,19,20,69,40,17,25,23,11,14,10,29,37,29,19,35,25,10,29,58,60,52,14,42,24,29,26,26,8,20,51,13,19,55,20,20,43,35,38,30,35,32,36,28,27,37,11,32,24,13,28,24,40,19,18,25,18,17,18,8,26,17,21,27,12,55,22,6,30,33,27,21,39,33,22,44,50,15,17,48,26,16,18,39,23,34,22,15,34,51,55,12,30,27,16,20,13,19,21,24,21,40,14,17,36,25,25,28,24,14,29,14,17,60,17,57,33,13,12,31,9,25,32,47,28,20,25,45,28,68,14,8,23,34,19,18,25,31,32,27,49,31,27,68,21,23,26,18,52,27,47,27,35,14,20,32,43,6,29,18,25,47,19,48,21,20,17,22,26,15,24,36,20,57,20,59,65,55,13,11,19,28,20,18,23,20,20,29,10,37,29,31,51,18,32,13,15,36,15,47,22,35,45,16,18,28,29,29,67,14,13,20,20,45,18,25,25,18,24,19,20,14,53,19,40,14,15,38,59,32,10,54,21,22,60,45,43,24,16,28,26,30,27,23,14,14,24,35,21,32,18,17,11,21,9,16,44,18,40,25,17,28,62,43,19,25,27,30,36,32,29,19,14,28,33,29,18,20,32,36,23,32,18,20,38,27,13,16,12,31,63,30,40,43,34,27,44,35,61,40,74,7,10,9,34,40,66,42,40,15,32,16,16,17,50,14,34,10,28,20,14,29,20,33,38,21,27,20,19,22,13,35,24,16,8,23,17,25,13,21,8,38,45,37,59,6,23,52,64,53,34,48,49,19,15,31,49,15,30,9,19,14,33,25,10,36,19,9,41,31,29,16,19,65,25,19,20,12,33,15,27,33,30,35,26,8,29,18,27,19,33,15,18,21,73,60,35,11,12,18,48,35,15,29,32,19,49,35,34,18,15,26,55,44,57,20,19,34,48,35,29,26,73,44,23,21,14,33,12,19,63,31,38,47,69,39,34,21,17,25,11,14,17,19,17,26,41,24,22,20,26,40,24,27,15,16,17,17,38,7,13,15,21,55,9,43,38,24,43,61,25,56,25,43,22,58,23,29,16,12,20,48,12,44,77,58,42,12,19,39,26,40,17,35,23,33,40,46,18,26,27,19,25,26,32,25,55,15,38,18,15,55,28,46,55,35,22,20,19,15,49,41,46,50,8,16,16,11,43,55,16,40,7,16,60,17,20,20,8,30,23,45,10,24,30,22,25,32,28,23,21,15,20,27,44,23,22,27,24,46,14,29,19,68,20,22,19,14,17,12,13,58,20,50,28,73,43,28,37,63,50,13,16,61,54,18,25,26,46,35,17,63,27,20,23,39,52,13,24,53,15,16,31,22,44,21,22,13,16,26,20,27,24,24,13,38,24,22,14,28,23,22,15,39,24,32,56,10,46,42,35,50,53,51,10,16,25,22,24,19,40,38,26,20,40,49,13,57,35,56,84,23,16,60,36,16,28,21,56,44,29,16,17,34,27,43,35,19,34,16,18,19,17,30,21,25,18,10,25,19,57,13,17,18,19,33,25,17,15,32,30,25,54,18,22,42,18,13,41,15,19,16,6,40,14,16,34,58,32,21,55,60,14,43,26,53,52,30,38,25,52,20,45,18,36,34,69,31,19,25,21,16,21,17,26,30,21,24,17,27,30,19,18,25,22,28,57,33,19,27,9,37,24,8,52,55,26,24,14,18,55,58,61,34,6,39,22,14,10,22,39,12,30,17,24,29,10,25,8,23,18,15,21,30,22,18,38,19,55,39,29,27,26,12,36,23,10,17,32,20,29,33,24,19,29,38,41,17,21,20,10,21,13,18,17,21,30,62,56,10,35,75,61,23,20,29,22,62,34,22,41,25,32,57,46,17,28,41,27,37,22,24,23,17,33,16,46,26,25,31,29,26,12,19,22,32,22,14,28,22,24,22,20,40,46,27,16,29,13,18,34,16,26,16,49,54,57,18,38,21,4,43,38,56,19,54,65,13,52,23,23,66,30,25,48,38,48,46,56,14,15,15,22,52,22,31,15,47,35,21,10,30,21,18,28,22,16,38,17,77,21,28,48,17,31,14,22,8,14,39,17,4,17,31,25,19,69,16,57,7,21,22,30,20,19,68,24,31,49,57,68,50,21,21,22,25,14,35,12,13,33,19,42,36,19,49,47,22,33,39,26,32,25,34,43,15,19,35,25,26,32,19,41,23,58,18,33,31,13,52,21,24,33,34,41,20,40,38,17,37,22,41,19,40,31,21,24,26,24,22,17,15,21,32,28,13,19,27,25,42,29,19,16,13,30,25,48,51,25,29,13,17,31,55,15,17,24,16,17,46,54,28,55,55,35,18,26,22,15,26,10,30,8,20,28,27,17,24,29,8,25,21,25,39,23,39,30,17,30,25,21,18,23,35,42,9,32,35,23,15,69,31,42,15,19,70,29,28,31,43,40,24,54,44,7,18,37,14,26,43,51,22,50,45,35,29,13,27,22,25,16,19,15,28,10,25,41,21,15,19,23,41,29,46,57,45,23,17,17,29,13,21,9,28,11,52,51,13,37,46,24,40,49,19,30,41,45,15,32,20,24,47,19,18,24,19,29,15,35,17,47,20,21,36,25,20,12,8,43,18,23,30,22,10,31,17,18,48,24,15,21,34,32,31,36,21,32,57,46,60,19,25,19,10,52,40,52,40,15,34,22,24,41,18,18,25,17,59,30,12,30,24,41,47,39,14,25,22,42,36,7,12,69,51,16,53,17,20,23,16,28,40,19,32,24,36,18,18,59,19,30,25,20,12],\"xaxis\":\"x\",\"yaxis\":\"y\",\"type\":\"histogram\"}],                        {\"template\":{\"data\":{\"histogram2dcontour\":[{\"type\":\"histogram2dcontour\",\"colorbar\":{\"outlinewidth\":0,\"ticks\":\"\"},\"colorscale\":[[0.0,\"#0d0887\"],[0.1111111111111111,\"#46039f\"],[0.2222222222222222,\"#7201a8\"],[0.3333333333333333,\"#9c179e\"],[0.4444444444444444,\"#bd3786\"],[0.5555555555555556,\"#d8576b\"],[0.6666666666666666,\"#ed7953\"],[0.7777777777777778,\"#fb9f3a\"],[0.8888888888888888,\"#fdca26\"],[1.0,\"#f0f921\"]]}],\"choropleth\":[{\"type\":\"choropleth\",\"colorbar\":{\"outlinewidth\":0,\"ticks\":\"\"}}],\"histogram2d\":[{\"type\":\"histogram2d\",\"colorbar\":{\"outlinewidth\":0,\"ticks\":\"\"},\"colorscale\":[[0.0,\"#0d0887\"],[0.1111111111111111,\"#46039f\"],[0.2222222222222222,\"#7201a8\"],[0.3333333333333333,\"#9c179e\"],[0.4444444444444444,\"#bd3786\"],[0.5555555555555556,\"#d8576b\"],[0.6666666666666666,\"#ed7953\"],[0.7777777777777778,\"#fb9f3a\"],[0.8888888888888888,\"#fdca26\"],[1.0,\"#f0f921\"]]}],\"heatmap\":[{\"type\":\"heatmap\",\"colorbar\":{\"outlinewidth\":0,\"ticks\":\"\"},\"colorscale\":[[0.0,\"#0d0887\"],[0.1111111111111111,\"#46039f\"],[0.2222222222222222,\"#7201a8\"],[0.3333333333333333,\"#9c179e\"],[0.4444444444444444,\"#bd3786\"],[0.5555555555555556,\"#d8576b\"],[0.6666666666666666,\"#ed7953\"],[0.7777777777777778,\"#fb9f3a\"],[0.8888888888888888,\"#fdca26\"],[1.0,\"#f0f921\"]]}],\"heatmapgl\":[{\"type\":\"heatmapgl\",\"colorbar\":{\"outlinewidth\":0,\"ticks\":\"\"},\"colorscale\":[[0.0,\"#0d0887\"],[0.1111111111111111,\"#46039f\"],[0.2222222222222222,\"#7201a8\"],[0.3333333333333333,\"#9c179e\"],[0.4444444444444444,\"#bd3786\"],[0.5555555555555556,\"#d8576b\"],[0.6666666666666666,\"#ed7953\"],[0.7777777777777778,\"#fb9f3a\"],[0.8888888888888888,\"#fdca26\"],[1.0,\"#f0f921\"]]}],\"contourcarpet\":[{\"type\":\"contourcarpet\",\"colorbar\":{\"outlinewidth\":0,\"ticks\":\"\"}}],\"contour\":[{\"type\":\"contour\",\"colorbar\":{\"outlinewidth\":0,\"ticks\":\"\"},\"colorscale\":[[0.0,\"#0d0887\"],[0.1111111111111111,\"#46039f\"],[0.2222222222222222,\"#7201a8\"],[0.3333333333333333,\"#9c179e\"],[0.4444444444444444,\"#bd3786\"],[0.5555555555555556,\"#d8576b\"],[0.6666666666666666,\"#ed7953\"],[0.7777777777777778,\"#fb9f3a\"],[0.8888888888888888,\"#fdca26\"],[1.0,\"#f0f921\"]]}],\"surface\":[{\"type\":\"surface\",\"colorbar\":{\"outlinewidth\":0,\"ticks\":\"\"},\"colorscale\":[[0.0,\"#0d0887\"],[0.1111111111111111,\"#46039f\"],[0.2222222222222222,\"#7201a8\"],[0.3333333333333333,\"#9c179e\"],[0.4444444444444444,\"#bd3786\"],[0.5555555555555556,\"#d8576b\"],[0.6666666666666666,\"#ed7953\"],[0.7777777777777778,\"#fb9f3a\"],[0.8888888888888888,\"#fdca26\"],[1.0,\"#f0f921\"]]}],\"mesh3d\":[{\"type\":\"mesh3d\",\"colorbar\":{\"outlinewidth\":0,\"ticks\":\"\"}}],\"scatter\":[{\"fillpattern\":{\"fillmode\":\"overlay\",\"size\":10,\"solidity\":0.2},\"type\":\"scatter\"}],\"parcoords\":[{\"type\":\"parcoords\",\"line\":{\"colorbar\":{\"outlinewidth\":0,\"ticks\":\"\"}}}],\"scatterpolargl\":[{\"type\":\"scatterpolargl\",\"marker\":{\"colorbar\":{\"outlinewidth\":0,\"ticks\":\"\"}}}],\"bar\":[{\"error_x\":{\"color\":\"#2a3f5f\"},\"error_y\":{\"color\":\"#2a3f5f\"},\"marker\":{\"line\":{\"color\":\"#E5ECF6\",\"width\":0.5},\"pattern\":{\"fillmode\":\"overlay\",\"size\":10,\"solidity\":0.2}},\"type\":\"bar\"}],\"scattergeo\":[{\"type\":\"scattergeo\",\"marker\":{\"colorbar\":{\"outlinewidth\":0,\"ticks\":\"\"}}}],\"scatterpolar\":[{\"type\":\"scatterpolar\",\"marker\":{\"colorbar\":{\"outlinewidth\":0,\"ticks\":\"\"}}}],\"histogram\":[{\"marker\":{\"pattern\":{\"fillmode\":\"overlay\",\"size\":10,\"solidity\":0.2}},\"type\":\"histogram\"}],\"scattergl\":[{\"type\":\"scattergl\",\"marker\":{\"colorbar\":{\"outlinewidth\":0,\"ticks\":\"\"}}}],\"scatter3d\":[{\"type\":\"scatter3d\",\"line\":{\"colorbar\":{\"outlinewidth\":0,\"ticks\":\"\"}},\"marker\":{\"colorbar\":{\"outlinewidth\":0,\"ticks\":\"\"}}}],\"scattermapbox\":[{\"type\":\"scattermapbox\",\"marker\":{\"colorbar\":{\"outlinewidth\":0,\"ticks\":\"\"}}}],\"scatterternary\":[{\"type\":\"scatterternary\",\"marker\":{\"colorbar\":{\"outlinewidth\":0,\"ticks\":\"\"}}}],\"scattercarpet\":[{\"type\":\"scattercarpet\",\"marker\":{\"colorbar\":{\"outlinewidth\":0,\"ticks\":\"\"}}}],\"carpet\":[{\"aaxis\":{\"endlinecolor\":\"#2a3f5f\",\"gridcolor\":\"white\",\"linecolor\":\"white\",\"minorgridcolor\":\"white\",\"startlinecolor\":\"#2a3f5f\"},\"baxis\":{\"endlinecolor\":\"#2a3f5f\",\"gridcolor\":\"white\",\"linecolor\":\"white\",\"minorgridcolor\":\"white\",\"startlinecolor\":\"#2a3f5f\"},\"type\":\"carpet\"}],\"table\":[{\"cells\":{\"fill\":{\"color\":\"#EBF0F8\"},\"line\":{\"color\":\"white\"}},\"header\":{\"fill\":{\"color\":\"#C8D4E3\"},\"line\":{\"color\":\"white\"}},\"type\":\"table\"}],\"barpolar\":[{\"marker\":{\"line\":{\"color\":\"#E5ECF6\",\"width\":0.5},\"pattern\":{\"fillmode\":\"overlay\",\"size\":10,\"solidity\":0.2}},\"type\":\"barpolar\"}],\"pie\":[{\"automargin\":true,\"type\":\"pie\"}]},\"layout\":{\"autotypenumbers\":\"strict\",\"colorway\":[\"#636efa\",\"#EF553B\",\"#00cc96\",\"#ab63fa\",\"#FFA15A\",\"#19d3f3\",\"#FF6692\",\"#B6E880\",\"#FF97FF\",\"#FECB52\"],\"font\":{\"color\":\"#2a3f5f\"},\"hovermode\":\"closest\",\"hoverlabel\":{\"align\":\"left\"},\"paper_bgcolor\":\"white\",\"plot_bgcolor\":\"#E5ECF6\",\"polar\":{\"bgcolor\":\"#E5ECF6\",\"angularaxis\":{\"gridcolor\":\"white\",\"linecolor\":\"white\",\"ticks\":\"\"},\"radialaxis\":{\"gridcolor\":\"white\",\"linecolor\":\"white\",\"ticks\":\"\"}},\"ternary\":{\"bgcolor\":\"#E5ECF6\",\"aaxis\":{\"gridcolor\":\"white\",\"linecolor\":\"white\",\"ticks\":\"\"},\"baxis\":{\"gridcolor\":\"white\",\"linecolor\":\"white\",\"ticks\":\"\"},\"caxis\":{\"gridcolor\":\"white\",\"linecolor\":\"white\",\"ticks\":\"\"}},\"coloraxis\":{\"colorbar\":{\"outlinewidth\":0,\"ticks\":\"\"}},\"colorscale\":{\"sequential\":[[0.0,\"#0d0887\"],[0.1111111111111111,\"#46039f\"],[0.2222222222222222,\"#7201a8\"],[0.3333333333333333,\"#9c179e\"],[0.4444444444444444,\"#bd3786\"],[0.5555555555555556,\"#d8576b\"],[0.6666666666666666,\"#ed7953\"],[0.7777777777777778,\"#fb9f3a\"],[0.8888888888888888,\"#fdca26\"],[1.0,\"#f0f921\"]],\"sequentialminus\":[[0.0,\"#0d0887\"],[0.1111111111111111,\"#46039f\"],[0.2222222222222222,\"#7201a8\"],[0.3333333333333333,\"#9c179e\"],[0.4444444444444444,\"#bd3786\"],[0.5555555555555556,\"#d8576b\"],[0.6666666666666666,\"#ed7953\"],[0.7777777777777778,\"#fb9f3a\"],[0.8888888888888888,\"#fdca26\"],[1.0,\"#f0f921\"]],\"diverging\":[[0,\"#8e0152\"],[0.1,\"#c51b7d\"],[0.2,\"#de77ae\"],[0.3,\"#f1b6da\"],[0.4,\"#fde0ef\"],[0.5,\"#f7f7f7\"],[0.6,\"#e6f5d0\"],[0.7,\"#b8e186\"],[0.8,\"#7fbc41\"],[0.9,\"#4d9221\"],[1,\"#276419\"]]},\"xaxis\":{\"gridcolor\":\"white\",\"linecolor\":\"white\",\"ticks\":\"\",\"title\":{\"standoff\":15},\"zerolinecolor\":\"white\",\"automargin\":true,\"zerolinewidth\":2},\"yaxis\":{\"gridcolor\":\"white\",\"linecolor\":\"white\",\"ticks\":\"\",\"title\":{\"standoff\":15},\"zerolinecolor\":\"white\",\"automargin\":true,\"zerolinewidth\":2},\"scene\":{\"xaxis\":{\"backgroundcolor\":\"#E5ECF6\",\"gridcolor\":\"white\",\"linecolor\":\"white\",\"showbackground\":true,\"ticks\":\"\",\"zerolinecolor\":\"white\",\"gridwidth\":2},\"yaxis\":{\"backgroundcolor\":\"#E5ECF6\",\"gridcolor\":\"white\",\"linecolor\":\"white\",\"showbackground\":true,\"ticks\":\"\",\"zerolinecolor\":\"white\",\"gridwidth\":2},\"zaxis\":{\"backgroundcolor\":\"#E5ECF6\",\"gridcolor\":\"white\",\"linecolor\":\"white\",\"showbackground\":true,\"ticks\":\"\",\"zerolinecolor\":\"white\",\"gridwidth\":2}},\"shapedefaults\":{\"line\":{\"color\":\"#2a3f5f\"}},\"annotationdefaults\":{\"arrowcolor\":\"#2a3f5f\",\"arrowhead\":0,\"arrowwidth\":1},\"geo\":{\"bgcolor\":\"white\",\"landcolor\":\"#E5ECF6\",\"subunitcolor\":\"white\",\"showland\":true,\"showlakes\":true,\"lakecolor\":\"white\"},\"title\":{\"x\":0.05},\"mapbox\":{\"style\":\"light\"}}},\"xaxis\":{\"anchor\":\"y\",\"domain\":[0.0,1.0],\"title\":{\"text\":\"Age\"}},\"yaxis\":{\"anchor\":\"x\",\"domain\":[0.0,1.0],\"title\":{\"text\":\"count\"}},\"legend\":{\"tracegroupgap\":0},\"margin\":{\"t\":60},\"barmode\":\"relative\",\"bargap\":0.1},                        {\"responsive\": true}                    ).then(function(){\n",
       "                            \n",
       "var gd = document.getElementById('f25f745c-654b-45f1-a996-f173cbdbf2fd');\n",
       "var x = new MutationObserver(function (mutations, observer) {{\n",
       "        var display = window.getComputedStyle(gd).display;\n",
       "        if (!display || display === 'none') {{\n",
       "            console.log([gd, 'removed!']);\n",
       "            Plotly.purge(gd);\n",
       "            observer.disconnect();\n",
       "        }}\n",
       "}});\n",
       "\n",
       "// Listen for the removal of the full notebook cells\n",
       "var notebookContainer = gd.closest('#notebook-container');\n",
       "if (notebookContainer) {{\n",
       "    x.observe(notebookContainer, {childList: true});\n",
       "}}\n",
       "\n",
       "// Listen for the clearing of the current output cell\n",
       "var outputEl = gd.closest('.output');\n",
       "if (outputEl) {{\n",
       "    x.observe(outputEl, {childList: true});\n",
       "}}\n",
       "\n",
       "                        })                };                });            </script>        </div>"
      ]
     },
     "metadata": {},
     "output_type": "display_data"
    }
   ],
   "source": [
    "import plotly.express as px\n",
    "\n",
    "fig = px.histogram(age_df, x='Age', nbins=10)\n",
    "fig.update_layout(bargap=0.1)\n",
    "fig.show()"
   ]
  },
  {
   "cell_type": "markdown",
   "id": "aacb53c8",
   "metadata": {
    "papermill": {
     "duration": 0.014051,
     "end_time": "2023-07-11T13:56:42.893389",
     "exception": false,
     "start_time": "2023-07-11T13:56:42.879338",
     "status": "completed"
    },
    "tags": []
   },
   "source": [
    "We can see that people in their 20s are the most common shark attack victims, followed by teenagers.\n",
    "\n",
    "Our last graph is going to be a bar graph looking at the activity the victim was participating in before the attack (i.e. surfing, swimming...)"
   ]
  },
  {
   "cell_type": "code",
   "execution_count": 14,
   "id": "3bd1efab",
   "metadata": {
    "execution": {
     "iopub.execute_input": "2023-07-11T13:56:42.923894Z",
     "iopub.status.busy": "2023-07-11T13:56:42.923514Z",
     "iopub.status.idle": "2023-07-11T13:56:42.932946Z",
     "shell.execute_reply": "2023-07-11T13:56:42.932206Z"
    },
    "papermill": {
     "duration": 0.027027,
     "end_time": "2023-07-11T13:56:42.934956",
     "exception": false,
     "start_time": "2023-07-11T13:56:42.907929",
     "status": "completed"
    },
    "tags": []
   },
   "outputs": [
    {
     "data": {
      "text/plain": [
       "Surfing                                                             464\n",
       "Swimming                                                            251\n",
       "Spearfishing                                                        115\n",
       "Wading                                                               56\n",
       "Fishing                                                              55\n",
       "                                                                   ... \n",
       "Dived overboard to check propeller of US Navy motor torpedo boat      1\n",
       "Fell overboard, hanging onto lifebuoy                                 1\n",
       "Feeding sharks & stingrays                                            1\n",
       "Unknown                                                               1\n",
       "Swimming after a tennis ball                                          1\n",
       "Name: Activity, Length: 339, dtype: int64"
      ]
     },
     "execution_count": 14,
     "metadata": {},
     "output_type": "execute_result"
    }
   ],
   "source": [
    "df['Activity'].value_counts()"
   ]
  },
  {
   "cell_type": "code",
   "execution_count": 15,
   "id": "e3ca770a",
   "metadata": {
    "execution": {
     "iopub.execute_input": "2023-07-11T13:56:42.965968Z",
     "iopub.status.busy": "2023-07-11T13:56:42.965393Z",
     "iopub.status.idle": "2023-07-11T13:56:42.976985Z",
     "shell.execute_reply": "2023-07-11T13:56:42.976238Z"
    },
    "papermill": {
     "duration": 0.029744,
     "end_time": "2023-07-11T13:56:42.979263",
     "exception": false,
     "start_time": "2023-07-11T13:56:42.949519",
     "status": "completed"
    },
    "tags": []
   },
   "outputs": [
    {
     "data": {
      "text/plain": [
       "Surfing                           464\n",
       "Swimming                          251\n",
       "Spearfishing                      115\n",
       "Wading                             56\n",
       "Fishing                            55\n",
       "Snorkeling                         43\n",
       "Body boarding                      36\n",
       "Standing                           36\n",
       "Scuba diving                       24\n",
       "Diving                             22\n",
       "Body surfing                       19\n",
       "Kayaking                           19\n",
       "Boogie boarding                    18\n",
       "Treading water                     18\n",
       "Free diving                        12\n",
       "Surf skiing                         8\n",
       "Walking                             7\n",
       "Windsurfing                         7\n",
       "Free diving for abalone             7\n",
       "Paddle boarding                     7\n",
       "Bathing                             6\n",
       "Surf-skiing                         6\n",
       "Floating                            6\n",
       "Surfing (sitting on his board)      5\n",
       "Stand-Up Paddleboarding             5\n",
       "Playing                             5\n",
       "Diving for abalone                  4\n",
       "Body Boarding                       4\n",
       "Boogie Boarding                     4\n",
       "Name: Activity, dtype: int64"
      ]
     },
     "execution_count": 15,
     "metadata": {},
     "output_type": "execute_result"
    }
   ],
   "source": [
    "# To make this simpler we will drop any sample with an 'Activity' that occurs less than four times\n",
    "\n",
    "is_multi = df['Activity'].value_counts() > 3\n",
    "activity_df = df[df['Activity'].isin(is_multi[is_multi].index)]\n",
    "activity_df['Activity'].value_counts()"
   ]
  },
  {
   "cell_type": "code",
   "execution_count": 16,
   "id": "6181eb8b",
   "metadata": {
    "execution": {
     "iopub.execute_input": "2023-07-11T13:56:43.013083Z",
     "iopub.status.busy": "2023-07-11T13:56:43.012375Z",
     "iopub.status.idle": "2023-07-11T13:56:43.023961Z",
     "shell.execute_reply": "2023-07-11T13:56:43.023136Z"
    },
    "papermill": {
     "duration": 0.03243,
     "end_time": "2023-07-11T13:56:43.026420",
     "exception": false,
     "start_time": "2023-07-11T13:56:42.993990",
     "status": "completed"
    },
    "tags": []
   },
   "outputs": [],
   "source": [
    "# To finish up this data cleaning we will rename some of lesser-occuring activity names to align with the category they actually belong to\n",
    "\n",
    "remap = {'Boogie Boarding': 'Boogie boarding',\n",
    "        'Body Boarding': 'Boogie boarding',\n",
    "        'Body boarding': 'Boogie boarding',\n",
    "        'Body surfing': 'Boogie boarding',\n",
    "        'Diving for abalone': 'Diving',\n",
    "        'Playing': 'Wading',\n",
    "        'Stand-Up Paddleboarding': 'Paddle boarding',\n",
    "        'Surfing (sitting on his board)': 'Surfing',\n",
    "        'Bathing': 'Wading',\n",
    "        'Free diving for abalone': 'Diving',\n",
    "        'Free diving': 'Diving',\n",
    "        'Walking': 'Wading',\n",
    "        'Surf skiing': 'Kayaking',\n",
    "        'Surf-skiing':'Paddleboarding',\n",
    "        'Standing': 'Wading',\n",
    "        'Bathing': 'Wading',\n",
    "        'Floating': 'Swimming',\n",
    "        'Treading water': 'Swimming',\n",
    "        'diving': 'Diving',\n",
    "        'Paddleboarding': 'Paddle boarding'}\n",
    "\n",
    "activity_df = activity_df.replace({'Activity': remap})"
   ]
  },
  {
   "cell_type": "code",
   "execution_count": 17,
   "id": "9bcefd1b",
   "metadata": {
    "execution": {
     "iopub.execute_input": "2023-07-11T13:56:43.058284Z",
     "iopub.status.busy": "2023-07-11T13:56:43.057564Z",
     "iopub.status.idle": "2023-07-11T13:56:43.133113Z",
     "shell.execute_reply": "2023-07-11T13:56:43.132025Z"
    },
    "papermill": {
     "duration": 0.093932,
     "end_time": "2023-07-11T13:56:43.135543",
     "exception": false,
     "start_time": "2023-07-11T13:56:43.041611",
     "status": "completed"
    },
    "tags": []
   },
   "outputs": [
    {
     "data": {
      "text/html": [
       "<div>                            <div id=\"225d448f-1891-44a3-beae-8e40f30dad36\" class=\"plotly-graph-div\" style=\"height:525px; width:100%;\"></div>            <script type=\"text/javascript\">                require([\"plotly\"], function(Plotly) {                    window.PLOTLYENV=window.PLOTLYENV || {};                                    if (document.getElementById(\"225d448f-1891-44a3-beae-8e40f30dad36\")) {                    Plotly.newPlot(                        \"225d448f-1891-44a3-beae-8e40f30dad36\",                        [{\"alignmentgroup\":\"True\",\"bingroup\":\"x\",\"hovertemplate\":\"Activity=%{x}<br>count=%{y}<extra></extra>\",\"legendgroup\":\"\",\"marker\":{\"color\":\"#636efa\",\"pattern\":{\"shape\":\"\"}},\"name\":\"\",\"offsetgroup\":\"\",\"orientation\":\"v\",\"showlegend\":false,\"x\":[\"Swimming\",\"Surfing\",\"Surfing\",\"Surfing\",\"Fishing\",\"Swimming\",\"Spearfishing\",\"Paddle boarding\",\"Swimming\",\"Surfing\",\"Kayaking\",\"Surfing\",\"Kayaking\",\"Surfing\",\"Boogie boarding\",\"Snorkeling\",\"Swimming\",\"Swimming\",\"Spearfishing\",\"Surfing\",\"Swimming\",\"Surfing\",\"Snorkeling\",\"Swimming\",\"Scuba diving\",\"Surfing\",\"Spearfishing\",\"Surfing\",\"Swimming\",\"Swimming\",\"Surfing\",\"Surfing\",\"Snorkeling\",\"Surfing\",\"Spearfishing\",\"Surfing\",\"Surfing\",\"Diving\",\"Fishing\",\"Surfing\",\"Surfing\",\"Swimming\",\"Swimming\",\"Swimming\",\"Spearfishing\",\"Fishing\",\"Surfing\",\"Swimming\",\"Swimming\",\"Wading\",\"Swimming\",\"Surfing\",\"Surfing\",\"Fishing\",\"Surfing\",\"Boogie boarding\",\"Surfing\",\"Spearfishing\",\"Surfing\",\"Surfing\",\"Wading\",\"Surfing\",\"Snorkeling\",\"Wading\",\"Surfing\",\"Boogie boarding\",\"Surfing\",\"Diving\",\"Fishing\",\"Swimming\",\"Wading\",\"Wading\",\"Swimming\",\"Spearfishing\",\"Surfing\",\"Paddleboarding\",\"Swimming\",\"Wading\",\"Diving\",\"Paddle boarding\",\"Surfing\",\"Surfing\",\"Surfing\",\"Wading\",\"Snorkeling\",\"Boogie boarding\",\"Surfing\",\"Surfing\",\"Surfing\",\"Surfing\",\"Surfing\",\"Diving\",\"Diving\",\"Surfing\",\"Fishing\",\"Snorkeling\",\"Snorkeling\",\"Spearfishing\",\"Surfing\",\"Swimming\",\"Swimming\",\"Surfing\",\"Boogie boarding\",\"Wading\",\"Surfing\",\"Spearfishing\",\"Surfing\",\"Spearfishing\",\"Surfing\",\"Boogie boarding\",\"Boogie boarding\",\"Snorkeling\",\"Surfing\",\"Kayaking\",\"Wading\",\"Scuba diving\",\"Surfing\",\"Surfing\",\"Diving\",\"Surfing\",\"Spearfishing\",\"Spearfishing\",\"Swimming\",\"Spearfishing\",\"Swimming\",\"Wading\",\"Swimming\",\"Swimming\",\"Surfing\",\"Snorkeling\",\"Kayaking\",\"Swimming\",\"Spearfishing\",\"Diving\",\"Spearfishing\",\"Kayaking\",\"Surfing\",\"Wading\",\"Wading\",\"Surfing\",\"Surfing\",\"Spearfishing\",\"Surfing\",\"Boogie boarding\",\"Surfing\",\"Swimming\",\"Snorkeling\",\"Surfing\",\"Surfing\",\"Surfing\",\"Surfing\",\"Swimming\",\"Surfing\",\"Surfing\",\"Swimming\",\"Swimming\",\"Surfing\",\"Surfing\",\"Surfing\",\"Scuba diving\",\"Snorkeling\",\"Boogie boarding\",\"Surfing\",\"Surfing\",\"Surfing\",\"Spearfishing\",\"Surfing\",\"Surfing\",\"Boogie boarding\",\"Scuba diving\",\"Surfing\",\"Kayaking\",\"Spearfishing\",\"Surfing\",\"Spearfishing\",\"Wading\",\"Wading\",\"Wading\",\"Boogie boarding\",\"Swimming\",\"Swimming\",\"Swimming\",\"Surfing\",\"Swimming\",\"Wading\",\"Fishing\",\"Swimming\",\"Swimming\",\"Snorkeling\",\"Swimming\",\"Spearfishing\",\"Fishing\",\"Boogie boarding\",\"Surfing\",\"Swimming\",\"Surfing\",\"Surfing\",\"Surfing\",\"Surfing\",\"Swimming\",\"Surfing\",\"Surfing\",\"Swimming\",\"Surfing\",\"Wading\",\"Surfing\",\"Surfing\",\"Surfing\",\"Swimming\",\"Surfing\",\"Swimming\",\"Surfing\",\"Surfing\",\"Boogie boarding\",\"Spearfishing\",\"Diving\",\"Swimming\",\"Diving\",\"Diving\",\"Boogie boarding\",\"Spearfishing\",\"Swimming\",\"Snorkeling\",\"Swimming\",\"Surfing\",\"Paddle boarding\",\"Wading\",\"Surfing\",\"Snorkeling\",\"Swimming\",\"Wading\",\"Kayaking\",\"Swimming\",\"Surfing\",\"Scuba diving\",\"Kayaking\",\"Scuba diving\",\"Fishing\",\"Swimming\",\"Kayaking\",\"Surfing\",\"Swimming\",\"Surfing\",\"Swimming\",\"Surfing\",\"Paddleboarding\",\"Wading\",\"Boogie boarding\",\"Paddleboarding\",\"Surfing\",\"Surfing\",\"Surfing\",\"Snorkeling\",\"Surfing\",\"Surfing\",\"Surfing\",\"Surfing\",\"Surfing\",\"Surfing\",\"Spearfishing\",\"Spearfishing\",\"Spearfishing\",\"Surfing\",\"Wading\",\"Spearfishing\",\"Swimming\",\"Swimming\",\"Spearfishing\",\"Spearfishing\",\"Swimming\",\"Swimming\",\"Swimming\",\"Swimming\",\"Swimming\",\"Snorkeling\",\"Surfing\",\"Swimming\",\"Spearfishing\",\"Surfing\",\"Fishing\",\"Surfing\",\"Boogie boarding\",\"Swimming\",\"Kayaking\",\"Surfing\",\"Surfing\",\"Swimming\",\"Wading\",\"Surfing\",\"Wading\",\"Diving\",\"Snorkeling\",\"Boogie boarding\",\"Boogie boarding\",\"Surfing\",\"Wading\",\"Boogie boarding\",\"Surfing\",\"Diving\",\"Swimming\",\"Surfing\",\"Surfing\",\"Surfing\",\"Surfing\",\"Swimming\",\"Surfing\",\"Surfing\",\"Swimming\",\"Surfing\",\"Surfing\",\"Surfing\",\"Boogie boarding\",\"Boogie boarding\",\"Surfing\",\"Surfing\",\"Surfing\",\"Spearfishing\",\"Spearfishing\",\"Spearfishing\",\"Diving\",\"Paddleboarding\",\"Diving\",\"Spearfishing\",\"Swimming\",\"Spearfishing\",\"Surfing\",\"Swimming\",\"Swimming\",\"Boogie boarding\",\"Wading\",\"Swimming\",\"Boogie boarding\",\"Surfing\",\"Surfing\",\"Spearfishing\",\"Surfing\",\"Swimming\",\"Scuba diving\",\"Surfing\",\"Spearfishing\",\"Fishing\",\"Surfing\",\"Surfing\",\"Surfing\",\"Swimming\",\"Surfing\",\"Diving\",\"Swimming\",\"Surfing\",\"Surfing\",\"Swimming\",\"Surfing\",\"Surfing\",\"Kayaking\",\"Spearfishing\",\"Surfing\",\"Surfing\",\"Surfing\",\"Wading\",\"Swimming\",\"Swimming\",\"Swimming\",\"Spearfishing\",\"Swimming\",\"Swimming\",\"Spearfishing\",\"Swimming\",\"Swimming\",\"Boogie boarding\",\"Swimming\",\"Surfing\",\"Swimming\",\"Surfing\",\"Boogie boarding\",\"Surfing\",\"Surfing\",\"Swimming\",\"Spearfishing\",\"Surfing\",\"Surfing\",\"Boogie boarding\",\"Surfing\",\"Surfing\",\"Surfing\",\"Surfing\",\"Surfing\",\"Swimming\",\"Spearfishing\",\"Surfing\",\"Boogie boarding\",\"Fishing\",\"Surfing\",\"Spearfishing\",\"Surfing\",\"Surfing\",\"Swimming\",\"Surfing\",\"Diving\",\"Surfing\",\"Surfing\",\"Swimming\",\"Surfing\",\"Scuba diving\",\"Snorkeling\",\"Surfing\",\"Spearfishing\",\"Surfing\",\"Swimming\",\"Spearfishing\",\"Swimming\",\"Surfing\",\"Surfing\",\"Surfing\",\"Swimming\",\"Surfing\",\"Surfing\",\"Swimming\",\"Surfing\",\"Surfing\",\"Swimming\",\"Spearfishing\",\"Swimming\",\"Swimming\",\"Swimming\",\"Wading\",\"Kayaking\",\"Boogie boarding\",\"Fishing\",\"Snorkeling\",\"Kayaking\",\"Fishing\",\"Boogie boarding\",\"Wading\",\"Spearfishing\",\"Surfing\",\"Snorkeling\",\"Surfing\",\"Surfing\",\"Boogie boarding\",\"Surfing\",\"Surfing\",\"Wading\",\"Surfing\",\"Snorkeling\",\"Surfing\",\"Swimming\",\"Boogie boarding\",\"Surfing\",\"Boogie boarding\",\"Surfing\",\"Surfing\",\"Snorkeling\",\"Surfing\",\"Boogie boarding\",\"Surfing\",\"Boogie boarding\",\"Swimming\",\"Surfing\",\"Scuba diving\",\"Swimming\",\"Boogie boarding\",\"Surfing\",\"Surfing\",\"Swimming\",\"Surfing\",\"Diving\",\"Boogie boarding\",\"Fishing\",\"Wading\",\"Surfing\",\"Surfing\",\"Surfing\",\"Surfing\",\"Wading\",\"Wading\",\"Surfing\",\"Surfing\",\"Snorkeling\",\"Diving\",\"Surfing\",\"Surfing\",\"Swimming\",\"Surfing\",\"Snorkeling\",\"Scuba diving\",\"Spearfishing\",\"Surfing\",\"Snorkeling\",\"Boogie boarding\",\"Surfing\",\"Fishing\",\"Surfing\",\"Surfing\",\"Surfing\",\"Surfing\",\"Wading\",\"Spearfishing\",\"Boogie boarding\",\"Surfing\",\"Surfing\",\"Surfing\",\"Boogie boarding\",\"Surfing\",\"Windsurfing\",\"Spearfishing\",\"Boogie boarding\",\"Spearfishing\",\"Swimming\",\"Swimming\",\"Scuba diving\",\"Wading\",\"Spearfishing\",\"Surfing\",\"Wading\",\"Swimming\",\"Surfing\",\"Swimming\",\"Windsurfing\",\"Surfing\",\"Paddle boarding\",\"Fishing\",\"Surfing\",\"Swimming\",\"Surfing\",\"Swimming\",\"Swimming\",\"Swimming\",\"Swimming\",\"Swimming\",\"Scuba diving\",\"Surfing\",\"Swimming\",\"Surfing\",\"Surfing\",\"Spearfishing\",\"Surfing\",\"Wading\",\"Surfing\",\"Surfing\",\"Surfing\",\"Swimming\",\"Swimming\",\"Spearfishing\",\"Boogie boarding\",\"Surfing\",\"Wading\",\"Swimming\",\"Surfing\",\"Surfing\",\"Surfing\",\"Swimming\",\"Surfing\",\"Spearfishing\",\"Fishing\",\"Wading\",\"Swimming\",\"Swimming\",\"Wading\",\"Fishing\",\"Boogie boarding\",\"Scuba diving\",\"Surfing\",\"Surfing\",\"Fishing\",\"Swimming\",\"Surfing\",\"Fishing\",\"Spearfishing\",\"Swimming\",\"Diving\",\"Boogie boarding\",\"Surfing\",\"Fishing\",\"Surfing\",\"Fishing\",\"Surfing\",\"Surfing\",\"Surfing\",\"Swimming\",\"Fishing\",\"Swimming\",\"Swimming\",\"Wading\",\"Swimming\",\"Windsurfing\",\"Surfing\",\"Surfing\",\"Surfing\",\"Surfing\",\"Swimming\",\"Surfing\",\"Surfing\",\"Surfing\",\"Wading\",\"Swimming\",\"Spearfishing\",\"Swimming\",\"Spearfishing\",\"Swimming\",\"Diving\",\"Swimming\",\"Fishing\",\"Snorkeling\",\"Surfing\",\"Snorkeling\",\"Surfing\",\"Boogie boarding\",\"Wading\",\"Swimming\",\"Surfing\",\"Swimming\",\"Surfing\",\"Surfing\",\"Surfing\",\"Wading\",\"Fishing\",\"Surfing\",\"Surfing\",\"Surfing\",\"Surfing\",\"Surfing\",\"Surfing\",\"Swimming\",\"Diving\",\"Kayaking\",\"Surfing\",\"Surfing\",\"Surfing\",\"Boogie boarding\",\"Surfing\",\"Kayaking\",\"Swimming\",\"Wading\",\"Fishing\",\"Surfing\",\"Surfing\",\"Surfing\",\"Boogie boarding\",\"Wading\",\"Swimming\",\"Swimming\",\"Surfing\",\"Surfing\",\"Surfing\",\"Wading\",\"Swimming\",\"Swimming\",\"Surfing\",\"Spearfishing\",\"Surfing\",\"Wading\",\"Spearfishing\",\"Wading\",\"Swimming\",\"Swimming\",\"Swimming\",\"Boogie boarding\",\"Wading\",\"Snorkeling\",\"Fishing\",\"Boogie boarding\",\"Surfing\",\"Snorkeling\",\"Surfing\",\"Diving\",\"Swimming\",\"Swimming\",\"Surfing\",\"Diving\",\"Kayaking\",\"Surfing\",\"Spearfishing\",\"Boogie boarding\",\"Surfing\",\"Swimming\",\"Spearfishing\",\"Surfing\",\"Surfing\",\"Spearfishing\",\"Diving\",\"Surfing\",\"Boogie boarding\",\"Surfing\",\"Surfing\",\"Surfing\",\"Swimming\",\"Surfing\",\"Spearfishing\",\"Spearfishing\",\"Swimming\",\"Swimming\",\"Swimming\",\"Swimming\",\"Surfing\",\"Fishing\",\"Swimming\",\"Wading\",\"Surfing\",\"Surfing\",\"Surfing\",\"Surfing\",\"Snorkeling\",\"Snorkeling\",\"Wading\",\"Wading\",\"Boogie boarding\",\"Surfing\",\"Surfing\",\"Wading\",\"Fishing\",\"Diving\",\"Wading\",\"Wading\",\"Surfing\",\"Swimming\",\"Diving\",\"Swimming\",\"Swimming\",\"Windsurfing\",\"Spearfishing\",\"Surfing\",\"Surfing\",\"Diving\",\"Surfing\",\"Spearfishing\",\"Surfing\",\"Surfing\",\"Diving\",\"Surfing\",\"Diving\",\"Swimming\",\"Spearfishing\",\"Swimming\",\"Swimming\",\"Surfing\",\"Swimming\",\"Swimming\",\"Surfing\",\"Swimming\",\"Surfing\",\"Surfing\",\"Fishing\",\"Surfing\",\"Wading\",\"Surfing\",\"Wading\",\"Swimming\",\"Boogie boarding\",\"Surfing\",\"Surfing\",\"Snorkeling\",\"Boogie boarding\",\"Fishing\",\"Spearfishing\",\"Snorkeling\",\"Swimming\",\"Swimming\",\"Surfing\",\"Surfing\",\"Spearfishing\",\"Wading\",\"Spearfishing\",\"Swimming\",\"Surfing\",\"Kayaking\",\"Boogie boarding\",\"Boogie boarding\",\"Wading\",\"Surfing\",\"Windsurfing\",\"Surfing\",\"Surfing\",\"Surfing\",\"Boogie boarding\",\"Swimming\",\"Swimming\",\"Wading\",\"Swimming\",\"Swimming\",\"Swimming\",\"Swimming\",\"Surfing\",\"Surfing\",\"Swimming\",\"Surfing\",\"Spearfishing\",\"Surfing\",\"Paddle boarding\",\"Snorkeling\",\"Swimming\",\"Swimming\",\"Wading\",\"Boogie boarding\",\"Kayaking\",\"Swimming\",\"Snorkeling\",\"Surfing\",\"Wading\",\"Surfing\",\"Surfing\",\"Swimming\",\"Swimming\",\"Surfing\",\"Surfing\",\"Snorkeling\",\"Swimming\",\"Swimming\",\"Boogie boarding\",\"Swimming\",\"Fishing\",\"Swimming\",\"Surfing\",\"Swimming\",\"Surfing\",\"Boogie boarding\",\"Surfing\",\"Surfing\",\"Snorkeling\",\"Surfing\",\"Surfing\",\"Swimming\",\"Surfing\",\"Surfing\",\"Surfing\",\"Surfing\",\"Surfing\",\"Scuba diving\",\"Swimming\",\"Swimming\",\"Swimming\",\"Swimming\",\"Wading\",\"Wading\",\"Surfing\",\"Surfing\",\"Swimming\",\"Spearfishing\",\"Scuba diving\",\"Paddle boarding\",\"Surfing\",\"Surfing\",\"Surfing\",\"Surfing\",\"Surfing\",\"Surfing\",\"Surfing\",\"Surfing\",\"Boogie boarding\",\"Wading\",\"Wading\",\"Spearfishing\",\"Swimming\",\"Surfing\",\"Swimming\",\"Surfing\",\"Surfing\",\"Spearfishing\",\"Scuba diving\",\"Swimming\",\"Boogie boarding\",\"Swimming\",\"Surfing\",\"Wading\",\"Paddleboarding\",\"Wading\",\"Fishing\",\"Surfing\",\"Scuba diving\",\"Swimming\",\"Boogie boarding\",\"Surfing\",\"Spearfishing\",\"Surfing\",\"Surfing\",\"Spearfishing\",\"Surfing\",\"Spearfishing\",\"Surfing\",\"Surfing\",\"Spearfishing\",\"Surfing\",\"Swimming\",\"Swimming\",\"Swimming\",\"Swimming\",\"Surfing\",\"Spearfishing\",\"Spearfishing\",\"Diving\",\"Spearfishing\",\"Fishing\",\"Wading\",\"Swimming\",\"Wading\",\"Surfing\",\"Fishing\",\"Surfing\",\"Spearfishing\",\"Swimming\",\"Surfing\",\"Swimming\",\"Fishing\",\"Fishing\",\"Spearfishing\",\"Surfing\",\"Swimming\",\"Swimming\",\"Boogie boarding\",\"Wading\",\"Diving\",\"Surfing\",\"Wading\",\"Swimming\",\"Swimming\",\"Surfing\",\"Swimming\",\"Surfing\",\"Surfing\",\"Spearfishing\",\"Swimming\",\"Spearfishing\",\"Spearfishing\",\"Surfing\",\"Surfing\",\"Wading\",\"Swimming\",\"Wading\",\"Surfing\",\"Boogie boarding\",\"Surfing\",\"Surfing\",\"Surfing\",\"Swimming\",\"Wading\",\"Swimming\",\"Snorkeling\",\"Paddle boarding\",\"Swimming\",\"Spearfishing\",\"Wading\",\"Surfing\",\"Swimming\",\"Paddleboarding\",\"Surfing\",\"Swimming\",\"Surfing\",\"Surfing\",\"Swimming\",\"Surfing\",\"Scuba diving\",\"Surfing\",\"Swimming\",\"Swimming\",\"Surfing\",\"Swimming\",\"Surfing\",\"Boogie boarding\",\"Surfing\",\"Surfing\",\"Surfing\",\"Surfing\",\"Surfing\",\"Surfing\",\"Surfing\",\"Surfing\",\"Swimming\",\"Swimming\",\"Surfing\",\"Surfing\",\"Surfing\",\"Surfing\",\"Surfing\",\"Swimming\",\"Surfing\",\"Boogie boarding\",\"Diving\",\"Spearfishing\",\"Fishing\",\"Wading\",\"Spearfishing\",\"Wading\",\"Diving\",\"Wading\",\"Surfing\",\"Surfing\",\"Surfing\",\"Swimming\",\"Surfing\",\"Surfing\",\"Surfing\",\"Swimming\",\"Surfing\",\"Swimming\",\"Surfing\",\"Swimming\",\"Paddle boarding\",\"Surfing\",\"Spearfishing\",\"Wading\",\"Swimming\",\"Boogie boarding\",\"Surfing\",\"Kayaking\",\"Kayaking\",\"Scuba diving\",\"Surfing\",\"Boogie boarding\",\"Surfing\",\"Surfing\",\"Surfing\",\"Snorkeling\",\"Swimming\",\"Wading\",\"Spearfishing\",\"Boogie boarding\",\"Swimming\",\"Swimming\",\"Swimming\",\"Kayaking\",\"Swimming\",\"Surfing\",\"Kayaking\",\"Surfing\",\"Surfing\",\"Wading\",\"Wading\",\"Swimming\",\"Surfing\",\"Surfing\",\"Snorkeling\",\"Surfing\",\"Surfing\",\"Surfing\",\"Swimming\",\"Wading\",\"Surfing\",\"Scuba diving\",\"Boogie boarding\",\"Diving\",\"Spearfishing\",\"Wading\",\"Snorkeling\",\"Surfing\",\"Surfing\",\"Wading\",\"Wading\",\"Surfing\",\"Spearfishing\",\"Surfing\",\"Diving\",\"Surfing\",\"Scuba diving\",\"Windsurfing\",\"Swimming\",\"Surfing\",\"Swimming\",\"Swimming\",\"Diving\",\"Boogie boarding\",\"Swimming\",\"Spearfishing\",\"Swimming\",\"Swimming\",\"Swimming\",\"Fishing\",\"Surfing\",\"Swimming\",\"Wading\",\"Surfing\",\"Surfing\",\"Surfing\",\"Surfing\",\"Wading\",\"Surfing\",\"Swimming\",\"Surfing\",\"Spearfishing\",\"Surfing\",\"Kayaking\",\"Windsurfing\",\"Swimming\",\"Boogie boarding\",\"Kayaking\",\"Swimming\",\"Surfing\",\"Spearfishing\",\"Surfing\",\"Surfing\",\"Surfing\",\"Spearfishing\",\"Wading\",\"Wading\",\"Fishing\",\"Diving\",\"Diving\",\"Wading\",\"Snorkeling\",\"Surfing\",\"Boogie boarding\",\"Swimming\",\"Surfing\",\"Surfing\",\"Surfing\",\"Fishing\",\"Spearfishing\",\"Paddle boarding\",\"Paddle boarding\",\"Surfing\",\"Surfing\",\"Surfing\",\"Scuba diving\",\"Swimming\",\"Surfing\",\"Swimming\",\"Fishing\",\"Boogie boarding\",\"Surfing\",\"Surfing\",\"Swimming\",\"Surfing\",\"Swimming\",\"Spearfishing\",\"Fishing\",\"Surfing\",\"Surfing\",\"Wading\",\"Swimming\",\"Fishing\",\"Swimming\",\"Diving\",\"Spearfishing\",\"Scuba diving\",\"Wading\",\"Fishing\",\"Swimming\",\"Fishing\",\"Swimming\",\"Wading\",\"Wading\",\"Snorkeling\",\"Diving\",\"Paddle boarding\",\"Fishing\",\"Swimming\",\"Surfing\",\"Boogie boarding\",\"Spearfishing\",\"Paddle boarding\",\"Spearfishing\",\"Swimming\",\"Fishing\",\"Surfing\",\"Spearfishing\",\"Swimming\",\"Surfing\",\"Wading\",\"Wading\",\"Boogie boarding\",\"Spearfishing\",\"Swimming\",\"Boogie boarding\",\"Wading\",\"Surfing\",\"Diving\",\"Wading\",\"Surfing\",\"Surfing\",\"Swimming\",\"Swimming\",\"Swimming\",\"Swimming\",\"Spearfishing\",\"Surfing\",\"Surfing\",\"Surfing\",\"Scuba diving\",\"Fishing\",\"Swimming\",\"Spearfishing\",\"Swimming\",\"Surfing\",\"Swimming\",\"Spearfishing\",\"Kayaking\",\"Surfing\",\"Swimming\",\"Wading\",\"Fishing\",\"Swimming\",\"Fishing\",\"Swimming\",\"Diving\",\"Diving\",\"Surfing\",\"Surfing\",\"Surfing\",\"Wading\",\"Swimming\",\"Swimming\",\"Surfing\",\"Swimming\",\"Surfing\",\"Wading\",\"Boogie boarding\",\"Spearfishing\",\"Surfing\",\"Spearfishing\",\"Surfing\",\"Spearfishing\",\"Wading\",\"Spearfishing\",\"Swimming\",\"Spearfishing\",\"Fishing\",\"Boogie boarding\",\"Swimming\",\"Swimming\",\"Swimming\",\"Fishing\",\"Surfing\",\"Surfing\",\"Surfing\",\"Surfing\",\"Surfing\",\"Spearfishing\",\"Swimming\",\"Surfing\",\"Surfing\",\"Surfing\",\"Wading\",\"Surfing\",\"Kayaking\",\"Surfing\",\"Kayaking\",\"Boogie boarding\",\"Swimming\",\"Surfing\",\"Surfing\",\"Surfing\",\"Wading\",\"Surfing\",\"Surfing\",\"Surfing\",\"Surfing\",\"Wading\",\"Surfing\",\"Surfing\",\"Wading\",\"Boogie boarding\",\"Surfing\",\"Surfing\",\"Diving\",\"Swimming\",\"Fishing\",\"Surfing\",\"Swimming\",\"Diving\",\"Surfing\",\"Swimming\",\"Swimming\",\"Wading\",\"Spearfishing\",\"Spearfishing\",\"Swimming\",\"Swimming\",\"Wading\",\"Swimming\",\"Swimming\",\"Swimming\"],\"xaxis\":\"x\",\"yaxis\":\"y\",\"type\":\"histogram\"}],                        {\"template\":{\"data\":{\"histogram2dcontour\":[{\"type\":\"histogram2dcontour\",\"colorbar\":{\"outlinewidth\":0,\"ticks\":\"\"},\"colorscale\":[[0.0,\"#0d0887\"],[0.1111111111111111,\"#46039f\"],[0.2222222222222222,\"#7201a8\"],[0.3333333333333333,\"#9c179e\"],[0.4444444444444444,\"#bd3786\"],[0.5555555555555556,\"#d8576b\"],[0.6666666666666666,\"#ed7953\"],[0.7777777777777778,\"#fb9f3a\"],[0.8888888888888888,\"#fdca26\"],[1.0,\"#f0f921\"]]}],\"choropleth\":[{\"type\":\"choropleth\",\"colorbar\":{\"outlinewidth\":0,\"ticks\":\"\"}}],\"histogram2d\":[{\"type\":\"histogram2d\",\"colorbar\":{\"outlinewidth\":0,\"ticks\":\"\"},\"colorscale\":[[0.0,\"#0d0887\"],[0.1111111111111111,\"#46039f\"],[0.2222222222222222,\"#7201a8\"],[0.3333333333333333,\"#9c179e\"],[0.4444444444444444,\"#bd3786\"],[0.5555555555555556,\"#d8576b\"],[0.6666666666666666,\"#ed7953\"],[0.7777777777777778,\"#fb9f3a\"],[0.8888888888888888,\"#fdca26\"],[1.0,\"#f0f921\"]]}],\"heatmap\":[{\"type\":\"heatmap\",\"colorbar\":{\"outlinewidth\":0,\"ticks\":\"\"},\"colorscale\":[[0.0,\"#0d0887\"],[0.1111111111111111,\"#46039f\"],[0.2222222222222222,\"#7201a8\"],[0.3333333333333333,\"#9c179e\"],[0.4444444444444444,\"#bd3786\"],[0.5555555555555556,\"#d8576b\"],[0.6666666666666666,\"#ed7953\"],[0.7777777777777778,\"#fb9f3a\"],[0.8888888888888888,\"#fdca26\"],[1.0,\"#f0f921\"]]}],\"heatmapgl\":[{\"type\":\"heatmapgl\",\"colorbar\":{\"outlinewidth\":0,\"ticks\":\"\"},\"colorscale\":[[0.0,\"#0d0887\"],[0.1111111111111111,\"#46039f\"],[0.2222222222222222,\"#7201a8\"],[0.3333333333333333,\"#9c179e\"],[0.4444444444444444,\"#bd3786\"],[0.5555555555555556,\"#d8576b\"],[0.6666666666666666,\"#ed7953\"],[0.7777777777777778,\"#fb9f3a\"],[0.8888888888888888,\"#fdca26\"],[1.0,\"#f0f921\"]]}],\"contourcarpet\":[{\"type\":\"contourcarpet\",\"colorbar\":{\"outlinewidth\":0,\"ticks\":\"\"}}],\"contour\":[{\"type\":\"contour\",\"colorbar\":{\"outlinewidth\":0,\"ticks\":\"\"},\"colorscale\":[[0.0,\"#0d0887\"],[0.1111111111111111,\"#46039f\"],[0.2222222222222222,\"#7201a8\"],[0.3333333333333333,\"#9c179e\"],[0.4444444444444444,\"#bd3786\"],[0.5555555555555556,\"#d8576b\"],[0.6666666666666666,\"#ed7953\"],[0.7777777777777778,\"#fb9f3a\"],[0.8888888888888888,\"#fdca26\"],[1.0,\"#f0f921\"]]}],\"surface\":[{\"type\":\"surface\",\"colorbar\":{\"outlinewidth\":0,\"ticks\":\"\"},\"colorscale\":[[0.0,\"#0d0887\"],[0.1111111111111111,\"#46039f\"],[0.2222222222222222,\"#7201a8\"],[0.3333333333333333,\"#9c179e\"],[0.4444444444444444,\"#bd3786\"],[0.5555555555555556,\"#d8576b\"],[0.6666666666666666,\"#ed7953\"],[0.7777777777777778,\"#fb9f3a\"],[0.8888888888888888,\"#fdca26\"],[1.0,\"#f0f921\"]]}],\"mesh3d\":[{\"type\":\"mesh3d\",\"colorbar\":{\"outlinewidth\":0,\"ticks\":\"\"}}],\"scatter\":[{\"fillpattern\":{\"fillmode\":\"overlay\",\"size\":10,\"solidity\":0.2},\"type\":\"scatter\"}],\"parcoords\":[{\"type\":\"parcoords\",\"line\":{\"colorbar\":{\"outlinewidth\":0,\"ticks\":\"\"}}}],\"scatterpolargl\":[{\"type\":\"scatterpolargl\",\"marker\":{\"colorbar\":{\"outlinewidth\":0,\"ticks\":\"\"}}}],\"bar\":[{\"error_x\":{\"color\":\"#2a3f5f\"},\"error_y\":{\"color\":\"#2a3f5f\"},\"marker\":{\"line\":{\"color\":\"#E5ECF6\",\"width\":0.5},\"pattern\":{\"fillmode\":\"overlay\",\"size\":10,\"solidity\":0.2}},\"type\":\"bar\"}],\"scattergeo\":[{\"type\":\"scattergeo\",\"marker\":{\"colorbar\":{\"outlinewidth\":0,\"ticks\":\"\"}}}],\"scatterpolar\":[{\"type\":\"scatterpolar\",\"marker\":{\"colorbar\":{\"outlinewidth\":0,\"ticks\":\"\"}}}],\"histogram\":[{\"marker\":{\"pattern\":{\"fillmode\":\"overlay\",\"size\":10,\"solidity\":0.2}},\"type\":\"histogram\"}],\"scattergl\":[{\"type\":\"scattergl\",\"marker\":{\"colorbar\":{\"outlinewidth\":0,\"ticks\":\"\"}}}],\"scatter3d\":[{\"type\":\"scatter3d\",\"line\":{\"colorbar\":{\"outlinewidth\":0,\"ticks\":\"\"}},\"marker\":{\"colorbar\":{\"outlinewidth\":0,\"ticks\":\"\"}}}],\"scattermapbox\":[{\"type\":\"scattermapbox\",\"marker\":{\"colorbar\":{\"outlinewidth\":0,\"ticks\":\"\"}}}],\"scatterternary\":[{\"type\":\"scatterternary\",\"marker\":{\"colorbar\":{\"outlinewidth\":0,\"ticks\":\"\"}}}],\"scattercarpet\":[{\"type\":\"scattercarpet\",\"marker\":{\"colorbar\":{\"outlinewidth\":0,\"ticks\":\"\"}}}],\"carpet\":[{\"aaxis\":{\"endlinecolor\":\"#2a3f5f\",\"gridcolor\":\"white\",\"linecolor\":\"white\",\"minorgridcolor\":\"white\",\"startlinecolor\":\"#2a3f5f\"},\"baxis\":{\"endlinecolor\":\"#2a3f5f\",\"gridcolor\":\"white\",\"linecolor\":\"white\",\"minorgridcolor\":\"white\",\"startlinecolor\":\"#2a3f5f\"},\"type\":\"carpet\"}],\"table\":[{\"cells\":{\"fill\":{\"color\":\"#EBF0F8\"},\"line\":{\"color\":\"white\"}},\"header\":{\"fill\":{\"color\":\"#C8D4E3\"},\"line\":{\"color\":\"white\"}},\"type\":\"table\"}],\"barpolar\":[{\"marker\":{\"line\":{\"color\":\"#E5ECF6\",\"width\":0.5},\"pattern\":{\"fillmode\":\"overlay\",\"size\":10,\"solidity\":0.2}},\"type\":\"barpolar\"}],\"pie\":[{\"automargin\":true,\"type\":\"pie\"}]},\"layout\":{\"autotypenumbers\":\"strict\",\"colorway\":[\"#636efa\",\"#EF553B\",\"#00cc96\",\"#ab63fa\",\"#FFA15A\",\"#19d3f3\",\"#FF6692\",\"#B6E880\",\"#FF97FF\",\"#FECB52\"],\"font\":{\"color\":\"#2a3f5f\"},\"hovermode\":\"closest\",\"hoverlabel\":{\"align\":\"left\"},\"paper_bgcolor\":\"white\",\"plot_bgcolor\":\"#E5ECF6\",\"polar\":{\"bgcolor\":\"#E5ECF6\",\"angularaxis\":{\"gridcolor\":\"white\",\"linecolor\":\"white\",\"ticks\":\"\"},\"radialaxis\":{\"gridcolor\":\"white\",\"linecolor\":\"white\",\"ticks\":\"\"}},\"ternary\":{\"bgcolor\":\"#E5ECF6\",\"aaxis\":{\"gridcolor\":\"white\",\"linecolor\":\"white\",\"ticks\":\"\"},\"baxis\":{\"gridcolor\":\"white\",\"linecolor\":\"white\",\"ticks\":\"\"},\"caxis\":{\"gridcolor\":\"white\",\"linecolor\":\"white\",\"ticks\":\"\"}},\"coloraxis\":{\"colorbar\":{\"outlinewidth\":0,\"ticks\":\"\"}},\"colorscale\":{\"sequential\":[[0.0,\"#0d0887\"],[0.1111111111111111,\"#46039f\"],[0.2222222222222222,\"#7201a8\"],[0.3333333333333333,\"#9c179e\"],[0.4444444444444444,\"#bd3786\"],[0.5555555555555556,\"#d8576b\"],[0.6666666666666666,\"#ed7953\"],[0.7777777777777778,\"#fb9f3a\"],[0.8888888888888888,\"#fdca26\"],[1.0,\"#f0f921\"]],\"sequentialminus\":[[0.0,\"#0d0887\"],[0.1111111111111111,\"#46039f\"],[0.2222222222222222,\"#7201a8\"],[0.3333333333333333,\"#9c179e\"],[0.4444444444444444,\"#bd3786\"],[0.5555555555555556,\"#d8576b\"],[0.6666666666666666,\"#ed7953\"],[0.7777777777777778,\"#fb9f3a\"],[0.8888888888888888,\"#fdca26\"],[1.0,\"#f0f921\"]],\"diverging\":[[0,\"#8e0152\"],[0.1,\"#c51b7d\"],[0.2,\"#de77ae\"],[0.3,\"#f1b6da\"],[0.4,\"#fde0ef\"],[0.5,\"#f7f7f7\"],[0.6,\"#e6f5d0\"],[0.7,\"#b8e186\"],[0.8,\"#7fbc41\"],[0.9,\"#4d9221\"],[1,\"#276419\"]]},\"xaxis\":{\"gridcolor\":\"white\",\"linecolor\":\"white\",\"ticks\":\"\",\"title\":{\"standoff\":15},\"zerolinecolor\":\"white\",\"automargin\":true,\"zerolinewidth\":2},\"yaxis\":{\"gridcolor\":\"white\",\"linecolor\":\"white\",\"ticks\":\"\",\"title\":{\"standoff\":15},\"zerolinecolor\":\"white\",\"automargin\":true,\"zerolinewidth\":2},\"scene\":{\"xaxis\":{\"backgroundcolor\":\"#E5ECF6\",\"gridcolor\":\"white\",\"linecolor\":\"white\",\"showbackground\":true,\"ticks\":\"\",\"zerolinecolor\":\"white\",\"gridwidth\":2},\"yaxis\":{\"backgroundcolor\":\"#E5ECF6\",\"gridcolor\":\"white\",\"linecolor\":\"white\",\"showbackground\":true,\"ticks\":\"\",\"zerolinecolor\":\"white\",\"gridwidth\":2},\"zaxis\":{\"backgroundcolor\":\"#E5ECF6\",\"gridcolor\":\"white\",\"linecolor\":\"white\",\"showbackground\":true,\"ticks\":\"\",\"zerolinecolor\":\"white\",\"gridwidth\":2}},\"shapedefaults\":{\"line\":{\"color\":\"#2a3f5f\"}},\"annotationdefaults\":{\"arrowcolor\":\"#2a3f5f\",\"arrowhead\":0,\"arrowwidth\":1},\"geo\":{\"bgcolor\":\"white\",\"landcolor\":\"#E5ECF6\",\"subunitcolor\":\"white\",\"showland\":true,\"showlakes\":true,\"lakecolor\":\"white\"},\"title\":{\"x\":0.05},\"mapbox\":{\"style\":\"light\"}}},\"xaxis\":{\"anchor\":\"y\",\"domain\":[0.0,1.0],\"title\":{\"text\":\"Activity\"}},\"yaxis\":{\"anchor\":\"x\",\"domain\":[0.0,1.0],\"title\":{\"text\":\"count\"}},\"legend\":{\"tracegroupgap\":0},\"margin\":{\"t\":60},\"barmode\":\"relative\",\"bargap\":0.1},                        {\"responsive\": true}                    ).then(function(){\n",
       "                            \n",
       "var gd = document.getElementById('225d448f-1891-44a3-beae-8e40f30dad36');\n",
       "var x = new MutationObserver(function (mutations, observer) {{\n",
       "        var display = window.getComputedStyle(gd).display;\n",
       "        if (!display || display === 'none') {{\n",
       "            console.log([gd, 'removed!']);\n",
       "            Plotly.purge(gd);\n",
       "            observer.disconnect();\n",
       "        }}\n",
       "}});\n",
       "\n",
       "// Listen for the removal of the full notebook cells\n",
       "var notebookContainer = gd.closest('#notebook-container');\n",
       "if (notebookContainer) {{\n",
       "    x.observe(notebookContainer, {childList: true});\n",
       "}}\n",
       "\n",
       "// Listen for the clearing of the current output cell\n",
       "var outputEl = gd.closest('.output');\n",
       "if (outputEl) {{\n",
       "    x.observe(outputEl, {childList: true});\n",
       "}}\n",
       "\n",
       "                        })                };                });            </script>        </div>"
      ]
     },
     "metadata": {},
     "output_type": "display_data"
    }
   ],
   "source": [
    "fig = px.histogram(activity_df, x='Activity')\n",
    "fig.update_layout(bargap=0.1)\n",
    "fig.show()"
   ]
  },
  {
   "cell_type": "markdown",
   "id": "e8048c6b",
   "metadata": {
    "papermill": {
     "duration": 0.015036,
     "end_time": "2023-07-11T13:56:43.165687",
     "exception": false,
     "start_time": "2023-07-11T13:56:43.150651",
     "status": "completed"
    },
    "tags": []
   },
   "source": [
    "Next, we will take the liberty of combining the groups even further into 'Surfing', 'Swimming', 'Diving', and 'Other' and see how attacks during these activities have changed over time"
   ]
  },
  {
   "cell_type": "code",
   "execution_count": 18,
   "id": "5966aad4",
   "metadata": {
    "execution": {
     "iopub.execute_input": "2023-07-11T13:56:43.197542Z",
     "iopub.status.busy": "2023-07-11T13:56:43.197108Z",
     "iopub.status.idle": "2023-07-11T13:56:43.207222Z",
     "shell.execute_reply": "2023-07-11T13:56:43.206134Z"
    },
    "papermill": {
     "duration": 0.028876,
     "end_time": "2023-07-11T13:56:43.209617",
     "exception": false,
     "start_time": "2023-07-11T13:56:43.180741",
     "status": "completed"
    },
    "tags": []
   },
   "outputs": [],
   "source": [
    "remap = {'Wading': 'Swimming',\n",
    "        'Fishing': 'Other',\n",
    "        'Spearfishing': 'Diving',\n",
    "        'Paddle boarding': 'Other',\n",
    "        'Kayaking': 'Other',\n",
    "        'Boogie boarding': 'Surfing',\n",
    "        'Snorkeling': 'Diving',\n",
    "        'Scuba diving': 'Diving',\n",
    "        'Wading': 'Swimming',\n",
    "        'Windsurfing': 'Other'}\n",
    "\n",
    "activity_df = activity_df.replace({'Activity': remap})"
   ]
  },
  {
   "cell_type": "code",
   "execution_count": 19,
   "id": "a815dd77",
   "metadata": {
    "execution": {
     "iopub.execute_input": "2023-07-11T13:56:43.241785Z",
     "iopub.status.busy": "2023-07-11T13:56:43.241369Z",
     "iopub.status.idle": "2023-07-11T13:56:43.271831Z",
     "shell.execute_reply": "2023-07-11T13:56:43.271027Z"
    },
    "papermill": {
     "duration": 0.049235,
     "end_time": "2023-07-11T13:56:43.274270",
     "exception": false,
     "start_time": "2023-07-11T13:56:43.225035",
     "status": "completed"
    },
    "tags": []
   },
   "outputs": [],
   "source": [
    "activity_df['Year'] = activity_df['Year'].astype('int')\n",
    "\n",
    "activity_pv = activity_df.pivot_table(values='Date', index='Year',  columns='Activity', aggfunc='count')\n",
    "activity_pv.index\n",
    "\n",
    "#drop years less than 1920 because there really is not much data there to look at\n",
    "activity_pv= activity_pv[activity_pv.index > 1960] "
   ]
  },
  {
   "cell_type": "code",
   "execution_count": 20,
   "id": "fef0e043",
   "metadata": {
    "execution": {
     "iopub.execute_input": "2023-07-11T13:56:43.308792Z",
     "iopub.status.busy": "2023-07-11T13:56:43.307817Z",
     "iopub.status.idle": "2023-07-11T13:56:43.442848Z",
     "shell.execute_reply": "2023-07-11T13:56:43.441811Z"
    },
    "papermill": {
     "duration": 0.15549,
     "end_time": "2023-07-11T13:56:43.445251",
     "exception": false,
     "start_time": "2023-07-11T13:56:43.289761",
     "status": "completed"
    },
    "tags": []
   },
   "outputs": [
    {
     "data": {
      "text/html": [
       "<div>                            <div id=\"0d171a56-47e5-4a6f-a779-d3d87c77d531\" class=\"plotly-graph-div\" style=\"height:525px; width:100%;\"></div>            <script type=\"text/javascript\">                require([\"plotly\"], function(Plotly) {                    window.PLOTLYENV=window.PLOTLYENV || {};                                    if (document.getElementById(\"0d171a56-47e5-4a6f-a779-d3d87c77d531\")) {                    Plotly.newPlot(                        \"0d171a56-47e5-4a6f-a779-d3d87c77d531\",                        [{\"hovertemplate\":\"variable=Diving<br>Year=%{x}<br>value=%{y}<extra></extra>\",\"legendgroup\":\"Diving\",\"line\":{\"color\":\"#636efa\",\"dash\":\"solid\"},\"marker\":{\"symbol\":\"circle\"},\"mode\":\"lines\",\"name\":\"Diving\",\"orientation\":\"v\",\"showlegend\":true,\"x\":[1961,1962,1963,1964,1965,1966,1967,1968,1969,1970,1971,1972,1973,1974,1975,1976,1977,1978,1979,1980,1981,1982,1983,1984,1985,1986,1987,1988,1989,1990,1991,1992,1993,1994,1995,1996,1997,1998,1999,2000,2001,2002,2003,2004,2005,2006,2007,2008,2009,2010,2011,2012,2013,2014,2015,2016,2017,2018,2019,2020,2021,2022],\"xaxis\":\"x\",\"y\":[6.0,4.0,5.0,2.0,3.0,2.0,4.0,3.0,2.0,1.0,1.0,1.0,1.0,1.0,1.0,null,1.0,2.0,1.0,3.0,null,1.0,4.0,2.0,3.0,3.0,2.0,2.0,3.0,1.0,3.0,1.0,4.0,1.0,null,3.0,5.0,4.0,2.0,4.0,4.0,4.0,5.0,6.0,4.0,7.0,6.0,4.0,7.0,8.0,9.0,7.0,8.0,3.0,7.0,4.0,3.0,8.0,5.0,5.0,6.0,1.0],\"yaxis\":\"y\",\"type\":\"scatter\"},{\"hovertemplate\":\"variable=Other<br>Year=%{x}<br>value=%{y}<extra></extra>\",\"legendgroup\":\"Other\",\"line\":{\"color\":\"#EF553B\",\"dash\":\"solid\"},\"marker\":{\"symbol\":\"circle\"},\"mode\":\"lines\",\"name\":\"Other\",\"orientation\":\"v\",\"showlegend\":true,\"x\":[1961,1962,1963,1964,1965,1966,1967,1968,1969,1970,1971,1972,1973,1974,1975,1976,1977,1978,1979,1980,1981,1982,1983,1984,1985,1986,1987,1988,1989,1990,1991,1992,1993,1994,1995,1996,1997,1998,1999,2000,2001,2002,2003,2004,2005,2006,2007,2008,2009,2010,2011,2012,2013,2014,2015,2016,2017,2018,2019,2020,2021,2022],\"xaxis\":\"x\",\"y\":[null,1.0,3.0,null,null,1.0,null,null,1.0,null,null,null,null,null,null,null,null,null,null,null,null,1.0,2.0,null,null,null,null,null,2.0,1.0,null,1.0,2.0,1.0,2.0,null,1.0,null,3.0,null,null,4.0,null,null,2.0,3.0,1.0,4.0,7.0,3.0,1.0,7.0,2.0,4.0,3.0,7.0,2.0,8.0,6.0,4.0,4.0,1.0],\"yaxis\":\"y\",\"type\":\"scatter\"},{\"hovertemplate\":\"variable=Surfing<br>Year=%{x}<br>value=%{y}<extra></extra>\",\"legendgroup\":\"Surfing\",\"line\":{\"color\":\"#00cc96\",\"dash\":\"solid\"},\"marker\":{\"symbol\":\"circle\"},\"mode\":\"lines\",\"name\":\"Surfing\",\"orientation\":\"v\",\"showlegend\":true,\"x\":[1961,1962,1963,1964,1965,1966,1967,1968,1969,1970,1971,1972,1973,1974,1975,1976,1977,1978,1979,1980,1981,1982,1983,1984,1985,1986,1987,1988,1989,1990,1991,1992,1993,1994,1995,1996,1997,1998,1999,2000,2001,2002,2003,2004,2005,2006,2007,2008,2009,2010,2011,2012,2013,2014,2015,2016,2017,2018,2019,2020,2021,2022],\"xaxis\":\"x\",\"y\":[null,1.0,2.0,1.0,2.0,1.0,1.0,1.0,2.0,null,3.0,2.0,null,4.0,2.0,5.0,2.0,1.0,2.0,5.0,7.0,6.0,null,4.0,2.0,6.0,7.0,9.0,7.0,7.0,5.0,12.0,3.0,9.0,7.0,10.0,9.0,12.0,10.0,10.0,16.0,19.0,21.0,17.0,21.0,17.0,27.0,16.0,16.0,14.0,12.0,25.0,23.0,16.0,32.0,8.0,14.0,10.0,13.0,16.0,5.0,4.0],\"yaxis\":\"y\",\"type\":\"scatter\"},{\"hovertemplate\":\"variable=Swimming<br>Year=%{x}<br>value=%{y}<extra></extra>\",\"legendgroup\":\"Swimming\",\"line\":{\"color\":\"#ab63fa\",\"dash\":\"solid\"},\"marker\":{\"symbol\":\"circle\"},\"mode\":\"lines\",\"name\":\"Swimming\",\"orientation\":\"v\",\"showlegend\":true,\"x\":[1961,1962,1963,1964,1965,1966,1967,1968,1969,1970,1971,1972,1973,1974,1975,1976,1977,1978,1979,1980,1981,1982,1983,1984,1985,1986,1987,1988,1989,1990,1991,1992,1993,1994,1995,1996,1997,1998,1999,2000,2001,2002,2003,2004,2005,2006,2007,2008,2009,2010,2011,2012,2013,2014,2015,2016,2017,2018,2019,2020,2021,2022],\"xaxis\":\"x\",\"y\":[11.0,6.0,6.0,5.0,1.0,8.0,null,2.0,null,null,4.0,2.0,null,2.0,3.0,null,null,null,null,2.0,3.0,3.0,2.0,4.0,4.0,3.0,3.0,null,null,null,3.0,2.0,4.0,2.0,9.0,2.0,1.0,3.0,1.0,12.0,6.0,10.0,9.0,9.0,9.0,9.0,13.0,12.0,9.0,8.0,8.0,7.0,8.0,9.0,17.0,13.0,6.0,12.0,8.0,6.0,9.0,5.0],\"yaxis\":\"y\",\"type\":\"scatter\"}],                        {\"template\":{\"data\":{\"histogram2dcontour\":[{\"type\":\"histogram2dcontour\",\"colorbar\":{\"outlinewidth\":0,\"ticks\":\"\"},\"colorscale\":[[0.0,\"#0d0887\"],[0.1111111111111111,\"#46039f\"],[0.2222222222222222,\"#7201a8\"],[0.3333333333333333,\"#9c179e\"],[0.4444444444444444,\"#bd3786\"],[0.5555555555555556,\"#d8576b\"],[0.6666666666666666,\"#ed7953\"],[0.7777777777777778,\"#fb9f3a\"],[0.8888888888888888,\"#fdca26\"],[1.0,\"#f0f921\"]]}],\"choropleth\":[{\"type\":\"choropleth\",\"colorbar\":{\"outlinewidth\":0,\"ticks\":\"\"}}],\"histogram2d\":[{\"type\":\"histogram2d\",\"colorbar\":{\"outlinewidth\":0,\"ticks\":\"\"},\"colorscale\":[[0.0,\"#0d0887\"],[0.1111111111111111,\"#46039f\"],[0.2222222222222222,\"#7201a8\"],[0.3333333333333333,\"#9c179e\"],[0.4444444444444444,\"#bd3786\"],[0.5555555555555556,\"#d8576b\"],[0.6666666666666666,\"#ed7953\"],[0.7777777777777778,\"#fb9f3a\"],[0.8888888888888888,\"#fdca26\"],[1.0,\"#f0f921\"]]}],\"heatmap\":[{\"type\":\"heatmap\",\"colorbar\":{\"outlinewidth\":0,\"ticks\":\"\"},\"colorscale\":[[0.0,\"#0d0887\"],[0.1111111111111111,\"#46039f\"],[0.2222222222222222,\"#7201a8\"],[0.3333333333333333,\"#9c179e\"],[0.4444444444444444,\"#bd3786\"],[0.5555555555555556,\"#d8576b\"],[0.6666666666666666,\"#ed7953\"],[0.7777777777777778,\"#fb9f3a\"],[0.8888888888888888,\"#fdca26\"],[1.0,\"#f0f921\"]]}],\"heatmapgl\":[{\"type\":\"heatmapgl\",\"colorbar\":{\"outlinewidth\":0,\"ticks\":\"\"},\"colorscale\":[[0.0,\"#0d0887\"],[0.1111111111111111,\"#46039f\"],[0.2222222222222222,\"#7201a8\"],[0.3333333333333333,\"#9c179e\"],[0.4444444444444444,\"#bd3786\"],[0.5555555555555556,\"#d8576b\"],[0.6666666666666666,\"#ed7953\"],[0.7777777777777778,\"#fb9f3a\"],[0.8888888888888888,\"#fdca26\"],[1.0,\"#f0f921\"]]}],\"contourcarpet\":[{\"type\":\"contourcarpet\",\"colorbar\":{\"outlinewidth\":0,\"ticks\":\"\"}}],\"contour\":[{\"type\":\"contour\",\"colorbar\":{\"outlinewidth\":0,\"ticks\":\"\"},\"colorscale\":[[0.0,\"#0d0887\"],[0.1111111111111111,\"#46039f\"],[0.2222222222222222,\"#7201a8\"],[0.3333333333333333,\"#9c179e\"],[0.4444444444444444,\"#bd3786\"],[0.5555555555555556,\"#d8576b\"],[0.6666666666666666,\"#ed7953\"],[0.7777777777777778,\"#fb9f3a\"],[0.8888888888888888,\"#fdca26\"],[1.0,\"#f0f921\"]]}],\"surface\":[{\"type\":\"surface\",\"colorbar\":{\"outlinewidth\":0,\"ticks\":\"\"},\"colorscale\":[[0.0,\"#0d0887\"],[0.1111111111111111,\"#46039f\"],[0.2222222222222222,\"#7201a8\"],[0.3333333333333333,\"#9c179e\"],[0.4444444444444444,\"#bd3786\"],[0.5555555555555556,\"#d8576b\"],[0.6666666666666666,\"#ed7953\"],[0.7777777777777778,\"#fb9f3a\"],[0.8888888888888888,\"#fdca26\"],[1.0,\"#f0f921\"]]}],\"mesh3d\":[{\"type\":\"mesh3d\",\"colorbar\":{\"outlinewidth\":0,\"ticks\":\"\"}}],\"scatter\":[{\"fillpattern\":{\"fillmode\":\"overlay\",\"size\":10,\"solidity\":0.2},\"type\":\"scatter\"}],\"parcoords\":[{\"type\":\"parcoords\",\"line\":{\"colorbar\":{\"outlinewidth\":0,\"ticks\":\"\"}}}],\"scatterpolargl\":[{\"type\":\"scatterpolargl\",\"marker\":{\"colorbar\":{\"outlinewidth\":0,\"ticks\":\"\"}}}],\"bar\":[{\"error_x\":{\"color\":\"#2a3f5f\"},\"error_y\":{\"color\":\"#2a3f5f\"},\"marker\":{\"line\":{\"color\":\"#E5ECF6\",\"width\":0.5},\"pattern\":{\"fillmode\":\"overlay\",\"size\":10,\"solidity\":0.2}},\"type\":\"bar\"}],\"scattergeo\":[{\"type\":\"scattergeo\",\"marker\":{\"colorbar\":{\"outlinewidth\":0,\"ticks\":\"\"}}}],\"scatterpolar\":[{\"type\":\"scatterpolar\",\"marker\":{\"colorbar\":{\"outlinewidth\":0,\"ticks\":\"\"}}}],\"histogram\":[{\"marker\":{\"pattern\":{\"fillmode\":\"overlay\",\"size\":10,\"solidity\":0.2}},\"type\":\"histogram\"}],\"scattergl\":[{\"type\":\"scattergl\",\"marker\":{\"colorbar\":{\"outlinewidth\":0,\"ticks\":\"\"}}}],\"scatter3d\":[{\"type\":\"scatter3d\",\"line\":{\"colorbar\":{\"outlinewidth\":0,\"ticks\":\"\"}},\"marker\":{\"colorbar\":{\"outlinewidth\":0,\"ticks\":\"\"}}}],\"scattermapbox\":[{\"type\":\"scattermapbox\",\"marker\":{\"colorbar\":{\"outlinewidth\":0,\"ticks\":\"\"}}}],\"scatterternary\":[{\"type\":\"scatterternary\",\"marker\":{\"colorbar\":{\"outlinewidth\":0,\"ticks\":\"\"}}}],\"scattercarpet\":[{\"type\":\"scattercarpet\",\"marker\":{\"colorbar\":{\"outlinewidth\":0,\"ticks\":\"\"}}}],\"carpet\":[{\"aaxis\":{\"endlinecolor\":\"#2a3f5f\",\"gridcolor\":\"white\",\"linecolor\":\"white\",\"minorgridcolor\":\"white\",\"startlinecolor\":\"#2a3f5f\"},\"baxis\":{\"endlinecolor\":\"#2a3f5f\",\"gridcolor\":\"white\",\"linecolor\":\"white\",\"minorgridcolor\":\"white\",\"startlinecolor\":\"#2a3f5f\"},\"type\":\"carpet\"}],\"table\":[{\"cells\":{\"fill\":{\"color\":\"#EBF0F8\"},\"line\":{\"color\":\"white\"}},\"header\":{\"fill\":{\"color\":\"#C8D4E3\"},\"line\":{\"color\":\"white\"}},\"type\":\"table\"}],\"barpolar\":[{\"marker\":{\"line\":{\"color\":\"#E5ECF6\",\"width\":0.5},\"pattern\":{\"fillmode\":\"overlay\",\"size\":10,\"solidity\":0.2}},\"type\":\"barpolar\"}],\"pie\":[{\"automargin\":true,\"type\":\"pie\"}]},\"layout\":{\"autotypenumbers\":\"strict\",\"colorway\":[\"#636efa\",\"#EF553B\",\"#00cc96\",\"#ab63fa\",\"#FFA15A\",\"#19d3f3\",\"#FF6692\",\"#B6E880\",\"#FF97FF\",\"#FECB52\"],\"font\":{\"color\":\"#2a3f5f\"},\"hovermode\":\"closest\",\"hoverlabel\":{\"align\":\"left\"},\"paper_bgcolor\":\"white\",\"plot_bgcolor\":\"#E5ECF6\",\"polar\":{\"bgcolor\":\"#E5ECF6\",\"angularaxis\":{\"gridcolor\":\"white\",\"linecolor\":\"white\",\"ticks\":\"\"},\"radialaxis\":{\"gridcolor\":\"white\",\"linecolor\":\"white\",\"ticks\":\"\"}},\"ternary\":{\"bgcolor\":\"#E5ECF6\",\"aaxis\":{\"gridcolor\":\"white\",\"linecolor\":\"white\",\"ticks\":\"\"},\"baxis\":{\"gridcolor\":\"white\",\"linecolor\":\"white\",\"ticks\":\"\"},\"caxis\":{\"gridcolor\":\"white\",\"linecolor\":\"white\",\"ticks\":\"\"}},\"coloraxis\":{\"colorbar\":{\"outlinewidth\":0,\"ticks\":\"\"}},\"colorscale\":{\"sequential\":[[0.0,\"#0d0887\"],[0.1111111111111111,\"#46039f\"],[0.2222222222222222,\"#7201a8\"],[0.3333333333333333,\"#9c179e\"],[0.4444444444444444,\"#bd3786\"],[0.5555555555555556,\"#d8576b\"],[0.6666666666666666,\"#ed7953\"],[0.7777777777777778,\"#fb9f3a\"],[0.8888888888888888,\"#fdca26\"],[1.0,\"#f0f921\"]],\"sequentialminus\":[[0.0,\"#0d0887\"],[0.1111111111111111,\"#46039f\"],[0.2222222222222222,\"#7201a8\"],[0.3333333333333333,\"#9c179e\"],[0.4444444444444444,\"#bd3786\"],[0.5555555555555556,\"#d8576b\"],[0.6666666666666666,\"#ed7953\"],[0.7777777777777778,\"#fb9f3a\"],[0.8888888888888888,\"#fdca26\"],[1.0,\"#f0f921\"]],\"diverging\":[[0,\"#8e0152\"],[0.1,\"#c51b7d\"],[0.2,\"#de77ae\"],[0.3,\"#f1b6da\"],[0.4,\"#fde0ef\"],[0.5,\"#f7f7f7\"],[0.6,\"#e6f5d0\"],[0.7,\"#b8e186\"],[0.8,\"#7fbc41\"],[0.9,\"#4d9221\"],[1,\"#276419\"]]},\"xaxis\":{\"gridcolor\":\"white\",\"linecolor\":\"white\",\"ticks\":\"\",\"title\":{\"standoff\":15},\"zerolinecolor\":\"white\",\"automargin\":true,\"zerolinewidth\":2},\"yaxis\":{\"gridcolor\":\"white\",\"linecolor\":\"white\",\"ticks\":\"\",\"title\":{\"standoff\":15},\"zerolinecolor\":\"white\",\"automargin\":true,\"zerolinewidth\":2},\"scene\":{\"xaxis\":{\"backgroundcolor\":\"#E5ECF6\",\"gridcolor\":\"white\",\"linecolor\":\"white\",\"showbackground\":true,\"ticks\":\"\",\"zerolinecolor\":\"white\",\"gridwidth\":2},\"yaxis\":{\"backgroundcolor\":\"#E5ECF6\",\"gridcolor\":\"white\",\"linecolor\":\"white\",\"showbackground\":true,\"ticks\":\"\",\"zerolinecolor\":\"white\",\"gridwidth\":2},\"zaxis\":{\"backgroundcolor\":\"#E5ECF6\",\"gridcolor\":\"white\",\"linecolor\":\"white\",\"showbackground\":true,\"ticks\":\"\",\"zerolinecolor\":\"white\",\"gridwidth\":2}},\"shapedefaults\":{\"line\":{\"color\":\"#2a3f5f\"}},\"annotationdefaults\":{\"arrowcolor\":\"#2a3f5f\",\"arrowhead\":0,\"arrowwidth\":1},\"geo\":{\"bgcolor\":\"white\",\"landcolor\":\"#E5ECF6\",\"subunitcolor\":\"white\",\"showland\":true,\"showlakes\":true,\"lakecolor\":\"white\"},\"title\":{\"x\":0.05},\"mapbox\":{\"style\":\"light\"}}},\"xaxis\":{\"anchor\":\"y\",\"domain\":[0.0,1.0],\"title\":{\"text\":\"Year\"}},\"yaxis\":{\"anchor\":\"x\",\"domain\":[0.0,1.0],\"title\":{\"text\":\"value\"}},\"legend\":{\"title\":{\"text\":\"variable\"},\"tracegroupgap\":0},\"margin\":{\"t\":60}},                        {\"responsive\": true}                    ).then(function(){\n",
       "                            \n",
       "var gd = document.getElementById('0d171a56-47e5-4a6f-a779-d3d87c77d531');\n",
       "var x = new MutationObserver(function (mutations, observer) {{\n",
       "        var display = window.getComputedStyle(gd).display;\n",
       "        if (!display || display === 'none') {{\n",
       "            console.log([gd, 'removed!']);\n",
       "            Plotly.purge(gd);\n",
       "            observer.disconnect();\n",
       "        }}\n",
       "}});\n",
       "\n",
       "// Listen for the removal of the full notebook cells\n",
       "var notebookContainer = gd.closest('#notebook-container');\n",
       "if (notebookContainer) {{\n",
       "    x.observe(notebookContainer, {childList: true});\n",
       "}}\n",
       "\n",
       "// Listen for the clearing of the current output cell\n",
       "var outputEl = gd.closest('.output');\n",
       "if (outputEl) {{\n",
       "    x.observe(outputEl, {childList: true});\n",
       "}}\n",
       "\n",
       "                        })                };                });            </script>        </div>"
      ]
     },
     "metadata": {},
     "output_type": "display_data"
    }
   ],
   "source": [
    "fig = px.line(activity_pv, x = activity_pv.index, y = ['Diving', 'Other', 'Surfing', 'Swimming'])\n",
    "fig.show()"
   ]
  },
  {
   "cell_type": "markdown",
   "id": "7d761791",
   "metadata": {
    "papermill": {
     "duration": 0.014934,
     "end_time": "2023-07-11T13:56:43.475658",
     "exception": false,
     "start_time": "2023-07-11T13:56:43.460724",
     "status": "completed"
    },
    "tags": []
   },
   "source": [
    "You can really see the popularity of surfing increasein the late 80s to 2000s. Also interesting to look at how swimming sharply increased in the early 2000s, while diving has remained pretty steady for the whole time period.\n",
    "\n",
    "Lastly, lets plot these shark attacks on a world map to see where attacks occur the most"
   ]
  },
  {
   "cell_type": "code",
   "execution_count": 21,
   "id": "51579761",
   "metadata": {
    "execution": {
     "iopub.execute_input": "2023-07-11T13:56:43.508492Z",
     "iopub.status.busy": "2023-07-11T13:56:43.508083Z",
     "iopub.status.idle": "2023-07-11T14:41:40.588943Z",
     "shell.execute_reply": "2023-07-11T14:41:40.586793Z"
    },
    "papermill": {
     "duration": 2697.114422,
     "end_time": "2023-07-11T14:41:40.605856",
     "exception": true,
     "start_time": "2023-07-11T13:56:43.491434",
     "status": "failed"
    },
    "tags": []
   },
   "outputs": [
    {
     "ename": "ValueError",
     "evalue": "Columns must be same length as key",
     "output_type": "error",
     "traceback": [
      "\u001b[0;31m---------------------------------------------------------------------------\u001b[0m",
      "\u001b[0;31mValueError\u001b[0m                                Traceback (most recent call last)",
      "\u001b[0;32m/tmp/ipykernel_20/2934309300.py\u001b[0m in \u001b[0;36m?\u001b[0;34m()\u001b[0m\n\u001b[1;32m     10\u001b[0m         \u001b[0;32mreturn\u001b[0m \u001b[0;32mNone\u001b[0m\u001b[0;34m\u001b[0m\u001b[0;34m\u001b[0m\u001b[0m\n\u001b[1;32m     11\u001b[0m \u001b[0;34m\u001b[0m\u001b[0m\n\u001b[1;32m     12\u001b[0m \u001b[0;31m# Geocode df based on 'Location'\u001b[0m\u001b[0;34m\u001b[0m\u001b[0;34m\u001b[0m\u001b[0m\n\u001b[1;32m     13\u001b[0m \u001b[0mgeo_df\u001b[0m \u001b[0;34m=\u001b[0m \u001b[0mdf\u001b[0m\u001b[0;34m\u001b[0m\u001b[0;34m\u001b[0m\u001b[0m\n\u001b[0;32m---> 14\u001b[0;31m \u001b[0mgeo_df\u001b[0m\u001b[0;34m[\u001b[0m\u001b[0;34m[\u001b[0m\u001b[0;34m'Lat'\u001b[0m\u001b[0;34m,\u001b[0m \u001b[0;34m'Long'\u001b[0m\u001b[0;34m]\u001b[0m\u001b[0;34m]\u001b[0m \u001b[0;34m=\u001b[0m \u001b[0mgeo_df\u001b[0m\u001b[0;34m.\u001b[0m\u001b[0mapply\u001b[0m\u001b[0;34m(\u001b[0m\u001b[0;32mlambda\u001b[0m \u001b[0mx\u001b[0m\u001b[0;34m:\u001b[0m \u001b[0mmy_geocoder\u001b[0m\u001b[0;34m(\u001b[0m\u001b[0;34m{\u001b[0m\u001b[0mx\u001b[0m\u001b[0;34m[\u001b[0m\u001b[0;34m'Location'\u001b[0m\u001b[0;34m]\u001b[0m \u001b[0;34m+\u001b[0m \u001b[0;34m', '\u001b[0m \u001b[0;34m+\u001b[0m \u001b[0mx\u001b[0m\u001b[0;34m[\u001b[0m\u001b[0;34m'Area'\u001b[0m\u001b[0;34m]\u001b[0m \u001b[0;34m+\u001b[0m \u001b[0;34m', '\u001b[0m \u001b[0;34m+\u001b[0m \u001b[0mx\u001b[0m\u001b[0;34m[\u001b[0m\u001b[0;34m'Country'\u001b[0m\u001b[0;34m]\u001b[0m\u001b[0;34m}\u001b[0m\u001b[0;34m)\u001b[0m\u001b[0;34m,\u001b[0m \u001b[0maxis\u001b[0m\u001b[0;34m=\u001b[0m\u001b[0;36m1\u001b[0m\u001b[0;34m)\u001b[0m\u001b[0;34m\u001b[0m\u001b[0;34m\u001b[0m\u001b[0m\n\u001b[0m\u001b[1;32m     15\u001b[0m \u001b[0mgeo_df\u001b[0m\u001b[0;34m.\u001b[0m\u001b[0mhead\u001b[0m\u001b[0;34m(\u001b[0m\u001b[0;34m)\u001b[0m\u001b[0;34m\u001b[0m\u001b[0;34m\u001b[0m\u001b[0m\n\u001b[1;32m     16\u001b[0m \u001b[0;34m\u001b[0m\u001b[0m\n\u001b[1;32m     17\u001b[0m \u001b[0;34m\u001b[0m\u001b[0m\n",
      "\u001b[0;32m/opt/conda/lib/python3.10/site-packages/pandas/core/frame.py\u001b[0m in \u001b[0;36m?\u001b[0;34m(self, key, value)\u001b[0m\n\u001b[1;32m   3964\u001b[0m \u001b[0;34m\u001b[0m\u001b[0m\n\u001b[1;32m   3965\u001b[0m         \u001b[0;32mif\u001b[0m \u001b[0misinstance\u001b[0m\u001b[0;34m(\u001b[0m\u001b[0mkey\u001b[0m\u001b[0;34m,\u001b[0m \u001b[0mDataFrame\u001b[0m\u001b[0;34m)\u001b[0m \u001b[0;32mor\u001b[0m \u001b[0mgetattr\u001b[0m\u001b[0;34m(\u001b[0m\u001b[0mkey\u001b[0m\u001b[0;34m,\u001b[0m \u001b[0;34m\"ndim\"\u001b[0m\u001b[0;34m,\u001b[0m \u001b[0;32mNone\u001b[0m\u001b[0;34m)\u001b[0m \u001b[0;34m==\u001b[0m \u001b[0;36m2\u001b[0m\u001b[0;34m:\u001b[0m\u001b[0;34m\u001b[0m\u001b[0;34m\u001b[0m\u001b[0m\n\u001b[1;32m   3966\u001b[0m             \u001b[0mself\u001b[0m\u001b[0;34m.\u001b[0m\u001b[0m_setitem_frame\u001b[0m\u001b[0;34m(\u001b[0m\u001b[0mkey\u001b[0m\u001b[0;34m,\u001b[0m \u001b[0mvalue\u001b[0m\u001b[0;34m)\u001b[0m\u001b[0;34m\u001b[0m\u001b[0;34m\u001b[0m\u001b[0m\n\u001b[1;32m   3967\u001b[0m         \u001b[0;32melif\u001b[0m \u001b[0misinstance\u001b[0m\u001b[0;34m(\u001b[0m\u001b[0mkey\u001b[0m\u001b[0;34m,\u001b[0m \u001b[0;34m(\u001b[0m\u001b[0mSeries\u001b[0m\u001b[0;34m,\u001b[0m \u001b[0mnp\u001b[0m\u001b[0;34m.\u001b[0m\u001b[0mndarray\u001b[0m\u001b[0;34m,\u001b[0m \u001b[0mlist\u001b[0m\u001b[0;34m,\u001b[0m \u001b[0mIndex\u001b[0m\u001b[0;34m)\u001b[0m\u001b[0;34m)\u001b[0m\u001b[0;34m:\u001b[0m\u001b[0;34m\u001b[0m\u001b[0;34m\u001b[0m\u001b[0m\n\u001b[0;32m-> 3968\u001b[0;31m             \u001b[0mself\u001b[0m\u001b[0;34m.\u001b[0m\u001b[0m_setitem_array\u001b[0m\u001b[0;34m(\u001b[0m\u001b[0mkey\u001b[0m\u001b[0;34m,\u001b[0m \u001b[0mvalue\u001b[0m\u001b[0;34m)\u001b[0m\u001b[0;34m\u001b[0m\u001b[0;34m\u001b[0m\u001b[0m\n\u001b[0m\u001b[1;32m   3969\u001b[0m         \u001b[0;32melif\u001b[0m \u001b[0misinstance\u001b[0m\u001b[0;34m(\u001b[0m\u001b[0mvalue\u001b[0m\u001b[0;34m,\u001b[0m \u001b[0mDataFrame\u001b[0m\u001b[0;34m)\u001b[0m\u001b[0;34m:\u001b[0m\u001b[0;34m\u001b[0m\u001b[0;34m\u001b[0m\u001b[0m\n\u001b[1;32m   3970\u001b[0m             \u001b[0mself\u001b[0m\u001b[0;34m.\u001b[0m\u001b[0m_set_item_frame_value\u001b[0m\u001b[0;34m(\u001b[0m\u001b[0mkey\u001b[0m\u001b[0;34m,\u001b[0m \u001b[0mvalue\u001b[0m\u001b[0;34m)\u001b[0m\u001b[0;34m\u001b[0m\u001b[0;34m\u001b[0m\u001b[0m\n\u001b[1;32m   3971\u001b[0m         elif (\n",
      "\u001b[0;32m/opt/conda/lib/python3.10/site-packages/pandas/core/frame.py\u001b[0m in \u001b[0;36m?\u001b[0;34m(self, key, value)\u001b[0m\n\u001b[1;32m   4023\u001b[0m                 \u001b[0mvalue\u001b[0m \u001b[0;34m=\u001b[0m \u001b[0mDataFrame\u001b[0m\u001b[0;34m(\u001b[0m\u001b[0mvalue\u001b[0m\u001b[0;34m)\u001b[0m\u001b[0;34m.\u001b[0m\u001b[0mvalues\u001b[0m\u001b[0;34m\u001b[0m\u001b[0;34m\u001b[0m\u001b[0m\n\u001b[1;32m   4024\u001b[0m                 \u001b[0;32mreturn\u001b[0m \u001b[0mself\u001b[0m\u001b[0;34m.\u001b[0m\u001b[0m_setitem_array\u001b[0m\u001b[0;34m(\u001b[0m\u001b[0mkey\u001b[0m\u001b[0;34m,\u001b[0m \u001b[0mvalue\u001b[0m\u001b[0;34m)\u001b[0m\u001b[0;34m\u001b[0m\u001b[0;34m\u001b[0m\u001b[0m\n\u001b[1;32m   4025\u001b[0m \u001b[0;34m\u001b[0m\u001b[0m\n\u001b[1;32m   4026\u001b[0m             \u001b[0;32melse\u001b[0m\u001b[0;34m:\u001b[0m\u001b[0;34m\u001b[0m\u001b[0;34m\u001b[0m\u001b[0m\n\u001b[0;32m-> 4027\u001b[0;31m                 \u001b[0mself\u001b[0m\u001b[0;34m.\u001b[0m\u001b[0m_iset_not_inplace\u001b[0m\u001b[0;34m(\u001b[0m\u001b[0mkey\u001b[0m\u001b[0;34m,\u001b[0m \u001b[0mvalue\u001b[0m\u001b[0;34m)\u001b[0m\u001b[0;34m\u001b[0m\u001b[0;34m\u001b[0m\u001b[0m\n\u001b[0m",
      "\u001b[0;32m/opt/conda/lib/python3.10/site-packages/pandas/core/frame.py\u001b[0m in \u001b[0;36m?\u001b[0;34m(self, key, value)\u001b[0m\n\u001b[1;32m   4042\u001b[0m                 \u001b[0;32mreturn\u001b[0m \u001b[0mobj\u001b[0m\u001b[0;34m[\u001b[0m\u001b[0mi\u001b[0m\u001b[0;34m]\u001b[0m\u001b[0;34m\u001b[0m\u001b[0;34m\u001b[0m\u001b[0m\n\u001b[1;32m   4043\u001b[0m \u001b[0;34m\u001b[0m\u001b[0m\n\u001b[1;32m   4044\u001b[0m         \u001b[0;32mif\u001b[0m \u001b[0mself\u001b[0m\u001b[0;34m.\u001b[0m\u001b[0mcolumns\u001b[0m\u001b[0;34m.\u001b[0m\u001b[0mis_unique\u001b[0m\u001b[0;34m:\u001b[0m\u001b[0;34m\u001b[0m\u001b[0;34m\u001b[0m\u001b[0m\n\u001b[1;32m   4045\u001b[0m             \u001b[0;32mif\u001b[0m \u001b[0mnp\u001b[0m\u001b[0;34m.\u001b[0m\u001b[0mshape\u001b[0m\u001b[0;34m(\u001b[0m\u001b[0mvalue\u001b[0m\u001b[0;34m)\u001b[0m\u001b[0;34m[\u001b[0m\u001b[0;34m-\u001b[0m\u001b[0;36m1\u001b[0m\u001b[0;34m]\u001b[0m \u001b[0;34m!=\u001b[0m \u001b[0mlen\u001b[0m\u001b[0;34m(\u001b[0m\u001b[0mkey\u001b[0m\u001b[0;34m)\u001b[0m\u001b[0;34m:\u001b[0m\u001b[0;34m\u001b[0m\u001b[0;34m\u001b[0m\u001b[0m\n\u001b[0;32m-> 4046\u001b[0;31m                 \u001b[0;32mraise\u001b[0m \u001b[0mValueError\u001b[0m\u001b[0;34m(\u001b[0m\u001b[0;34m\"Columns must be same length as key\"\u001b[0m\u001b[0;34m)\u001b[0m\u001b[0;34m\u001b[0m\u001b[0;34m\u001b[0m\u001b[0m\n\u001b[0m\u001b[1;32m   4047\u001b[0m \u001b[0;34m\u001b[0m\u001b[0m\n\u001b[1;32m   4048\u001b[0m             \u001b[0;32mfor\u001b[0m \u001b[0mi\u001b[0m\u001b[0;34m,\u001b[0m \u001b[0mcol\u001b[0m \u001b[0;32min\u001b[0m \u001b[0menumerate\u001b[0m\u001b[0;34m(\u001b[0m\u001b[0mkey\u001b[0m\u001b[0;34m)\u001b[0m\u001b[0;34m:\u001b[0m\u001b[0;34m\u001b[0m\u001b[0;34m\u001b[0m\u001b[0m\n\u001b[1;32m   4049\u001b[0m                 \u001b[0mself\u001b[0m\u001b[0;34m[\u001b[0m\u001b[0mcol\u001b[0m\u001b[0;34m]\u001b[0m \u001b[0;34m=\u001b[0m \u001b[0migetitem\u001b[0m\u001b[0;34m(\u001b[0m\u001b[0mvalue\u001b[0m\u001b[0;34m,\u001b[0m \u001b[0mi\u001b[0m\u001b[0;34m)\u001b[0m\u001b[0;34m\u001b[0m\u001b[0;34m\u001b[0m\u001b[0m\n",
      "\u001b[0;31mValueError\u001b[0m: Columns must be same length as key"
     ]
    }
   ],
   "source": [
    "from geopy.geocoders import Nominatim\n",
    "import geopandas as gpd\n",
    "\n",
    "geolocator = Nominatim(user_agent=\"kaggle\")\n",
    "def my_geocoder(row):\n",
    "    try:\n",
    "        point = geolocator.geocode(row).point\n",
    "        return pd.Series({'Latitude': point.latitude, 'Longitude': point.longitude})\n",
    "    except:\n",
    "        return None\n",
    "    \n",
    "# Geocode df based on 'Location'\n",
    "geo_df = df\n",
    "geo_df[['Lat', 'Long']] = geo_df.apply(lambda x: my_geocoder({x['Location'] + ', ' + x['Area'] + ', ' + x['Country']}), axis=1)\n",
    "geo_df.head()\n",
    "\n",
    "\n",
    "print(print('{}% of attack locations were succesfully geocoded'.format(\n",
    "    (1 - sum(np.isnan(geo_df['Lat'])) / len(geo_df)) * 100)))"
   ]
  },
  {
   "cell_type": "code",
   "execution_count": null,
   "id": "0c3f2446",
   "metadata": {
    "execution": {
     "iopub.execute_input": "2023-07-11T13:52:50.755411Z",
     "iopub.status.busy": "2023-07-11T13:52:50.754820Z",
     "iopub.status.idle": "2023-07-11T13:52:50.845086Z",
     "shell.execute_reply": "2023-07-11T13:52:50.843775Z",
     "shell.execute_reply.started": "2023-07-11T13:52:50.755382Z"
    },
    "papermill": {
     "duration": null,
     "end_time": null,
     "exception": null,
     "start_time": null,
     "status": "pending"
    },
    "tags": []
   },
   "outputs": [],
   "source": [
    "# Drop samples that were unsuccesfully geocoded\n",
    "geo_df = geo_df.loc[~np.isnan(geo_df['Lat'])]\n",
    "geo_df = gpd.GeoDataFrame(\n",
    "    geo_df, geometry=gpd.points_from_xy(geo_df.Long, geo_df.Lat))\n",
    "geo_df.crs = {'init': 'epsg:4326'}"
   ]
  },
  {
   "cell_type": "code",
   "execution_count": null,
   "id": "83fd5777",
   "metadata": {
    "execution": {
     "iopub.execute_input": "2023-07-11T13:52:50.847190Z",
     "iopub.status.busy": "2023-07-11T13:52:50.846871Z",
     "iopub.status.idle": "2023-07-11T13:52:52.675269Z",
     "shell.execute_reply": "2023-07-11T13:52:52.674360Z",
     "shell.execute_reply.started": "2023-07-11T13:52:50.847163Z"
    },
    "papermill": {
     "duration": null,
     "end_time": null,
     "exception": null,
     "start_time": null,
     "status": "pending"
    },
    "tags": []
   },
   "outputs": [],
   "source": [
    "# Create a map of geo_df\n",
    "import folium\n",
    "from folium import Marker\n",
    "\n",
    "m = folium.Map(location=[54, 15], tiles='openstreetmap', zoom_start=2)\n",
    "\n",
    "# Add points to the map\n",
    "for idx, row in geo_df.iterrows():\n",
    "    Marker([row['Lat'], row['Long']], popup=row['Location']).add_to(m)\n",
    "\n",
    "# Display the map\n",
    "m"
   ]
  },
  {
   "cell_type": "markdown",
   "id": "8983e2e4",
   "metadata": {
    "papermill": {
     "duration": null,
     "end_time": null,
     "exception": null,
     "start_time": null,
     "status": "pending"
    },
    "tags": []
   },
   "source": [
    "The density of markers can tell us where attacks most commonly occur. Also, it looks like only 57% our locations were able to geocode."
   ]
  },
  {
   "cell_type": "code",
   "execution_count": null,
   "id": "9d0049bc",
   "metadata": {
    "papermill": {
     "duration": null,
     "end_time": null,
     "exception": null,
     "start_time": null,
     "status": "pending"
    },
    "tags": []
   },
   "outputs": [],
   "source": []
  }
 ],
 "metadata": {
  "kernelspec": {
   "display_name": "Python 3",
   "language": "python",
   "name": "python3"
  },
  "language_info": {
   "codemirror_mode": {
    "name": "ipython",
    "version": 3
   },
   "file_extension": ".py",
   "mimetype": "text/x-python",
   "name": "python",
   "nbconvert_exporter": "python",
   "pygments_lexer": "ipython3",
   "version": "3.10.10"
  },
  "papermill": {
   "default_parameters": {},
   "duration": 2716.915847,
   "end_time": "2023-07-11T14:41:41.753303",
   "environment_variables": {},
   "exception": true,
   "input_path": "__notebook__.ipynb",
   "output_path": "__notebook__.ipynb",
   "parameters": {},
   "start_time": "2023-07-11T13:56:24.837456",
   "version": "2.4.0"
  }
 },
 "nbformat": 4,
 "nbformat_minor": 5
}
