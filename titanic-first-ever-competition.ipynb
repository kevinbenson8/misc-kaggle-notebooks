{
 "cells": [
  {
   "cell_type": "code",
   "execution_count": 1,
   "id": "5bb53342",
   "metadata": {
    "_cell_guid": "b1076dfc-b9ad-4769-8c92-a6c4dae69d19",
    "_uuid": "8f2839f25d086af736a60e9eeb907d3b93b6e0e5",
    "execution": {
     "iopub.execute_input": "2023-03-02T15:35:11.559172Z",
     "iopub.status.busy": "2023-03-02T15:35:11.558694Z",
     "iopub.status.idle": "2023-03-02T15:35:11.572085Z",
     "shell.execute_reply": "2023-03-02T15:35:11.571229Z"
    },
    "papermill": {
     "duration": 0.026715,
     "end_time": "2023-03-02T15:35:11.574386",
     "exception": false,
     "start_time": "2023-03-02T15:35:11.547671",
     "status": "completed"
    },
    "tags": []
   },
   "outputs": [
    {
     "name": "stdout",
     "output_type": "stream",
     "text": [
      "/kaggle/input/titanic/train.csv\n",
      "/kaggle/input/titanic/test.csv\n",
      "/kaggle/input/titanic/gender_submission.csv\n"
     ]
    }
   ],
   "source": [
    "# This Python 3 environment comes with many helpful analytics libraries installed\n",
    "# It is defined by the kaggle/python Docker image: https://github.com/kaggle/docker-python\n",
    "# For example, here's several helpful packages to load\n",
    "\n",
    "import numpy as np # linear algebra\n",
    "import pandas as pd # data processing, CSV file I/O (e.g. pd.read_csv)\n",
    "\n",
    "# Input data files are available in the read-only \"../input/\" directory\n",
    "# For example, running this (by clicking run or pressing Shift+Enter) will list all files under the input directory\n",
    "\n",
    "import os\n",
    "for dirname, _, filenames in os.walk('/kaggle/input'):\n",
    "    for filename in filenames:\n",
    "        print(os.path.join(dirname, filename))\n",
    "\n",
    "# You can write up to 20GB to the current directory (/kaggle/working/) that gets preserved as output when you create a version using \"Save & Run All\" \n",
    "# You can also write temporary files to /kaggle/temp/, but they won't be saved outside of the current session"
   ]
  },
  {
   "cell_type": "code",
   "execution_count": 2,
   "id": "97e6283c",
   "metadata": {
    "execution": {
     "iopub.execute_input": "2023-03-02T15:35:11.586256Z",
     "iopub.status.busy": "2023-03-02T15:35:11.585842Z",
     "iopub.status.idle": "2023-03-02T15:35:11.639439Z",
     "shell.execute_reply": "2023-03-02T15:35:11.638160Z"
    },
    "papermill": {
     "duration": 0.062797,
     "end_time": "2023-03-02T15:35:11.642452",
     "exception": false,
     "start_time": "2023-03-02T15:35:11.579655",
     "status": "completed"
    },
    "tags": []
   },
   "outputs": [
    {
     "data": {
      "text/html": [
       "<div>\n",
       "<style scoped>\n",
       "    .dataframe tbody tr th:only-of-type {\n",
       "        vertical-align: middle;\n",
       "    }\n",
       "\n",
       "    .dataframe tbody tr th {\n",
       "        vertical-align: top;\n",
       "    }\n",
       "\n",
       "    .dataframe thead th {\n",
       "        text-align: right;\n",
       "    }\n",
       "</style>\n",
       "<table border=\"1\" class=\"dataframe\">\n",
       "  <thead>\n",
       "    <tr style=\"text-align: right;\">\n",
       "      <th></th>\n",
       "      <th>PassengerId</th>\n",
       "      <th>Survived</th>\n",
       "      <th>Pclass</th>\n",
       "      <th>Name</th>\n",
       "      <th>Sex</th>\n",
       "      <th>Age</th>\n",
       "      <th>SibSp</th>\n",
       "      <th>Parch</th>\n",
       "      <th>Ticket</th>\n",
       "      <th>Fare</th>\n",
       "      <th>Cabin</th>\n",
       "      <th>Embarked</th>\n",
       "    </tr>\n",
       "  </thead>\n",
       "  <tbody>\n",
       "    <tr>\n",
       "      <th>0</th>\n",
       "      <td>1</td>\n",
       "      <td>0</td>\n",
       "      <td>3</td>\n",
       "      <td>Braund, Mr. Owen Harris</td>\n",
       "      <td>male</td>\n",
       "      <td>22.0</td>\n",
       "      <td>1</td>\n",
       "      <td>0</td>\n",
       "      <td>A/5 21171</td>\n",
       "      <td>7.2500</td>\n",
       "      <td>NaN</td>\n",
       "      <td>S</td>\n",
       "    </tr>\n",
       "    <tr>\n",
       "      <th>1</th>\n",
       "      <td>2</td>\n",
       "      <td>1</td>\n",
       "      <td>1</td>\n",
       "      <td>Cumings, Mrs. John Bradley (Florence Briggs Th...</td>\n",
       "      <td>female</td>\n",
       "      <td>38.0</td>\n",
       "      <td>1</td>\n",
       "      <td>0</td>\n",
       "      <td>PC 17599</td>\n",
       "      <td>71.2833</td>\n",
       "      <td>C85</td>\n",
       "      <td>C</td>\n",
       "    </tr>\n",
       "    <tr>\n",
       "      <th>2</th>\n",
       "      <td>3</td>\n",
       "      <td>1</td>\n",
       "      <td>3</td>\n",
       "      <td>Heikkinen, Miss. Laina</td>\n",
       "      <td>female</td>\n",
       "      <td>26.0</td>\n",
       "      <td>0</td>\n",
       "      <td>0</td>\n",
       "      <td>STON/O2. 3101282</td>\n",
       "      <td>7.9250</td>\n",
       "      <td>NaN</td>\n",
       "      <td>S</td>\n",
       "    </tr>\n",
       "    <tr>\n",
       "      <th>3</th>\n",
       "      <td>4</td>\n",
       "      <td>1</td>\n",
       "      <td>1</td>\n",
       "      <td>Futrelle, Mrs. Jacques Heath (Lily May Peel)</td>\n",
       "      <td>female</td>\n",
       "      <td>35.0</td>\n",
       "      <td>1</td>\n",
       "      <td>0</td>\n",
       "      <td>113803</td>\n",
       "      <td>53.1000</td>\n",
       "      <td>C123</td>\n",
       "      <td>S</td>\n",
       "    </tr>\n",
       "    <tr>\n",
       "      <th>4</th>\n",
       "      <td>5</td>\n",
       "      <td>0</td>\n",
       "      <td>3</td>\n",
       "      <td>Allen, Mr. William Henry</td>\n",
       "      <td>male</td>\n",
       "      <td>35.0</td>\n",
       "      <td>0</td>\n",
       "      <td>0</td>\n",
       "      <td>373450</td>\n",
       "      <td>8.0500</td>\n",
       "      <td>NaN</td>\n",
       "      <td>S</td>\n",
       "    </tr>\n",
       "  </tbody>\n",
       "</table>\n",
       "</div>"
      ],
      "text/plain": [
       "   PassengerId  Survived  Pclass  \\\n",
       "0            1         0       3   \n",
       "1            2         1       1   \n",
       "2            3         1       3   \n",
       "3            4         1       1   \n",
       "4            5         0       3   \n",
       "\n",
       "                                                Name     Sex   Age  SibSp  \\\n",
       "0                            Braund, Mr. Owen Harris    male  22.0      1   \n",
       "1  Cumings, Mrs. John Bradley (Florence Briggs Th...  female  38.0      1   \n",
       "2                             Heikkinen, Miss. Laina  female  26.0      0   \n",
       "3       Futrelle, Mrs. Jacques Heath (Lily May Peel)  female  35.0      1   \n",
       "4                           Allen, Mr. William Henry    male  35.0      0   \n",
       "\n",
       "   Parch            Ticket     Fare Cabin Embarked  \n",
       "0      0         A/5 21171   7.2500   NaN        S  \n",
       "1      0          PC 17599  71.2833   C85        C  \n",
       "2      0  STON/O2. 3101282   7.9250   NaN        S  \n",
       "3      0            113803  53.1000  C123        S  \n",
       "4      0            373450   8.0500   NaN        S  "
      ]
     },
     "execution_count": 2,
     "metadata": {},
     "output_type": "execute_result"
    }
   ],
   "source": [
    "test_data = pd.read_csv(\"/kaggle/input/titanic/test.csv\")\n",
    "train_data = pd.read_csv(\"/kaggle/input/titanic/train.csv\")\n",
    "train_data.head()"
   ]
  },
  {
   "cell_type": "markdown",
   "id": "53194bbb",
   "metadata": {
    "papermill": {
     "duration": 0.004838,
     "end_time": "2023-03-02T15:35:11.652645",
     "exception": false,
     "start_time": "2023-03-02T15:35:11.647807",
     "status": "completed"
    },
    "tags": []
   },
   "source": [
    "## Explororatory Data Analysis"
   ]
  },
  {
   "cell_type": "code",
   "execution_count": 3,
   "id": "49148d73",
   "metadata": {
    "execution": {
     "iopub.execute_input": "2023-03-02T15:35:11.665086Z",
     "iopub.status.busy": "2023-03-02T15:35:11.664656Z",
     "iopub.status.idle": "2023-03-02T15:35:11.684880Z",
     "shell.execute_reply": "2023-03-02T15:35:11.683614Z"
    },
    "papermill": {
     "duration": 0.030058,
     "end_time": "2023-03-02T15:35:11.687769",
     "exception": false,
     "start_time": "2023-03-02T15:35:11.657711",
     "status": "completed"
    },
    "tags": []
   },
   "outputs": [],
   "source": [
    "# join data together for a better picture\n",
    "\n",
    "full_data = pd.concat(\n",
    "    [\n",
    "        train_data.drop([\"PassengerId\", \"Survived\"], axis=1), \n",
    "        test_data.drop([\"PassengerId\"], axis=1),\n",
    "    ]\n",
    ")\n",
    "y_train = train_data[\"Survived\"].values"
   ]
  },
  {
   "cell_type": "code",
   "execution_count": 4,
   "id": "f1224ab5",
   "metadata": {
    "execution": {
     "iopub.execute_input": "2023-03-02T15:35:11.700102Z",
     "iopub.status.busy": "2023-03-02T15:35:11.699709Z",
     "iopub.status.idle": "2023-03-02T15:35:11.710771Z",
     "shell.execute_reply": "2023-03-02T15:35:11.709396Z"
    },
    "papermill": {
     "duration": 0.01996,
     "end_time": "2023-03-02T15:35:11.712948",
     "exception": false,
     "start_time": "2023-03-02T15:35:11.692988",
     "status": "completed"
    },
    "tags": []
   },
   "outputs": [
    {
     "data": {
      "text/plain": [
       "Pclass         0\n",
       "Name           0\n",
       "Sex            0\n",
       "Age          263\n",
       "SibSp          0\n",
       "Parch          0\n",
       "Ticket         0\n",
       "Fare           1\n",
       "Cabin       1014\n",
       "Embarked       2\n",
       "dtype: int64"
      ]
     },
     "execution_count": 4,
     "metadata": {},
     "output_type": "execute_result"
    }
   ],
   "source": [
    "full_data.isnull().sum()"
   ]
  },
  {
   "cell_type": "markdown",
   "id": "7dc07b1d",
   "metadata": {
    "papermill": {
     "duration": 0.004999,
     "end_time": "2023-03-02T15:35:11.723242",
     "exception": false,
     "start_time": "2023-03-02T15:35:11.718243",
     "status": "completed"
    },
    "tags": []
   },
   "source": [
    "This time around I am going to just add a the column for prefix and then drop rows with null entries.\n",
    "Mostly borrowed from https://www.kaggle.com/code/ihelon/titanic-hyperparameter-tuning-with-gridsearchcv"
   ]
  },
  {
   "cell_type": "markdown",
   "id": "4ace9835",
   "metadata": {
    "papermill": {
     "duration": 0.004802,
     "end_time": "2023-03-02T15:35:11.733253",
     "exception": false,
     "start_time": "2023-03-02T15:35:11.728451",
     "status": "completed"
    },
    "tags": []
   },
   "source": [
    "# Preprocessing"
   ]
  },
  {
   "cell_type": "code",
   "execution_count": 5,
   "id": "6e48e54f",
   "metadata": {
    "execution": {
     "iopub.execute_input": "2023-03-02T15:35:11.745436Z",
     "iopub.status.busy": "2023-03-02T15:35:11.745001Z",
     "iopub.status.idle": "2023-03-02T15:35:11.753702Z",
     "shell.execute_reply": "2023-03-02T15:35:11.752712Z"
    },
    "papermill": {
     "duration": 0.017779,
     "end_time": "2023-03-02T15:35:11.756134",
     "exception": false,
     "start_time": "2023-03-02T15:35:11.738355",
     "status": "completed"
    },
    "tags": []
   },
   "outputs": [],
   "source": [
    "full_data = full_data.drop([\"Age\", \"Cabin\", \"Embarked\", \"Ticket\"], axis=1)"
   ]
  },
  {
   "cell_type": "code",
   "execution_count": 6,
   "id": "ca5eb666",
   "metadata": {
    "execution": {
     "iopub.execute_input": "2023-03-02T15:35:11.768712Z",
     "iopub.status.busy": "2023-03-02T15:35:11.768268Z",
     "iopub.status.idle": "2023-03-02T15:35:11.796025Z",
     "shell.execute_reply": "2023-03-02T15:35:11.794852Z"
    },
    "papermill": {
     "duration": 0.037098,
     "end_time": "2023-03-02T15:35:11.798714",
     "exception": false,
     "start_time": "2023-03-02T15:35:11.761616",
     "status": "completed"
    },
    "tags": []
   },
   "outputs": [
    {
     "data": {
      "text/html": [
       "<div>\n",
       "<style scoped>\n",
       "    .dataframe tbody tr th:only-of-type {\n",
       "        vertical-align: middle;\n",
       "    }\n",
       "\n",
       "    .dataframe tbody tr th {\n",
       "        vertical-align: top;\n",
       "    }\n",
       "\n",
       "    .dataframe thead th {\n",
       "        text-align: right;\n",
       "    }\n",
       "</style>\n",
       "<table border=\"1\" class=\"dataframe\">\n",
       "  <thead>\n",
       "    <tr style=\"text-align: right;\">\n",
       "      <th></th>\n",
       "      <th>Pclass</th>\n",
       "      <th>Sex</th>\n",
       "      <th>SibSp</th>\n",
       "      <th>Parch</th>\n",
       "      <th>Fare</th>\n",
       "      <th>Prefix</th>\n",
       "    </tr>\n",
       "  </thead>\n",
       "  <tbody>\n",
       "    <tr>\n",
       "      <th>134</th>\n",
       "      <td>2</td>\n",
       "      <td>male</td>\n",
       "      <td>0</td>\n",
       "      <td>0</td>\n",
       "      <td>13.0000</td>\n",
       "      <td>Mr</td>\n",
       "    </tr>\n",
       "    <tr>\n",
       "      <th>116</th>\n",
       "      <td>3</td>\n",
       "      <td>male</td>\n",
       "      <td>0</td>\n",
       "      <td>0</td>\n",
       "      <td>6.4375</td>\n",
       "      <td>Mr</td>\n",
       "    </tr>\n",
       "    <tr>\n",
       "      <th>51</th>\n",
       "      <td>2</td>\n",
       "      <td>male</td>\n",
       "      <td>0</td>\n",
       "      <td>0</td>\n",
       "      <td>15.0333</td>\n",
       "      <td>Mr</td>\n",
       "    </tr>\n",
       "    <tr>\n",
       "      <th>686</th>\n",
       "      <td>3</td>\n",
       "      <td>male</td>\n",
       "      <td>4</td>\n",
       "      <td>1</td>\n",
       "      <td>39.6875</td>\n",
       "      <td>Mr</td>\n",
       "    </tr>\n",
       "    <tr>\n",
       "      <th>119</th>\n",
       "      <td>2</td>\n",
       "      <td>female</td>\n",
       "      <td>1</td>\n",
       "      <td>0</td>\n",
       "      <td>26.0000</td>\n",
       "      <td>Mrs</td>\n",
       "    </tr>\n",
       "  </tbody>\n",
       "</table>\n",
       "</div>"
      ],
      "text/plain": [
       "     Pclass     Sex  SibSp  Parch     Fare Prefix\n",
       "134       2    male      0      0  13.0000     Mr\n",
       "116       3    male      0      0   6.4375     Mr\n",
       "51        2    male      0      0  15.0333     Mr\n",
       "686       3    male      4      1  39.6875     Mr\n",
       "119       2  female      1      0  26.0000    Mrs"
      ]
     },
     "execution_count": 6,
     "metadata": {},
     "output_type": "execute_result"
    }
   ],
   "source": [
    "\n",
    "full_data[\"Prefix\"] = full_data[\"Name\"].str.extract(\" ([A-Za-z]+)\\.\")\n",
    "    \n",
    "full_data[\"Prefix\"] = full_data[\"Prefix\"].replace([\"Ms\", \"Mlle\"], \"Miss\")\n",
    "full_data[\"Prefix\"] = full_data[\"Prefix\"].replace([\"Mme\", \"Countess\", \"Lady\", \"Dona\"], \"Mrs\")\n",
    "full_data[\"Prefix\"] = full_data[\"Prefix\"].replace([\"Dr\", \"Major\", \"Col\", \"Sir\", \"Rev\", \"Jonkheer\", \"Capt\", \"Don\"], \"Mr\")\n",
    "full_data = full_data.drop([\"Name\"], axis=1)\n",
    "full_data.sample(5)"
   ]
  },
  {
   "cell_type": "code",
   "execution_count": 7,
   "id": "e4bdfddb",
   "metadata": {
    "execution": {
     "iopub.execute_input": "2023-03-02T15:35:11.812677Z",
     "iopub.status.busy": "2023-03-02T15:35:11.811943Z",
     "iopub.status.idle": "2023-03-02T15:35:11.819998Z",
     "shell.execute_reply": "2023-03-02T15:35:11.819073Z"
    },
    "papermill": {
     "duration": 0.018022,
     "end_time": "2023-03-02T15:35:11.822617",
     "exception": false,
     "start_time": "2023-03-02T15:35:11.804595",
     "status": "completed"
    },
    "tags": []
   },
   "outputs": [],
   "source": [
    "# Replace categorical data with int\n",
    "\n",
    "full_data[\"Sex\"] = full_data[\"Sex\"].map({\"male\": 1, \"female\": 0}).astype(int) \n",
    "full_data['Prefix'] = full_data['Prefix'].map({\"Mr\": 0, \"Miss\": 1, \"Mrs\": 2, \"Master\": 3}).astype(int)   "
   ]
  },
  {
   "cell_type": "code",
   "execution_count": 8,
   "id": "d9e83eeb",
   "metadata": {
    "execution": {
     "iopub.execute_input": "2023-03-02T15:35:11.835332Z",
     "iopub.status.busy": "2023-03-02T15:35:11.834920Z",
     "iopub.status.idle": "2023-03-02T15:35:11.858358Z",
     "shell.execute_reply": "2023-03-02T15:35:11.857198Z"
    },
    "papermill": {
     "duration": 0.033182,
     "end_time": "2023-03-02T15:35:11.861331",
     "exception": false,
     "start_time": "2023-03-02T15:35:11.828149",
     "status": "completed"
    },
    "tags": []
   },
   "outputs": [
    {
     "data": {
      "text/html": [
       "<div>\n",
       "<style scoped>\n",
       "    .dataframe tbody tr th:only-of-type {\n",
       "        vertical-align: middle;\n",
       "    }\n",
       "\n",
       "    .dataframe tbody tr th {\n",
       "        vertical-align: top;\n",
       "    }\n",
       "\n",
       "    .dataframe thead th {\n",
       "        text-align: right;\n",
       "    }\n",
       "</style>\n",
       "<table border=\"1\" class=\"dataframe\">\n",
       "  <thead>\n",
       "    <tr style=\"text-align: right;\">\n",
       "      <th></th>\n",
       "      <th>Pclass</th>\n",
       "      <th>Sex</th>\n",
       "      <th>SibSp</th>\n",
       "      <th>Parch</th>\n",
       "      <th>Fare</th>\n",
       "      <th>Prefix_0</th>\n",
       "      <th>Prefix_1</th>\n",
       "      <th>Prefix_2</th>\n",
       "      <th>Prefix_3</th>\n",
       "    </tr>\n",
       "  </thead>\n",
       "  <tbody>\n",
       "    <tr>\n",
       "      <th>0</th>\n",
       "      <td>3</td>\n",
       "      <td>1</td>\n",
       "      <td>1</td>\n",
       "      <td>0</td>\n",
       "      <td>7.2500</td>\n",
       "      <td>1</td>\n",
       "      <td>0</td>\n",
       "      <td>0</td>\n",
       "      <td>0</td>\n",
       "    </tr>\n",
       "    <tr>\n",
       "      <th>1</th>\n",
       "      <td>1</td>\n",
       "      <td>0</td>\n",
       "      <td>1</td>\n",
       "      <td>0</td>\n",
       "      <td>71.2833</td>\n",
       "      <td>0</td>\n",
       "      <td>0</td>\n",
       "      <td>1</td>\n",
       "      <td>0</td>\n",
       "    </tr>\n",
       "    <tr>\n",
       "      <th>2</th>\n",
       "      <td>3</td>\n",
       "      <td>0</td>\n",
       "      <td>0</td>\n",
       "      <td>0</td>\n",
       "      <td>7.9250</td>\n",
       "      <td>0</td>\n",
       "      <td>1</td>\n",
       "      <td>0</td>\n",
       "      <td>0</td>\n",
       "    </tr>\n",
       "    <tr>\n",
       "      <th>3</th>\n",
       "      <td>1</td>\n",
       "      <td>0</td>\n",
       "      <td>1</td>\n",
       "      <td>0</td>\n",
       "      <td>53.1000</td>\n",
       "      <td>0</td>\n",
       "      <td>0</td>\n",
       "      <td>1</td>\n",
       "      <td>0</td>\n",
       "    </tr>\n",
       "    <tr>\n",
       "      <th>4</th>\n",
       "      <td>3</td>\n",
       "      <td>1</td>\n",
       "      <td>0</td>\n",
       "      <td>0</td>\n",
       "      <td>8.0500</td>\n",
       "      <td>1</td>\n",
       "      <td>0</td>\n",
       "      <td>0</td>\n",
       "      <td>0</td>\n",
       "    </tr>\n",
       "    <tr>\n",
       "      <th>...</th>\n",
       "      <td>...</td>\n",
       "      <td>...</td>\n",
       "      <td>...</td>\n",
       "      <td>...</td>\n",
       "      <td>...</td>\n",
       "      <td>...</td>\n",
       "      <td>...</td>\n",
       "      <td>...</td>\n",
       "      <td>...</td>\n",
       "    </tr>\n",
       "    <tr>\n",
       "      <th>413</th>\n",
       "      <td>3</td>\n",
       "      <td>1</td>\n",
       "      <td>0</td>\n",
       "      <td>0</td>\n",
       "      <td>8.0500</td>\n",
       "      <td>1</td>\n",
       "      <td>0</td>\n",
       "      <td>0</td>\n",
       "      <td>0</td>\n",
       "    </tr>\n",
       "    <tr>\n",
       "      <th>414</th>\n",
       "      <td>1</td>\n",
       "      <td>0</td>\n",
       "      <td>0</td>\n",
       "      <td>0</td>\n",
       "      <td>108.9000</td>\n",
       "      <td>0</td>\n",
       "      <td>0</td>\n",
       "      <td>1</td>\n",
       "      <td>0</td>\n",
       "    </tr>\n",
       "    <tr>\n",
       "      <th>415</th>\n",
       "      <td>3</td>\n",
       "      <td>1</td>\n",
       "      <td>0</td>\n",
       "      <td>0</td>\n",
       "      <td>7.2500</td>\n",
       "      <td>1</td>\n",
       "      <td>0</td>\n",
       "      <td>0</td>\n",
       "      <td>0</td>\n",
       "    </tr>\n",
       "    <tr>\n",
       "      <th>416</th>\n",
       "      <td>3</td>\n",
       "      <td>1</td>\n",
       "      <td>0</td>\n",
       "      <td>0</td>\n",
       "      <td>8.0500</td>\n",
       "      <td>1</td>\n",
       "      <td>0</td>\n",
       "      <td>0</td>\n",
       "      <td>0</td>\n",
       "    </tr>\n",
       "    <tr>\n",
       "      <th>417</th>\n",
       "      <td>3</td>\n",
       "      <td>1</td>\n",
       "      <td>1</td>\n",
       "      <td>1</td>\n",
       "      <td>22.3583</td>\n",
       "      <td>0</td>\n",
       "      <td>0</td>\n",
       "      <td>0</td>\n",
       "      <td>1</td>\n",
       "    </tr>\n",
       "  </tbody>\n",
       "</table>\n",
       "<p>1309 rows × 9 columns</p>\n",
       "</div>"
      ],
      "text/plain": [
       "     Pclass  Sex  SibSp  Parch      Fare  Prefix_0  Prefix_1  Prefix_2  \\\n",
       "0         3    1      1      0    7.2500         1         0         0   \n",
       "1         1    0      1      0   71.2833         0         0         1   \n",
       "2         3    0      0      0    7.9250         0         1         0   \n",
       "3         1    0      1      0   53.1000         0         0         1   \n",
       "4         3    1      0      0    8.0500         1         0         0   \n",
       "..      ...  ...    ...    ...       ...       ...       ...       ...   \n",
       "413       3    1      0      0    8.0500         1         0         0   \n",
       "414       1    0      0      0  108.9000         0         0         1   \n",
       "415       3    1      0      0    7.2500         1         0         0   \n",
       "416       3    1      0      0    8.0500         1         0         0   \n",
       "417       3    1      1      1   22.3583         0         0         0   \n",
       "\n",
       "     Prefix_3  \n",
       "0           0  \n",
       "1           0  \n",
       "2           0  \n",
       "3           0  \n",
       "4           0  \n",
       "..        ...  \n",
       "413         0  \n",
       "414         0  \n",
       "415         0  \n",
       "416         0  \n",
       "417         1  \n",
       "\n",
       "[1309 rows x 9 columns]"
      ]
     },
     "execution_count": 8,
     "metadata": {},
     "output_type": "execute_result"
    }
   ],
   "source": [
    "# One-hot encode the 'Prefix' Column\n",
    "\n",
    "full_data = pd.concat([full_data, pd.get_dummies(full_data[\"Prefix\"], prefix=\"Prefix\")], axis=1)\n",
    "full_data = full_data.drop(\"Prefix\", axis=1)\n",
    "full_data"
   ]
  },
  {
   "cell_type": "code",
   "execution_count": 9,
   "id": "0856f59a",
   "metadata": {
    "execution": {
     "iopub.execute_input": "2023-03-02T15:35:11.875025Z",
     "iopub.status.busy": "2023-03-02T15:35:11.874616Z",
     "iopub.status.idle": "2023-03-02T15:35:12.988479Z",
     "shell.execute_reply": "2023-03-02T15:35:12.987309Z"
    },
    "papermill": {
     "duration": 1.123483,
     "end_time": "2023-03-02T15:35:12.990928",
     "exception": false,
     "start_time": "2023-03-02T15:35:11.867445",
     "status": "completed"
    },
    "tags": []
   },
   "outputs": [
    {
     "data": {
      "text/html": [
       "<div>\n",
       "<style scoped>\n",
       "    .dataframe tbody tr th:only-of-type {\n",
       "        vertical-align: middle;\n",
       "    }\n",
       "\n",
       "    .dataframe tbody tr th {\n",
       "        vertical-align: top;\n",
       "    }\n",
       "\n",
       "    .dataframe thead th {\n",
       "        text-align: right;\n",
       "    }\n",
       "</style>\n",
       "<table border=\"1\" class=\"dataframe\">\n",
       "  <thead>\n",
       "    <tr style=\"text-align: right;\">\n",
       "      <th></th>\n",
       "      <th>Pclass</th>\n",
       "      <th>Sex</th>\n",
       "      <th>SibSp</th>\n",
       "      <th>Parch</th>\n",
       "      <th>Fare</th>\n",
       "      <th>Prefix_0</th>\n",
       "      <th>Prefix_1</th>\n",
       "      <th>Prefix_2</th>\n",
       "      <th>Prefix_3</th>\n",
       "    </tr>\n",
       "  </thead>\n",
       "  <tbody>\n",
       "    <tr>\n",
       "      <th>0</th>\n",
       "      <td>0.841916</td>\n",
       "      <td>0.743497</td>\n",
       "      <td>0.481288</td>\n",
       "      <td>-0.445000</td>\n",
       "      <td>-0.503402</td>\n",
       "      <td>0.819619</td>\n",
       "      <td>-0.502625</td>\n",
       "      <td>-0.425920</td>\n",
       "      <td>-0.221084</td>\n",
       "    </tr>\n",
       "    <tr>\n",
       "      <th>1</th>\n",
       "      <td>-1.546098</td>\n",
       "      <td>-1.344995</td>\n",
       "      <td>0.481288</td>\n",
       "      <td>-0.445000</td>\n",
       "      <td>0.734222</td>\n",
       "      <td>-1.220079</td>\n",
       "      <td>-0.502625</td>\n",
       "      <td>2.347858</td>\n",
       "      <td>-0.221084</td>\n",
       "    </tr>\n",
       "    <tr>\n",
       "      <th>2</th>\n",
       "      <td>0.841916</td>\n",
       "      <td>-1.344995</td>\n",
       "      <td>-0.479087</td>\n",
       "      <td>-0.445000</td>\n",
       "      <td>-0.490356</td>\n",
       "      <td>-1.220079</td>\n",
       "      <td>1.989556</td>\n",
       "      <td>-0.425920</td>\n",
       "      <td>-0.221084</td>\n",
       "    </tr>\n",
       "    <tr>\n",
       "      <th>3</th>\n",
       "      <td>-1.546098</td>\n",
       "      <td>-1.344995</td>\n",
       "      <td>0.481288</td>\n",
       "      <td>-0.445000</td>\n",
       "      <td>0.382778</td>\n",
       "      <td>-1.220079</td>\n",
       "      <td>-0.502625</td>\n",
       "      <td>2.347858</td>\n",
       "      <td>-0.221084</td>\n",
       "    </tr>\n",
       "    <tr>\n",
       "      <th>4</th>\n",
       "      <td>0.841916</td>\n",
       "      <td>0.743497</td>\n",
       "      <td>-0.479087</td>\n",
       "      <td>-0.445000</td>\n",
       "      <td>-0.487940</td>\n",
       "      <td>0.819619</td>\n",
       "      <td>-0.502625</td>\n",
       "      <td>-0.425920</td>\n",
       "      <td>-0.221084</td>\n",
       "    </tr>\n",
       "    <tr>\n",
       "      <th>...</th>\n",
       "      <td>...</td>\n",
       "      <td>...</td>\n",
       "      <td>...</td>\n",
       "      <td>...</td>\n",
       "      <td>...</td>\n",
       "      <td>...</td>\n",
       "      <td>...</td>\n",
       "      <td>...</td>\n",
       "      <td>...</td>\n",
       "    </tr>\n",
       "    <tr>\n",
       "      <th>413</th>\n",
       "      <td>0.841916</td>\n",
       "      <td>0.743497</td>\n",
       "      <td>-0.479087</td>\n",
       "      <td>-0.445000</td>\n",
       "      <td>-0.487940</td>\n",
       "      <td>0.819619</td>\n",
       "      <td>-0.502625</td>\n",
       "      <td>-0.425920</td>\n",
       "      <td>-0.221084</td>\n",
       "    </tr>\n",
       "    <tr>\n",
       "      <th>414</th>\n",
       "      <td>-1.546098</td>\n",
       "      <td>-1.344995</td>\n",
       "      <td>-0.479087</td>\n",
       "      <td>-0.445000</td>\n",
       "      <td>1.461271</td>\n",
       "      <td>-1.220079</td>\n",
       "      <td>-0.502625</td>\n",
       "      <td>2.347858</td>\n",
       "      <td>-0.221084</td>\n",
       "    </tr>\n",
       "    <tr>\n",
       "      <th>415</th>\n",
       "      <td>0.841916</td>\n",
       "      <td>0.743497</td>\n",
       "      <td>-0.479087</td>\n",
       "      <td>-0.445000</td>\n",
       "      <td>-0.503402</td>\n",
       "      <td>0.819619</td>\n",
       "      <td>-0.502625</td>\n",
       "      <td>-0.425920</td>\n",
       "      <td>-0.221084</td>\n",
       "    </tr>\n",
       "    <tr>\n",
       "      <th>416</th>\n",
       "      <td>0.841916</td>\n",
       "      <td>0.743497</td>\n",
       "      <td>-0.479087</td>\n",
       "      <td>-0.445000</td>\n",
       "      <td>-0.487940</td>\n",
       "      <td>0.819619</td>\n",
       "      <td>-0.502625</td>\n",
       "      <td>-0.425920</td>\n",
       "      <td>-0.221084</td>\n",
       "    </tr>\n",
       "    <tr>\n",
       "      <th>417</th>\n",
       "      <td>0.841916</td>\n",
       "      <td>0.743497</td>\n",
       "      <td>0.481288</td>\n",
       "      <td>0.710763</td>\n",
       "      <td>-0.211392</td>\n",
       "      <td>-1.220079</td>\n",
       "      <td>-0.502625</td>\n",
       "      <td>-0.425920</td>\n",
       "      <td>4.523164</td>\n",
       "    </tr>\n",
       "  </tbody>\n",
       "</table>\n",
       "<p>1309 rows × 9 columns</p>\n",
       "</div>"
      ],
      "text/plain": [
       "       Pclass       Sex     SibSp     Parch      Fare  Prefix_0  Prefix_1  \\\n",
       "0    0.841916  0.743497  0.481288 -0.445000 -0.503402  0.819619 -0.502625   \n",
       "1   -1.546098 -1.344995  0.481288 -0.445000  0.734222 -1.220079 -0.502625   \n",
       "2    0.841916 -1.344995 -0.479087 -0.445000 -0.490356 -1.220079  1.989556   \n",
       "3   -1.546098 -1.344995  0.481288 -0.445000  0.382778 -1.220079 -0.502625   \n",
       "4    0.841916  0.743497 -0.479087 -0.445000 -0.487940  0.819619 -0.502625   \n",
       "..        ...       ...       ...       ...       ...       ...       ...   \n",
       "413  0.841916  0.743497 -0.479087 -0.445000 -0.487940  0.819619 -0.502625   \n",
       "414 -1.546098 -1.344995 -0.479087 -0.445000  1.461271 -1.220079 -0.502625   \n",
       "415  0.841916  0.743497 -0.479087 -0.445000 -0.503402  0.819619 -0.502625   \n",
       "416  0.841916  0.743497 -0.479087 -0.445000 -0.487940  0.819619 -0.502625   \n",
       "417  0.841916  0.743497  0.481288  0.710763 -0.211392 -1.220079 -0.502625   \n",
       "\n",
       "     Prefix_2  Prefix_3  \n",
       "0   -0.425920 -0.221084  \n",
       "1    2.347858 -0.221084  \n",
       "2   -0.425920 -0.221084  \n",
       "3    2.347858 -0.221084  \n",
       "4   -0.425920 -0.221084  \n",
       "..        ...       ...  \n",
       "413 -0.425920 -0.221084  \n",
       "414  2.347858 -0.221084  \n",
       "415 -0.425920 -0.221084  \n",
       "416 -0.425920 -0.221084  \n",
       "417 -0.425920  4.523164  \n",
       "\n",
       "[1309 rows x 9 columns]"
      ]
     },
     "execution_count": 9,
     "metadata": {},
     "output_type": "execute_result"
    }
   ],
   "source": [
    "# apply standard scalar\n",
    "\n",
    "from sklearn.preprocessing import StandardScaler\n",
    "\n",
    "scaler = StandardScaler()\n",
    "full_data.loc[:] = scaler.fit_transform(full_data)\n",
    "full_data"
   ]
  },
  {
   "cell_type": "code",
   "execution_count": 10,
   "id": "a73acaf4",
   "metadata": {
    "execution": {
     "iopub.execute_input": "2023-03-02T15:35:13.006354Z",
     "iopub.status.busy": "2023-03-02T15:35:13.005243Z",
     "iopub.status.idle": "2023-03-02T15:35:13.012685Z",
     "shell.execute_reply": "2023-03-02T15:35:13.011183Z"
    },
    "papermill": {
     "duration": 0.01882,
     "end_time": "2023-03-02T15:35:13.016026",
     "exception": false,
     "start_time": "2023-03-02T15:35:12.997206",
     "status": "completed"
    },
    "tags": []
   },
   "outputs": [
    {
     "name": "stdout",
     "output_type": "stream",
     "text": [
      "Train X shape: (891, 9)\n",
      "Train y shape: (891,)\n",
      "Test X shape: (418, 9)\n"
     ]
    }
   ],
   "source": [
    "# Split data back into training and test sets\n",
    "\n",
    "X_train_processed = full_data[:y_train.shape[0]]\n",
    "X_test_processed = full_data[y_train.shape[0]:]\n",
    "\n",
    "print(f\"Train X shape: {X_train_processed.shape}\")\n",
    "print(f\"Train y shape: {y_train.shape}\")\n",
    "print(f\"Test X shape: {X_test_processed.shape}\")"
   ]
  },
  {
   "cell_type": "markdown",
   "id": "a893c115",
   "metadata": {
    "papermill": {
     "duration": 0.006,
     "end_time": "2023-03-02T15:35:13.028685",
     "exception": false,
     "start_time": "2023-03-02T15:35:13.022685",
     "status": "completed"
    },
    "tags": []
   },
   "source": [
    "# Model"
   ]
  },
  {
   "cell_type": "markdown",
   "id": "bf203924",
   "metadata": {
    "papermill": {
     "duration": 0.005875,
     "end_time": "2023-03-02T15:35:13.040858",
     "exception": false,
     "start_time": "2023-03-02T15:35:13.034983",
     "status": "completed"
    },
    "tags": []
   },
   "source": [
    "Using XGB Regressor and GridSearchCV to get best results"
   ]
  },
  {
   "cell_type": "code",
   "execution_count": 11,
   "id": "33a71247",
   "metadata": {
    "execution": {
     "iopub.execute_input": "2023-03-02T15:35:13.055117Z",
     "iopub.status.busy": "2023-03-02T15:35:13.054685Z",
     "iopub.status.idle": "2023-03-02T15:37:14.748013Z",
     "shell.execute_reply": "2023-03-02T15:37:14.746630Z"
    },
    "papermill": {
     "duration": 121.703647,
     "end_time": "2023-03-02T15:37:14.750659",
     "exception": false,
     "start_time": "2023-03-02T15:35:13.047012",
     "status": "completed"
    },
    "tags": []
   },
   "outputs": [
    {
     "name": "stdout",
     "output_type": "stream",
     "text": [
      "Best parameters {'learning_rate': 0.01, 'max_depth': 9, 'n_estimators': 150}\n",
      "Mean cross-validated accuracy score of the best_estimator: 0.841\n"
     ]
    }
   ],
   "source": [
    "import xgboost as xgb\n",
    "from sklearn.model_selection import GridSearchCV\n",
    "\n",
    "parameters = {\n",
    "    'max_depth': [7, 9, 12, 15], \n",
    "    'n_estimators': [150, 200, 250],\n",
    "    'learning_rate': [0.01, 0.05, 0.1]\n",
    "}\n",
    "\n",
    "model_xgb = xgb.XGBClassifier()\n",
    "\n",
    "model_xgb = GridSearchCV(\n",
    "    model_xgb, \n",
    "    parameters, \n",
    "    cv=5,\n",
    "    scoring='accuracy',\n",
    ")\n",
    "\n",
    "model_xgb.fit(X_train_processed, y_train)\n",
    "\n",
    "print(f'Best parameters {model_xgb.best_params_}')\n",
    "print(f'Mean cross-validated accuracy score of the best_estimator: ' + \n",
    "      f'{model_xgb.best_score_:.3f}'\n",
    ")"
   ]
  },
  {
   "cell_type": "markdown",
   "id": "df213d40",
   "metadata": {
    "papermill": {
     "duration": 0.006297,
     "end_time": "2023-03-02T15:37:14.763633",
     "exception": false,
     "start_time": "2023-03-02T15:37:14.757336",
     "status": "completed"
    },
    "tags": []
   },
   "source": [
    "^ copied from https://www.kaggle.com/code/ihelon/titanic-hyperparameter-tuning-with-gridsearchcv and tweaked"
   ]
  },
  {
   "cell_type": "code",
   "execution_count": 12,
   "id": "496af868",
   "metadata": {
    "execution": {
     "iopub.execute_input": "2023-03-02T15:37:14.778879Z",
     "iopub.status.busy": "2023-03-02T15:37:14.778057Z",
     "iopub.status.idle": "2023-03-02T15:37:14.798423Z",
     "shell.execute_reply": "2023-03-02T15:37:14.797254Z"
    },
    "papermill": {
     "duration": 0.031125,
     "end_time": "2023-03-02T15:37:14.801116",
     "exception": false,
     "start_time": "2023-03-02T15:37:14.769991",
     "status": "completed"
    },
    "tags": []
   },
   "outputs": [
    {
     "name": "stdout",
     "output_type": "stream",
     "text": [
      "Your submission was successfully saved!\n"
     ]
    }
   ],
   "source": [
    "\n",
    "predictions = model_xgb.predict(X_test_processed)\n",
    "\n",
    "output = pd.DataFrame({'PassengerId': test_data.PassengerId, 'Survived': predictions})\n",
    "output.to_csv('submission.csv', index=False)\n",
    "print(\"Your submission was successfully saved!\")"
   ]
  },
  {
   "cell_type": "markdown",
   "id": "6dad43b0",
   "metadata": {
    "papermill": {
     "duration": 0.006378,
     "end_time": "2023-03-02T15:37:14.814876",
     "exception": false,
     "start_time": "2023-03-02T15:37:14.808498",
     "status": "completed"
    },
    "tags": []
   },
   "source": [
    "# Things to investigate/Improve:\n",
    "- What does including the 'Embarked' column in the training data do?\n",
    "- Ensemble other than xgb"
   ]
  }
 ],
 "metadata": {
  "kernelspec": {
   "display_name": "Python 3",
   "language": "python",
   "name": "python3"
  },
  "language_info": {
   "codemirror_mode": {
    "name": "ipython",
    "version": 3
   },
   "file_extension": ".py",
   "mimetype": "text/x-python",
   "name": "python",
   "nbconvert_exporter": "python",
   "pygments_lexer": "ipython3",
   "version": "3.7.12"
  },
  "papermill": {
   "default_parameters": {},
   "duration": 134.139708,
   "end_time": "2023-03-02T15:37:15.645299",
   "environment_variables": {},
   "exception": null,
   "input_path": "__notebook__.ipynb",
   "output_path": "__notebook__.ipynb",
   "parameters": {},
   "start_time": "2023-03-02T15:35:01.505591",
   "version": "2.3.4"
  }
 },
 "nbformat": 4,
 "nbformat_minor": 5
}
